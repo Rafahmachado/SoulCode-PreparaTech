{
  "nbformat": 4,
  "nbformat_minor": 0,
  "metadata": {
    "colab": {
      "provenance": [],
      "include_colab_link": true
    },
    "kernelspec": {
      "name": "python3",
      "display_name": "Python 3"
    },
    "language_info": {
      "name": "python"
    }
  },
  "cells": [
    {
      "cell_type": "markdown",
      "metadata": {
        "id": "view-in-github",
        "colab_type": "text"
      },
      "source": [
        "<a href=\"https://colab.research.google.com/github/Rafahmachado/SoulCode-PreparaTech/blob/main/C%C3%B3pia_de_Aula_05.ipynb\" target=\"_parent\"><img src=\"https://colab.research.google.com/assets/colab-badge.svg\" alt=\"Open In Colab\"/></a>"
      ]
    },
    {
      "cell_type": "markdown",
      "source": [
        "# Aula 05 - Strings\n"
      ],
      "metadata": {
        "id": "zD0ZcUH9VlKO"
      }
    },
    {
      "cell_type": "markdown",
      "source": [
        "## 1 - Introdução"
      ],
      "metadata": {
        "id": "djB-kYaoVzKB"
      }
    },
    {
      "cell_type": "code",
      "execution_count": null,
      "metadata": {
        "id": "F-qYaq9rTuZ9"
      },
      "outputs": [],
      "source": [
        "cliente = input('Informe o seu nome ')\n",
        "altura = float(input('Informe sua altura em metros '))\n",
        "peso = float(input('Informe se peso em Kg '))"
      ]
    },
    {
      "cell_type": "code",
      "source": [
        "print(cliente)\n",
        "print(altura)\n",
        "print(peso)\n",
        "print(type(cliente))\n",
        "print(type(altura))\n",
        "print(type(peso))"
      ],
      "metadata": {
        "colab": {
          "base_uri": "https://localhost:8080/"
        },
        "id": "wC7W0KLAXlMq",
        "outputId": "3473bc80-678d-4c02-f78c-4e55585e1241"
      },
      "execution_count": null,
      "outputs": [
        {
          "output_type": "stream",
          "name": "stdout",
          "text": [
            "Douglas\n",
            "1.85\n",
            "80.0\n",
            "<class 'str'>\n",
            "<class 'float'>\n",
            "<class 'float'>\n"
          ]
        }
      ]
    },
    {
      "cell_type": "code",
      "source": [
        "imc = peso / altura ** 2\n",
        "print(f'O cliente {cliente} tem {altura} m de altura, {peso} kg e seu imc é {imc:.2f}')"
      ],
      "metadata": {
        "colab": {
          "base_uri": "https://localhost:8080/"
        },
        "id": "LUqy1jREZF7t",
        "outputId": "707363ce-aa8f-4308-f9b4-364426b20ee9"
      },
      "execution_count": null,
      "outputs": [
        {
          "output_type": "stream",
          "name": "stdout",
          "text": [
            "O cliente Douglas tem 1.85 m de altura, 80.0 kg e seu imc é 23.37\n"
          ]
        }
      ]
    },
    {
      "cell_type": "code",
      "source": [
        "'''\n",
        "Elabore um programa que receba do usuário nome, altura e peso,\n",
        "calcule e armazena o imc, e exiba as informações do nome, altura, peso, imc e\n",
        "caso p imc seja menor ou igual a 25 exiba o texto imc ok, caso contrário\n",
        "exiba verifique a possibilidade de consultar exames médicos\n",
        "'''"
      ],
      "metadata": {
        "id": "V8skkQTzgy_4"
      },
      "execution_count": null,
      "outputs": []
    },
    {
      "cell_type": "code",
      "source": [
        "cliente = input('Informe o seu nome ')\n",
        "altura = float(input('Informe sua altura em metros '))\n",
        "peso = float(input('Informe se peso em Kg '))\n",
        "imc = peso / altura ** 2\n",
        "if imc <= 25:\n",
        "  print(f'O cliente {cliente} tem {altura} m de altura, {peso} kg e seu imc é {imc:.2f} e imc ok')\n",
        "else:\n",
        "  print(f'O cliente {cliente} tem {altura} m de altura, {peso} kg e seu imc é {imc:.2f} verifique a possibilide de realizar exames médicos')"
      ],
      "metadata": {
        "colab": {
          "base_uri": "https://localhost:8080/"
        },
        "id": "znqCE5f4pmrN",
        "outputId": "5af9fe07-6408-41b6-fa2f-a4cd248303fa"
      },
      "execution_count": null,
      "outputs": [
        {
          "output_type": "stream",
          "name": "stdout",
          "text": [
            "Informe o seu nome Douglas\n",
            "Informe sua altura em metros 1.85\n",
            "Informe se peso em Kg 80\n",
            "O cliente Douglas tem 1.85 m de altura, 80.0 kg e seu imc é 23.37 e imc ok\n"
          ]
        }
      ]
    },
    {
      "cell_type": "markdown",
      "source": [
        "## Métodos de strings"
      ],
      "metadata": {
        "id": "sSu15_8KqiSf"
      }
    },
    {
      "cell_type": "code",
      "source": [
        "# 0    1   2   3   4   5  6  7  8  9 10 11 12 13 (índice)\n",
        "# -14 -13 -12 -11 -10 -9 -8 -7 -6 -5 -4 -3 -2 -1 (índice reverso)\n",
        "# 1º 2º 3º 4º 5º 6º 7º 8º 9º 10º 11º 12º 13º 14º (ordinal)\n",
        "# d  o  u  g  @  g  m  a  i   l   .   c   o   m\n",
        "email = 'doug@gmail.com'\n",
        "# encontrando um caracter pelo índice\n",
        "# Exemplo: qual é o quinto caracter dessa string?\n",
        "print(f'O quinto caracter dessa string é: {email[4]}')\n",
        "# Exemplo: qual é o último caracter dessa string?\n",
        "print(f'O último caracter dessa string é: {email[13]}')\n",
        "# Exemplo: Quais são os caracteres que vem depois do 2º caracter (excluindo o 2º)\n",
        "print(f'A sequência caracteres dessa string após o segundo é: {email[2:]}')\n",
        "# Exemplo: Quais são todos os caracteres dessa string?\n",
        "print(f'A sequência todos os caracteres dessa string é: {email[:]}')\n",
        "# Exemplo: buscar e imprimir todos os caracteres até o caracter de índice 4 (todos os caracteres antes do @ até o @ incluindo o @)\n",
        "print(f'A sequência caracteres dessa string até o índice 4 é: {email[:5]}')\n",
        "# Exemplo como acessar o último caracter da lista sem contar o tamaho dela (sem usar a função len())?\n",
        "print(f'O último caracter dessa string é: {email[-1]}')"
      ],
      "metadata": {
        "colab": {
          "base_uri": "https://localhost:8080/"
        },
        "id": "O4-KazZLqge6",
        "outputId": "83caddb5-3e80-46f2-b6cf-6927a2e34db1"
      },
      "execution_count": null,
      "outputs": [
        {
          "output_type": "stream",
          "name": "stdout",
          "text": [
            "O quinto caracter dessa string é: @\n",
            "O último caracter dessa string é: m\n",
            "A sequência caracteres dessa string após o segundo é: ug@gmail.com\n",
            "A sequência todos os caracteres dessa string é: doug@gmail.com\n",
            "A sequência caracteres dessa string até o índice 4 é: doug@\n",
            "O último caracter dessa string é: m\n"
          ]
        }
      ]
    },
    {
      "cell_type": "code",
      "source": [
        "# Convertendo outros tipos em tipo str\n",
        "cpf = 12345678910\n",
        "print(type(cpf))\n",
        "cpf = str(cpf)\n",
        "print(type(cpf))"
      ],
      "metadata": {
        "colab": {
          "base_uri": "https://localhost:8080/"
        },
        "id": "uiiDp7flzU5W",
        "outputId": "64da7191-03ce-4453-e32a-63f100b587bf"
      },
      "execution_count": null,
      "outputs": [
        {
          "output_type": "stream",
          "name": "stdout",
          "text": [
            "<class 'int'>\n",
            "<class 'str'>\n"
          ]
        }
      ]
    },
    {
      "cell_type": "code",
      "source": [
        "# Operador IN\n",
        "'''\n",
        "O operador IN verifica se um caracter está em um string e retorna\n",
        "verdadeiro (TRUE) ou falso (FALSE)\n",
        "'''\n",
        "nome = 'Douglas'\n",
        "'uo' in nome"
      ],
      "metadata": {
        "colab": {
          "base_uri": "https://localhost:8080/"
        },
        "id": "wVS-g-pT1H1b",
        "outputId": "dd0962e2-1b21-4df7-c1ae-c7651681db6a"
      },
      "execution_count": null,
      "outputs": [
        {
          "output_type": "execute_result",
          "data": {
            "text/plain": [
              "False"
            ]
          },
          "metadata": {},
          "execution_count": 41
        }
      ]
    },
    {
      "cell_type": "code",
      "source": [
        "# Operador NOT IN\n",
        "'''\n",
        "O operador NOT IN verifica se um caracter não está em um string e retorna\n",
        "verdadeiro (TRUE) ou falso (FALSE), ele é o contrário do operador IN\n",
        "'''\n",
        "nome = 'Douglas'\n",
        "'uo' in nome\n",
        "nome = 'Douglas'\n",
        "'uo' not in nome"
      ],
      "metadata": {
        "colab": {
          "base_uri": "https://localhost:8080/"
        },
        "id": "4NbbdlLJ2BW9",
        "outputId": "e1d4ae4f-80ea-4729-a347-fbcda204fc51"
      },
      "execution_count": null,
      "outputs": [
        {
          "output_type": "execute_result",
          "data": {
            "text/plain": [
              "True"
            ]
          },
          "metadata": {},
          "execution_count": 42
        }
      ]
    },
    {
      "cell_type": "code",
      "source": [
        "# Função len\n",
        "'''\n",
        "Esta é uma função que retorna a quantidade de caracteres presentes em uma\n",
        "string\n",
        "'''\n",
        "endereco = 'Brasil'\n",
        "print(len(endereco))"
      ],
      "metadata": {
        "colab": {
          "base_uri": "https://localhost:8080/"
        },
        "id": "7Fs92OyR3Enl",
        "outputId": "91cb095e-7656-42bb-d85e-9d04ef38dc02"
      },
      "execution_count": null,
      "outputs": [
        {
          "output_type": "stream",
          "name": "stdout",
          "text": [
            "6\n"
          ]
        }
      ]
    },
    {
      "cell_type": "code",
      "source": [
        "# método capitalize\n",
        "'''\n",
        "Este método é aplicado quando queremos deixar o primeiro caracter\n",
        "de uma string como maiúsculo\n",
        "'''\n",
        "nome = 'douglas'\n",
        "print(nome)\n",
        "nome = nome.capitalize() # este método funciona em tempo de execução, se eu quiser deixar permanente a mudança é necessário sobreescrever a variável\n",
        "print(nome)"
      ],
      "metadata": {
        "colab": {
          "base_uri": "https://localhost:8080/"
        },
        "id": "A32IkmJj3mRg",
        "outputId": "455af6ca-1e9e-4b1e-8c6a-31a4937a6fa9"
      },
      "execution_count": null,
      "outputs": [
        {
          "output_type": "stream",
          "name": "stdout",
          "text": [
            "douglas\n",
            "Douglas\n"
          ]
        }
      ]
    },
    {
      "cell_type": "code",
      "source": [
        "'''\n",
        "Imagine que sua string é um nome completo e você deseja\n",
        "deixar a primeira letra de cada nome como maiúscula\n",
        "'''\n",
        "nome = 'douglas almeida ribeiro'\n",
        "print(nome)\n",
        "nome = nome.capitalize()\n",
        "print(nome)\n",
        "nome = nome.title()\n",
        "print(nome)"
      ],
      "metadata": {
        "colab": {
          "base_uri": "https://localhost:8080/"
        },
        "id": "CrY1n01V4uqu",
        "outputId": "33fc7b62-66ce-4433-a48e-edb51bbaf57b"
      },
      "execution_count": null,
      "outputs": [
        {
          "output_type": "stream",
          "name": "stdout",
          "text": [
            "douglas almeida ribeiro\n",
            "Douglas almeida ribeiro\n",
            "Douglas Almeida Ribeiro\n"
          ]
        }
      ]
    },
    {
      "cell_type": "code",
      "source": [
        "'''\n",
        "Imagine que você deseja deixar todos os caracteres de uma string\n",
        "como maiúsculos\n",
        "'''\n",
        "nome = 'douglas almeida ribeiro'\n",
        "print(nome)\n",
        "nome = nome.upper()\n",
        "print(nome)"
      ],
      "metadata": {
        "colab": {
          "base_uri": "https://localhost:8080/"
        },
        "id": "TGk2-pdc57Vz",
        "outputId": "8c07082b-4422-4a84-f03f-fa25d6eaefb1"
      },
      "execution_count": null,
      "outputs": [
        {
          "output_type": "stream",
          "name": "stdout",
          "text": [
            "douglas almeida ribeiro\n",
            "DOUGLAS ALMEIDA RIBEIRO\n"
          ]
        }
      ]
    },
    {
      "cell_type": "code",
      "source": [
        "'''\n",
        "Imagine que você deseja contar quantas vezes um determnado caracter aparece\n",
        "em uma string\n",
        "'''\n",
        "email = 'doug@gmail.com'\n",
        "email.count('o')"
      ],
      "metadata": {
        "colab": {
          "base_uri": "https://localhost:8080/"
        },
        "id": "ko7L3jdR67fj",
        "outputId": "76ab438b-bd2a-4dd5-c139-7feb3ac96b97"
      },
      "execution_count": null,
      "outputs": [
        {
          "output_type": "execute_result",
          "data": {
            "text/plain": [
              "2"
            ]
          },
          "metadata": {},
          "execution_count": 54
        }
      ]
    },
    {
      "cell_type": "code",
      "source": [
        "'''\n",
        "Imagine que você deseja saber se uma string termina com um carater ou sequencia\n",
        "de caracteres específicos e retorna com resposta verdadeiro ou falso\n",
        "'''\n",
        "email = 'doug@gmail.com'\n",
        "email.endswith('gmail.com')"
      ],
      "metadata": {
        "colab": {
          "base_uri": "https://localhost:8080/"
        },
        "id": "2E2Dchl87mMz",
        "outputId": "98e20622-4982-46f2-c643-296737d4116f"
      },
      "execution_count": null,
      "outputs": [
        {
          "output_type": "execute_result",
          "data": {
            "text/plain": [
              "True"
            ]
          },
          "metadata": {},
          "execution_count": 58
        }
      ]
    },
    {
      "cell_type": "code",
      "source": [
        "'''\n",
        "Imagine que você deseja saber se uma string começa com um ou uma sequência\n",
        "específica de caracateres\n",
        "'''\n",
        "email = 'doug@gmail.com'\n",
        "email.startswith('doug')"
      ],
      "metadata": {
        "colab": {
          "base_uri": "https://localhost:8080/"
        },
        "id": "HirGd_048bHN",
        "outputId": "f4b6d54d-dd81-4578-9ff9-dbd7432cfa3a"
      },
      "execution_count": null,
      "outputs": [
        {
          "output_type": "execute_result",
          "data": {
            "text/plain": [
              "True"
            ]
          },
          "metadata": {},
          "execution_count": 60
        }
      ]
    },
    {
      "cell_type": "code",
      "source": [
        "'''\n",
        "Imagine que você deseja vericar se o conteúdo de uma variável\n",
        "é ou não numérico. Este comando retornará verdadeiro ou falso\n",
        "conforme o caso\n",
        "'''\n",
        "cpf = '12345678910'\n",
        "cpf.isnumeric()\n",
        "cpf2 = 'umdoistresquatro'\n",
        "cpf2.isnumeric()"
      ],
      "metadata": {
        "colab": {
          "base_uri": "https://localhost:8080/"
        },
        "id": "5W7NUppF9P88",
        "outputId": "82890086-d9e1-451e-ee09-fbc289c48df0"
      },
      "execution_count": null,
      "outputs": [
        {
          "output_type": "execute_result",
          "data": {
            "text/plain": [
              "False"
            ]
          },
          "metadata": {},
          "execution_count": 63
        }
      ]
    },
    {
      "cell_type": "code",
      "source": [
        "'''\n",
        "Imagine que você deseja vericar se o conteúdo de uma variável\n",
        "é não numérico. Este comando retornará verdadeiro ou falso\n",
        "conforme o caso\n",
        "'''\n",
        "cpf = '12345678910'\n",
        "cpf.isalpha()\n",
        "cpf2 = 'umdoistresquatro'\n",
        "cpf2.isalpha()"
      ],
      "metadata": {
        "colab": {
          "base_uri": "https://localhost:8080/"
        },
        "id": "Gz3Y_GqG-E2p",
        "outputId": "beaef2a7-f583-4d8f-d0ab-6bf68cb53f65"
      },
      "execution_count": null,
      "outputs": [
        {
          "output_type": "execute_result",
          "data": {
            "text/plain": [
              "True"
            ]
          },
          "metadata": {},
          "execution_count": 65
        }
      ]
    },
    {
      "cell_type": "code",
      "source": [
        "'''\n",
        "Imagine que você deseja vericar se o conteúdo de uma variável\n",
        "é composto por letras e números. Este comando retornará verdadeiro ou falso\n",
        "conforme o caso\n",
        "'''\n",
        "cpf3 = '1dois3quatro'\n",
        "cpf.isalnum()"
      ],
      "metadata": {
        "colab": {
          "base_uri": "https://localhost:8080/"
        },
        "id": "gu0pGSjd-bbT",
        "outputId": "c1015c40-c30c-466b-b2ad-ecd6a1f7b35b"
      },
      "execution_count": null,
      "outputs": [
        {
          "output_type": "execute_result",
          "data": {
            "text/plain": [
              "True"
            ]
          },
          "metadata": {},
          "execution_count": 66
        }
      ]
    },
    {
      "cell_type": "code",
      "source": [
        "'''\n",
        "Imagine que você deseja eliminar espaçõs indesejados no começo e/ou no\n",
        "final de uma string\n",
        "'''\n",
        "funcionario = ' Douglas'\n",
        "print(funcionario)\n",
        "print(len(funcionario))\n",
        "funcionario = funcionario.strip()\n",
        "print(funcionario)\n",
        "print(len(funcionario))"
      ],
      "metadata": {
        "colab": {
          "base_uri": "https://localhost:8080/"
        },
        "id": "8i5im0vgPpIG",
        "outputId": "1e725f54-36ef-44ec-96a0-7ab3eb1db499"
      },
      "execution_count": null,
      "outputs": [
        {
          "output_type": "stream",
          "name": "stdout",
          "text": [
            " Douglas\n",
            "8\n",
            "Douglas\n",
            "7\n"
          ]
        }
      ]
    },
    {
      "cell_type": "code",
      "source": [
        "'''\n",
        "Imagine que você deseja substituir um determinado caractere por outro\n",
        "'''\n",
        "preco = 'R$ 10.50'\n",
        "print(preco)\n",
        "preco = preco.replace('.',',')\n",
        "print(preco)"
      ],
      "metadata": {
        "colab": {
          "base_uri": "https://localhost:8080/"
        },
        "id": "3kQPYA9tQdku",
        "outputId": "7a59ad39-6098-4b0d-810c-88c3a1806ae8"
      },
      "execution_count": null,
      "outputs": [
        {
          "output_type": "stream",
          "name": "stdout",
          "text": [
            "R$ 10.50\n",
            "R$ 10,50\n"
          ]
        }
      ]
    },
    {
      "cell_type": "code",
      "source": [
        "'''\n",
        "imagine que você precisa dividir uma string em duas ou mais substrings\n",
        "'''\n",
        "nome_completo = 'Douglas Ribeiro'\n",
        "print(nome_completo)\n",
        "novo_nome = nome_completo.split()\n",
        "print(novo_nome)\n",
        "print(type(nome_completo))\n",
        "print(type(novo_nome))"
      ],
      "metadata": {
        "id": "1p-uzX_NSF-u"
      },
      "execution_count": null,
      "outputs": []
    },
    {
      "cell_type": "code",
      "source": [
        "'''\n",
        "Crie um programa que receba do usuário dois ou mais nomes separados\n",
        "por espaços e no mesmo input e os armazene em uma variável chamada nomes\n",
        "'''"
      ],
      "metadata": {
        "id": "MjdIdjsdWtPn"
      },
      "execution_count": null,
      "outputs": []
    },
    {
      "cell_type": "code",
      "source": [
        "dados = input('Informe os nomes (seprados por espaços) que deseja cadastrar ')\n",
        "nomes = dados.split()\n",
        "print(nomes)"
      ],
      "metadata": {
        "colab": {
          "base_uri": "https://localhost:8080/"
        },
        "id": "CFGObyfGYHCA",
        "outputId": "fc64426a-3c64-4a5d-98d5-953b493f12e0"
      },
      "execution_count": null,
      "outputs": [
        {
          "output_type": "stream",
          "name": "stdout",
          "text": [
            "Informe os nomes (seprados por espaços) que deseja cadastrar Douglas Daniela Pedro Maria\n",
            "['Douglas', 'Daniela', 'Pedro', 'Maria']\n"
          ]
        }
      ]
    },
    {
      "cell_type": "code",
      "source": [
        "'''\n",
        "Exemplo adicional:\n",
        "'''\n",
        "email = 'doug@gmail.com'\n",
        "lista = email.split('@')\n",
        "print(lista)"
      ],
      "metadata": {
        "colab": {
          "base_uri": "https://localhost:8080/"
        },
        "id": "yd9gvUPKYsT-",
        "outputId": "4a734e14-acc5-4cd5-b724-f2c44507e3de"
      },
      "execution_count": null,
      "outputs": [
        {
          "output_type": "stream",
          "name": "stdout",
          "text": [
            "['doug', 'gmail.com']\n"
          ]
        }
      ]
    },
    {
      "cell_type": "code",
      "source": [
        "'''\n",
        "Imagine que você deseja saber o índice de um determiando\n",
        "caractere dentro de uma string\n",
        "'''\n",
        "email = 'doug@gmail.com'\n",
        "email.find('@')"
      ],
      "metadata": {
        "colab": {
          "base_uri": "https://localhost:8080/"
        },
        "id": "xDT6Iilkc9yA",
        "outputId": "732ce252-2237-4ff5-c7fc-536d43c78bcf"
      },
      "execution_count": null,
      "outputs": [
        {
          "output_type": "execute_result",
          "data": {
            "text/plain": [
              "4"
            ]
          },
          "metadata": {},
          "execution_count": 77
        }
      ]
    },
    {
      "cell_type": "markdown",
      "source": [
        "## 2 - Estruturas de dados"
      ],
      "metadata": {
        "id": "x_p_gkC2dsYX"
      }
    },
    {
      "cell_type": "markdown",
      "source": [
        "### 2.1 - Listas"
      ],
      "metadata": {
        "id": "mWy5M-TXdxgJ"
      }
    },
    {
      "cell_type": "code",
      "source": [
        "# Uma lista é um objeto que pode ser vazio, ou ter um ou mais itens\n",
        "lista = ['dado1', 'dado2','dado3','dado4', 'dado_n']\n",
        "#índices    0         1       2       3       4       ou:\n",
        "#          -5        -4      -3      -2      -1\n",
        "print(f'O quinto elemento da lista é {lista[4]}')\n",
        "print(f'O quinto elemento da lista é {lista[-1]}')"
      ],
      "metadata": {
        "id": "6rt4qmrxdwys"
      },
      "execution_count": null,
      "outputs": []
    },
    {
      "cell_type": "code",
      "source": [
        "dados = input('Informe os nomes (seprados por espaços) que deseja cadastrar ')\n",
        "nomes = dados.split()\n",
        "print(nomes)"
      ],
      "metadata": {
        "colab": {
          "base_uri": "https://localhost:8080/"
        },
        "id": "izgpIA_celQq",
        "outputId": "a497296e-de4f-4a7a-8c56-6c62e9c860ff"
      },
      "execution_count": null,
      "outputs": [
        {
          "output_type": "stream",
          "name": "stdout",
          "text": [
            "Informe os nomes (seprados por espaços) que deseja cadastrar Douglas Daniela Pedro Maria Eduardo Ester\n",
            "['Douglas', 'Daniela', 'Pedro', 'Maria', 'Eduardo', 'Ester']\n"
          ]
        }
      ]
    },
    {
      "cell_type": "code",
      "source": [
        "print(f'O 6º nome da lista é {nomes[5]}')"
      ],
      "metadata": {
        "colab": {
          "base_uri": "https://localhost:8080/"
        },
        "id": "dJ5p1EpJfKRU",
        "outputId": "0d70820e-714d-474a-da95-1511ca119bbf"
      },
      "execution_count": null,
      "outputs": [
        {
          "output_type": "stream",
          "name": "stdout",
          "text": [
            "O 6º nome da lista é Ester\n"
          ]
        }
      ]
    },
    {
      "cell_type": "code",
      "source": [
        "# função len (Contagem do número de dados da lista)\n",
        "produtos = ['monitor', 'celular', 'notebook', 'desktop', 'impressora', 'teclado']\n",
        "precos = [600, 2000, 5000, 3000, 1500, 200]\n",
        "vendas = [300, 500, 100, 700, 500, 1000]\n",
        "estoque_ini = [5000]*6\n",
        "print(produtos)\n",
        "print(precos)\n",
        "print(vendas)\n",
        "print(estoque_ini)"
      ],
      "metadata": {
        "colab": {
          "base_uri": "https://localhost:8080/"
        },
        "id": "SEmWtmzDfwuR",
        "outputId": "f7c2012e-bb6c-4f36-bb11-9e0bd3a7a105"
      },
      "execution_count": null,
      "outputs": [
        {
          "output_type": "stream",
          "name": "stdout",
          "text": [
            "['monitor', 'celular', 'notebook', 'desktop', 'impressora', 'teclado']\n",
            "[600, 2000, 5000, 3000, 1500, 200]\n",
            "[300, 500, 100, 700, 500, 1000]\n",
            "[5000, 5000, 5000, 5000, 5000, 5000]\n"
          ]
        }
      ]
    },
    {
      "cell_type": "code",
      "source": [
        "'''\n",
        "A função len também pode ser usada em listas, para contar\n",
        "quantos elementos existem na lista\n",
        "'''\n",
        "produtos = ['monitor', 'celular', 'notebook', 'desktop', 'impressora', 'teclado']\n",
        "descarte = []\n",
        "print(produtos)\n",
        "print(descarte)\n",
        "print(len(produtos))\n",
        "print(len(descarte))"
      ],
      "metadata": {
        "colab": {
          "base_uri": "https://localhost:8080/"
        },
        "id": "S9kZ6XUSh5_S",
        "outputId": "b934ad9e-157c-45ad-f8db-aed7da2a7a99"
      },
      "execution_count": null,
      "outputs": [
        {
          "output_type": "stream",
          "name": "stdout",
          "text": [
            "['monitor', 'celular', 'notebook', 'desktop', 'impressora', 'teclado']\n",
            "[]\n",
            "6\n",
            "0\n"
          ]
        }
      ]
    },
    {
      "cell_type": "code",
      "source": [
        "'''\n",
        "Inserindo valores em uma lista pelo método append\n",
        "'''\n",
        "descarte = []\n",
        "print(descarte)\n",
        "descarte.append('bateria') # por padrão o método append vai inserir o elemento sempre na última posição, mantendo os demais que eventualmente já existam\n",
        "print(descarte)\n",
        "descarte.append('mouse')\n",
        "print(descarte)\n",
        "descarte.append('pizza')\n",
        "print(descarte)\n",
        "descarte.append('adaptador')\n",
        "print(descarte)"
      ],
      "metadata": {
        "colab": {
          "base_uri": "https://localhost:8080/"
        },
        "id": "kXz3FXFTig97",
        "outputId": "d39ada92-0cec-4dfd-eb6e-dc5854ac05d6"
      },
      "execution_count": null,
      "outputs": [
        {
          "output_type": "stream",
          "name": "stdout",
          "text": [
            "[]\n",
            "['bateria']\n",
            "['bateria', 'mouse']\n",
            "['bateria', 'mouse', 'pizza']\n",
            "['bateria', 'mouse', 'pizza', 'adaptador']\n"
          ]
        }
      ]
    },
    {
      "cell_type": "code",
      "source": [
        "'''\n",
        "Imagine que você deseja inserir um novo elemento na lista (webcam) e esse\n",
        "novo elemento fique armazenado em uma posição específica por exemplo a primeira\n",
        "'''\n",
        "descarte.insert(0,'webcam')\n",
        "print(descarte)"
      ],
      "metadata": {
        "colab": {
          "base_uri": "https://localhost:8080/"
        },
        "id": "K74_6WZPkZXr",
        "outputId": "b7506c29-889b-477d-d36a-e4488fb5897e"
      },
      "execution_count": null,
      "outputs": [
        {
          "output_type": "stream",
          "name": "stdout",
          "text": [
            "['webcam', 'bateria', 'mouse', 'pizza', 'adaptador']\n"
          ]
        }
      ]
    },
    {
      "cell_type": "code",
      "source": [
        "'''\n",
        "Imagine que você deseja inserir um novo elemento na lista (webcam) e esse\n",
        "novo elemento fique armazenado em uma posição específica por exemplo a primeira,\n",
        "no entanto, substituindo quem estiver na primeira posição por exemplo\n",
        "'''\n",
        "descarte = ['bateria', 'mouse', 'pizza', 'adaptador']\n",
        "print(descarte)\n",
        "descarte[0] = 'webcam'\n",
        "print(descarte)"
      ],
      "metadata": {
        "colab": {
          "base_uri": "https://localhost:8080/"
        },
        "id": "vfkHo_GlmHsG",
        "outputId": "4d5ea6e3-fcf2-47a3-bf03-9df23e790082"
      },
      "execution_count": null,
      "outputs": [
        {
          "output_type": "stream",
          "name": "stdout",
          "text": [
            "['bateria', 'mouse', 'pizza', 'adaptador']\n",
            "['webcam', 'mouse', 'pizza', 'adaptador']\n"
          ]
        }
      ]
    },
    {
      "cell_type": "code",
      "source": [
        "'''\n",
        "Imagine que você deseja excluir um elemento tendo como\n",
        "referência o seu índice\n",
        "'''\n",
        "descarte = ['bateria', 'mouse', 'pizza', 'adaptador']\n",
        "print(descarte)\n",
        "descarte.pop(1)\n",
        "print(descarte)"
      ],
      "metadata": {
        "colab": {
          "base_uri": "https://localhost:8080/"
        },
        "id": "uWVImN3aqT2P",
        "outputId": "fdb76397-1343-4cec-d692-5e381c266c2d"
      },
      "execution_count": null,
      "outputs": [
        {
          "output_type": "stream",
          "name": "stdout",
          "text": [
            "['bateria', 'mouse', 'pizza', 'adaptador']\n",
            "['bateria', 'pizza', 'adaptador']\n"
          ]
        }
      ]
    },
    {
      "cell_type": "code",
      "source": [
        "'''\n",
        "Imagine que você deseja excluir um elemento tendo como\n",
        "referência o seu nome\n",
        "'''\n",
        "descarte = ['bateria', 'mouse', 'pizza', 'adaptador']\n",
        "print(descarte)\n",
        "descarte.remove('mouse')\n",
        "print(descarte)"
      ],
      "metadata": {
        "colab": {
          "base_uri": "https://localhost:8080/"
        },
        "id": "pvtIq-kUq5yZ",
        "outputId": "9183c49f-8f10-42b9-aff9-2c57da9e7bb4"
      },
      "execution_count": null,
      "outputs": [
        {
          "output_type": "stream",
          "name": "stdout",
          "text": [
            "['bateria', 'mouse', 'pizza', 'adaptador']\n",
            "['bateria', 'pizza', 'adaptador']\n"
          ]
        }
      ]
    },
    {
      "cell_type": "code",
      "source": [
        "'''\n",
        "Encontrando a posição de um determinado dado em uma\n",
        "lista pelo método index\n",
        "'''\n",
        "# função len (Contagem do número de dados da lista)\n",
        "produtos = ['monitor', 'celular', 'notebook', 'desktop', 'impressora', 'teclado']\n",
        "precos = [600, 2000, 5000, 3000, 1500, 200]\n",
        "vendas = [300, 500, 100, 700, 500, 1000]\n",
        "estoque_ini = [5000]*6\n",
        "'''\n",
        "Como encontrar o índice de um determinado dado em uma lista\n",
        "'''\n",
        "i = produtos.index('notebook')\n",
        "print(i)"
      ],
      "metadata": {
        "colab": {
          "base_uri": "https://localhost:8080/"
        },
        "id": "6dkxFyHCrWrn",
        "outputId": "710081fa-5e10-405b-c5af-171c9e77c8f7"
      },
      "execution_count": null,
      "outputs": [
        {
          "output_type": "stream",
          "name": "stdout",
          "text": [
            "2\n"
          ]
        }
      ]
    },
    {
      "cell_type": "code",
      "source": [
        "# operador in\n",
        "'''\n",
        "Ele percorrerá a lista e verificará se o dado procurado\n",
        "existe ou não na lista e retornará True se existir ou False\n",
        "se não existir\n",
        "'''\n",
        "# operador not in\n",
        "'''\n",
        "Ele percorrerá a lista e verificará se o dado procurado\n",
        "não existe na lista e retornará True se não existir ou False\n",
        "se existir\n",
        "'''\n",
        "descarte = ['bateria', 'mouse', 'pizza', 'adaptador']\n",
        "'''\n",
        "Nosso objetivo é procurar se mouse existe ou não na lista\n",
        "'''\n",
        "'abacaxi' in descarte"
      ],
      "metadata": {
        "colab": {
          "base_uri": "https://localhost:8080/"
        },
        "id": "ZosQ_QLUsYXm",
        "outputId": "a31f112a-10f7-4535-fddb-7333648fe917"
      },
      "execution_count": null,
      "outputs": [
        {
          "output_type": "execute_result",
          "data": {
            "text/plain": [
              "False"
            ]
          },
          "metadata": {},
          "execution_count": 109
        }
      ]
    },
    {
      "cell_type": "code",
      "source": [
        "'''\n",
        "Crie um programa para fazer uma consulta de estoque.\n",
        "O usuário do programa deve inserir o nome do produto e,\n",
        "caso ele não exista na lista, ele deve ser avisado.\n",
        "Caso exista, o programa deve dizer a quantidade de unidades\n",
        "em estoque do produto\n",
        "'''\n",
        "produtos = ['monitor', 'celular', 'notebook', 'desktop', 'impressora', 'teclado']\n",
        "precos = [600, 2000, 5000, 3000, 1500, 200]\n",
        "vendas = [300, 500, 100, 700, 500, 1000]\n",
        "estoque_ini = [5000]*6\n",
        "produto = input('Informe o produto que deseja consultar ')\n",
        "if produto not in produtos:\n",
        "  print(f'O produto {produto} não existe em nossa loja, favor consultar outro produto')\n",
        "else:\n",
        "  i = produtos.index(produto)\n",
        "  print(f'O produto {produto} tem {estoque_ini[i]} unidades')"
      ],
      "metadata": {
        "colab": {
          "base_uri": "https://localhost:8080/"
        },
        "id": "kCnkbdC5tYYC",
        "outputId": "8592c94f-2992-42eb-a378-ea888a7d72ff"
      },
      "execution_count": null,
      "outputs": [
        {
          "output_type": "stream",
          "name": "stdout",
          "text": [
            "Informe o produto que deseja consultar celular\n",
            "O produto celular tem 5000 unidades\n"
          ]
        }
      ]
    },
    {
      "cell_type": "code",
      "source": [
        "'''\n",
        "Objetivo - Crie um programa para fazer uma consulta de estoque.\n",
        "\n",
        "Passo 1: O usuário do programa deve inserir o nome do produto e,\n",
        "\n",
        "Passo 2: caso ele não exista na lista, ele deve ser avisado.\n",
        "\n",
        "Passo 3:Caso exista, o programa deve dizer a quantidade de unidades\n",
        "em estoque do produto, seu preço e a sua quantidade vendida no último período\n",
        "'''\n",
        "'''\n",
        "Crie um programa para fazer uma consulta de estoque.\n",
        "O usuário do programa deve inserir o nome do produto e,\n",
        "caso ele não exista na lista, ele deve ser avisado.\n",
        "Caso exista, o programa deve dizer a quantidade de unidades\n",
        "em estoque do produto\n",
        "'''\n",
        "produtos = ['monitor', 'celular', 'notebook', 'desktop', 'impressora', 'teclado']\n",
        "precos = [600, 2000, 5000, 3000, 1500, 200]\n",
        "vendas = [300, 500, 100, 700, 500, 1000]\n",
        "estoque_ini = [5000]*6\n",
        "produto = input('Informe o produto que deseja consultar ')\n",
        "if produto not in produtos:\n",
        "  print(f'O produto {produto} não existe em nossa loja, favor consultar outro produto')\n",
        "else:\n",
        "  i = produtos.index(produto)\n",
        "  print(f'O produto {produto} tem {estoque_ini[i]} unidades, seu preço é R$ {precos[i]} e no último período foram vendidas {vendas[i]} unidades')"
      ],
      "metadata": {
        "colab": {
          "base_uri": "https://localhost:8080/"
        },
        "id": "TxTFeaUgw5Tz",
        "outputId": "d0b8f87e-aa3f-47a1-af15-5699d7ca0d52"
      },
      "execution_count": null,
      "outputs": [
        {
          "output_type": "stream",
          "name": "stdout",
          "text": [
            "Informe o produto que deseja consultar desktop\n",
            "O produto desktop tem 5000 unidades, seu preço é R$ 3000 e no último período foram vendidas 700 unidades\n"
          ]
        }
      ]
    },
    {
      "cell_type": "code",
      "source": [
        "produtos.append(input('informe o produto que deseja cadastrar '))\n",
        "print(produtos)"
      ],
      "metadata": {
        "colab": {
          "base_uri": "https://localhost:8080/"
        },
        "id": "_5zMtaMB03sZ",
        "outputId": "68db2e67-82e0-42e1-e4fb-b29429af0520"
      },
      "execution_count": null,
      "outputs": [
        {
          "output_type": "stream",
          "name": "stdout",
          "text": [
            "informe o produto que deseja cadastrar mouse\n",
            "['monitor', 'celular', 'notebook', 'desktop', 'impressora', 'teclado', 'mouse']\n"
          ]
        }
      ]
    }
  ]
}
