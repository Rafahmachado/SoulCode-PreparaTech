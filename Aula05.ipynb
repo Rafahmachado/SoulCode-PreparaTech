{
  "nbformat": 4,
  "nbformat_minor": 0,
  "metadata": {
    "colab": {
      "provenance": [],
      "authorship_tag": "ABX9TyN1JoduGkKJIIOi796FUNov",
      "include_colab_link": true
    },
    "kernelspec": {
      "name": "python3",
      "display_name": "Python 3"
    },
    "language_info": {
      "name": "python"
    }
  },
  "cells": [
    {
      "cell_type": "markdown",
      "metadata": {
        "id": "view-in-github",
        "colab_type": "text"
      },
      "source": [
        "<a href=\"https://colab.research.google.com/github/Rafahmachado/SoulCode-PreparaTech/blob/main/Aula05.ipynb\" target=\"_parent\"><img src=\"https://colab.research.google.com/assets/colab-badge.svg\" alt=\"Open In Colab\"/></a>"
      ]
    },
    {
      "cell_type": "markdown",
      "source": [
        "Aula 5 Douglas Ribeiro 24/01\n",
        "\n",
        "* Strings\n",
        "* Estrutura de Dados"
      ],
      "metadata": {
        "id": "z35H04IY3LJi"
      }
    },
    {
      "cell_type": "code",
      "source": [
        "cliente = input('Informe o seu nome ')\n",
        "altura = float(input('Informe sua altura em metros '))\n",
        "peso = float(input('Informe se peso em Kg '))"
      ],
      "metadata": {
        "colab": {
          "base_uri": "https://localhost:8080/"
        },
        "id": "KpER1BfX-ELb",
        "outputId": "f34b3031-6e81-4c86-bce5-eb19a4590c25"
      },
      "execution_count": 17,
      "outputs": [
        {
          "name": "stdout",
          "output_type": "stream",
          "text": [
            "Informe o seu nome Douglas\n",
            "Informe sua altura em metros 1.85\n",
            "Informe se peso em Kg 80\n"
          ]
        }
      ]
    },
    {
      "cell_type": "code",
      "source": [
        "print(cliente)\n",
        "print(altura)\n",
        "print(peso)\n",
        "print(type(cliente))\n",
        "print(type(altura))\n",
        "print(type(peso))"
      ],
      "metadata": {
        "colab": {
          "base_uri": "https://localhost:8080/"
        },
        "id": "SEkW7ib4-UAr",
        "outputId": "055cfdeb-88b5-4940-e56e-2ba399cfc039"
      },
      "execution_count": 18,
      "outputs": [
        {
          "output_type": "stream",
          "name": "stdout",
          "text": [
            "Douglas\n",
            "1.85\n",
            "80.0\n",
            "<class 'str'>\n",
            "<class 'float'>\n",
            "<class 'float'>\n"
          ]
        }
      ]
    },
    {
      "cell_type": "code",
      "source": [
        "imc = peso / altura ** 2\n",
        "print(f'O cliente {cliente} tem {altura} m de altura, {peso} kg e seu imc é {imc:.2f}')\n",
        ""
      ],
      "metadata": {
        "colab": {
          "base_uri": "https://localhost:8080/"
        },
        "id": "t89Dld58-iw9",
        "outputId": "70ec2e25-c71c-4d9c-a9ca-9630a7728c70"
      },
      "execution_count": 19,
      "outputs": [
        {
          "output_type": "stream",
          "name": "stdout",
          "text": [
            "O cliente Douglas tem 1.85 m de altura, 80.0 kg e seu imc é 23.37\n"
          ]
        }
      ]
    },
    {
      "cell_type": "code",
      "source": [
        "'''\n",
        "Elabore um programa que receba do usuário nome, altura e peso,\n",
        "calcule e armazena o imc, e exiba as informações do nome, altura, peso, imc e\n",
        "caso p imc seja menor ou igual a 25 exiba o texto imc ok, caso contrário\n",
        "exiba verifique a possibilidade de consultar exames médicos\n",
        "'''\n",
        "cliente = input('Informe o seu nome ')\n",
        "altura = float(input('Informe sua altura em metros '))\n",
        "peso = float(input('Informe se peso em Kg '))\n",
        "imc = peso / altura ** 2\n",
        "if imc <= 25:\n",
        "  print(f'O cliente {cliente} tem {altura} m de altura, {peso} kg e seu imc é {imc:.2f} e imc ok')\n",
        "else:\n",
        "  print(f'O cliente {cliente} tem {altura} m de altura, {peso} kg e seu imc é {imc:.2f} verifique a possibilide de realizar exames médicos')"
      ],
      "metadata": {
        "colab": {
          "base_uri": "https://localhost:8080/"
        },
        "id": "CLG-TlJH-nVq",
        "outputId": "a078361a-ff13-46e5-f746-713c3461b7f0"
      },
      "execution_count": 20,
      "outputs": [
        {
          "output_type": "stream",
          "name": "stdout",
          "text": [
            "Informe o seu nome Douglas\n",
            "Informe sua altura em metros 1.85\n",
            "Informe se peso em Kg 80\n",
            "O cliente Douglas tem 1.85 m de altura, 80.0 kg e seu imc é 23.37 e imc ok\n"
          ]
        }
      ]
    },
    {
      "cell_type": "markdown",
      "source": [
        "* Métodos de Strings\n"
      ],
      "metadata": {
        "id": "u-_BAgTV_OUZ"
      }
    },
    {
      "cell_type": "code",
      "source": [
        "# 0    1   2   3   4   5  6  7  8  9 10 11 12 13 (índice)\n",
        "# -14 -13 -12 -11 -10 -9 -8 -7 -6 -5 -4 -3 -2 -1 (índice reverso)\n",
        "# 1º 2º 3º 4º 5º 6º 7º 8º 9º 10º 11º 12º 13º 14º (ordinal)\n",
        "# d  o  u  g  @  g  m  a  i   l   .   c   o   m\n",
        "email = 'doug@gmail.com'\n",
        "# encontrando um caracter pelo índice\n",
        "# Exemplo: qual é o quinto caracter dessa string?\n",
        "print(f'O quinto caracter dessa string é: {email[4]}')\n",
        "# Exemplo: qual é o último caracter dessa string?\n",
        "print(f'O último caracter dessa string é: {email[13]}')\n",
        "# Exemplo: Quais são os caracteres que vem depois do 2º caracter (excluindo o 2º)\n",
        "print(f'A sequência caracteres dessa string após o segundo é: {email[2:]}')\n",
        "# Exemplo: Quais são todos os caracteres dessa string?\n",
        "print(f'A sequência todos os caracteres dessa string é: {email[:]}')\n",
        "# Exemplo: buscar e imprimir todos os caracteres até o caracter de índice 4 (todos os caracteres antes do @ até o @ incluindo o @)\n",
        "print(f'A sequência caracteres dessa string até o índice 4 é: {email[:5]}')\n",
        "# Exemplo como acessar o último caracter da lista sem contar o tamaho dela (sem usar a função len())?\n",
        "print(f'O último caracter dessa string é: {email[-1]}')\n",
        ""
      ],
      "metadata": {
        "colab": {
          "base_uri": "https://localhost:8080/"
        },
        "id": "kkx7dctq_HHh",
        "outputId": "2d3034f6-7e2c-483c-f10c-acb495a7fbc0"
      },
      "execution_count": 21,
      "outputs": [
        {
          "output_type": "stream",
          "name": "stdout",
          "text": [
            "O quinto caracter dessa string é: @\n",
            "O último caracter dessa string é: m\n",
            "A sequência caracteres dessa string após o segundo é: ug@gmail.com\n",
            "A sequência todos os caracteres dessa string é: doug@gmail.com\n",
            "A sequência caracteres dessa string até o índice 4 é: doug@\n",
            "O último caracter dessa string é: m\n"
          ]
        }
      ]
    },
    {
      "cell_type": "code",
      "source": [
        "# Convertendo outros tipos em tipo str\n",
        "cpf = 12345678910\n",
        "print(type(cpf))\n",
        "cpf = str(cpf)\n",
        "print(type(cpf))"
      ],
      "metadata": {
        "colab": {
          "base_uri": "https://localhost:8080/"
        },
        "id": "iBoQfpE2__UJ",
        "outputId": "36a85794-2e86-4759-8b3e-23722519ccb5"
      },
      "execution_count": 22,
      "outputs": [
        {
          "output_type": "stream",
          "name": "stdout",
          "text": [
            "<class 'int'>\n",
            "<class 'str'>\n"
          ]
        }
      ]
    },
    {
      "cell_type": "code",
      "source": [
        "# Operador IN\n",
        "'''\n",
        "O operador IN verifica se um caracter está em um string e retorna\n",
        "verdadeiro (TRUE) ou falso (FALSE)\n",
        "'''\n",
        "nome = 'Douglas'\n",
        "'uo' in nome\n",
        ""
      ],
      "metadata": {
        "colab": {
          "base_uri": "https://localhost:8080/"
        },
        "id": "6bRYBhMuAF7f",
        "outputId": "86a3066d-2f1d-467d-b451-f1a6daf7030f"
      },
      "execution_count": 23,
      "outputs": [
        {
          "output_type": "execute_result",
          "data": {
            "text/plain": [
              "False"
            ]
          },
          "metadata": {},
          "execution_count": 23
        }
      ]
    },
    {
      "cell_type": "code",
      "source": [
        "# Operador NOT IN\n",
        "'''\n",
        "O operador NOT IN verifica se um caracter não está em um string e retorna\n",
        "verdadeiro (TRUE) ou falso (FALSE), ele é o contrário do operador IN\n",
        "'''\n",
        "nome = 'Douglas'\n",
        "'uo' in nome\n",
        "nome = 'Douglas'\n",
        "'uo' not in nome"
      ],
      "metadata": {
        "colab": {
          "base_uri": "https://localhost:8080/"
        },
        "id": "kULMy5IIASGZ",
        "outputId": "f16dfaa4-2f7f-4146-d941-e4216a09ef3c"
      },
      "execution_count": 24,
      "outputs": [
        {
          "output_type": "execute_result",
          "data": {
            "text/plain": [
              "True"
            ]
          },
          "metadata": {},
          "execution_count": 24
        }
      ]
    },
    {
      "cell_type": "code",
      "source": [
        "# Função len\n",
        "'''\n",
        "Esta é uma função que retorna a quantidade de caracteres presentes em uma\n",
        "string\n",
        "'''\n",
        "endereco = 'Brasil'\n",
        "print(len(endereco))"
      ],
      "metadata": {
        "colab": {
          "base_uri": "https://localhost:8080/"
        },
        "id": "dMEREtrx_0j4",
        "outputId": "73f3df0f-dec8-4f19-ab2c-1af8de76d96b"
      },
      "execution_count": 25,
      "outputs": [
        {
          "output_type": "stream",
          "name": "stdout",
          "text": [
            "6\n"
          ]
        }
      ]
    },
    {
      "cell_type": "code",
      "source": [
        "# método capitalize\n",
        "'''\n",
        "Este método é aplicado quando queremos deixar o primeiro caracter\n",
        "de uma string como maiúsculo\n",
        "'''\n",
        "nome = 'douglas'\n",
        "print(nome)\n",
        "nome = nome.capitalize() # este método funciona em tempo de execução, se eu quiser deixar permanente a mudança é necessário sobreescrever a variável\n",
        "print(nome)\n",
        ""
      ],
      "metadata": {
        "colab": {
          "base_uri": "https://localhost:8080/"
        },
        "id": "RfmTZgfPAiI2",
        "outputId": "4562491b-c852-4c26-baa1-10156d7adb51"
      },
      "execution_count": 26,
      "outputs": [
        {
          "output_type": "stream",
          "name": "stdout",
          "text": [
            "douglas\n",
            "Douglas\n"
          ]
        }
      ]
    },
    {
      "cell_type": "code",
      "source": [
        "'''\n",
        "Imagine que sua string é um nome completo e você deseja\n",
        "deixar a primeira letra de cada nome como maiúscula\n",
        "'''\n",
        "nome = 'douglas almeida ribeiro'\n",
        "print(nome)\n",
        "nome = nome.capitalize()\n",
        "print(nome)\n",
        "nome = nome.title()\n",
        "print(nome)"
      ],
      "metadata": {
        "colab": {
          "base_uri": "https://localhost:8080/"
        },
        "id": "aDA9SpqiAuhF",
        "outputId": "dc2d97f6-dd88-41be-e3f2-b7aa72cc4ad5"
      },
      "execution_count": 27,
      "outputs": [
        {
          "output_type": "stream",
          "name": "stdout",
          "text": [
            "douglas almeida ribeiro\n",
            "Douglas almeida ribeiro\n",
            "Douglas Almeida Ribeiro\n"
          ]
        }
      ]
    },
    {
      "cell_type": "code",
      "source": [
        "'''\n",
        "Imagine que você deseja deixar todos os caracteres de uma string\n",
        "como maiúsculos\n",
        "'''\n",
        "nome = 'douglas almeida ribeiro'\n",
        "print(nome)\n",
        "nome = nome.upper()\n",
        "print(nome)"
      ],
      "metadata": {
        "colab": {
          "base_uri": "https://localhost:8080/"
        },
        "id": "4cgf9cF2A1b1",
        "outputId": "18b6f6d1-0d77-4adf-bcb1-34e2dfb3c0a0"
      },
      "execution_count": 28,
      "outputs": [
        {
          "output_type": "stream",
          "name": "stdout",
          "text": [
            "douglas almeida ribeiro\n",
            "DOUGLAS ALMEIDA RIBEIRO\n"
          ]
        }
      ]
    },
    {
      "cell_type": "code",
      "source": [
        "'''\n",
        "Imagine que você deseja contar quantas vezes um determnado caracter aparece\n",
        "em uma string\n",
        "'''\n",
        "email = 'doug@gmail.com'\n",
        "email.count('o')\n",
        ""
      ],
      "metadata": {
        "colab": {
          "base_uri": "https://localhost:8080/"
        },
        "id": "ewOHXar3A-QV",
        "outputId": "d7ed8d67-f582-4bf8-eb73-f027477891af"
      },
      "execution_count": 29,
      "outputs": [
        {
          "output_type": "execute_result",
          "data": {
            "text/plain": [
              "2"
            ]
          },
          "metadata": {},
          "execution_count": 29
        }
      ]
    },
    {
      "cell_type": "code",
      "source": [
        "'''\n",
        "Imagine que você deseja saber se uma string termina com um carater ou sequencia\n",
        "de caracteres específicos e retorna com resposta verdadeiro ou falso\n",
        "'''\n",
        "email = 'doug@gmail.com'\n",
        "email.endswith('gmail.com')"
      ],
      "metadata": {
        "colab": {
          "base_uri": "https://localhost:8080/"
        },
        "id": "5o2e4pWfBJFl",
        "outputId": "6fe2949f-c1ab-4d1b-d7c6-69775216f154"
      },
      "execution_count": 30,
      "outputs": [
        {
          "output_type": "execute_result",
          "data": {
            "text/plain": [
              "True"
            ]
          },
          "metadata": {},
          "execution_count": 30
        }
      ]
    },
    {
      "cell_type": "code",
      "source": [
        "'''\n",
        "Imagine que você deseja saber se uma string começa com um ou uma sequência\n",
        "específica de caracateres\n",
        "'''\n",
        "email = 'doug@gmail.com'\n",
        "email.startswith('doug')"
      ],
      "metadata": {
        "colab": {
          "base_uri": "https://localhost:8080/"
        },
        "id": "zEUODVSkBTL0",
        "outputId": "6148585c-ecdb-434d-ec9b-71caa06fa79b"
      },
      "execution_count": 31,
      "outputs": [
        {
          "output_type": "execute_result",
          "data": {
            "text/plain": [
              "True"
            ]
          },
          "metadata": {},
          "execution_count": 31
        }
      ]
    },
    {
      "cell_type": "code",
      "source": [
        "'''\n",
        "Imagine que você deseja vericar se o conteúdo de uma variável\n",
        "é ou não numérico. Este comando retornará verdadeiro ou falso\n",
        "conforme o caso\n",
        "'''\n",
        "cpf = '12345678910'\n",
        "cpf.isnumeric()\n",
        "cpf2 = 'umdoistresquatro'\n",
        "cpf2.isnumeric()"
      ],
      "metadata": {
        "colab": {
          "base_uri": "https://localhost:8080/"
        },
        "id": "9kqaox8SBeuH",
        "outputId": "0904bb61-6726-457b-ca7a-905baa280685"
      },
      "execution_count": 32,
      "outputs": [
        {
          "output_type": "execute_result",
          "data": {
            "text/plain": [
              "False"
            ]
          },
          "metadata": {},
          "execution_count": 32
        }
      ]
    },
    {
      "cell_type": "code",
      "source": [
        "'''\n",
        "Imagine que você deseja vericar se o conteúdo de uma variável\n",
        "é não numérico. Este comando retornará verdadeiro ou falso\n",
        "conforme o caso\n",
        "'''\n",
        "cpf = '12345678910'\n",
        "cpf.isalpha()\n",
        "cpf2 = 'umdoistresquatro'\n",
        "cpf2.isalpha()"
      ],
      "metadata": {
        "colab": {
          "base_uri": "https://localhost:8080/"
        },
        "id": "Pt0CCuyqBm-H",
        "outputId": "55a05033-7990-4fe9-f585-533121506d6d"
      },
      "execution_count": 33,
      "outputs": [
        {
          "output_type": "execute_result",
          "data": {
            "text/plain": [
              "True"
            ]
          },
          "metadata": {},
          "execution_count": 33
        }
      ]
    },
    {
      "cell_type": "code",
      "source": [
        "\n",
        "'''\n",
        "Imagine que você deseja vericar se o conteúdo de uma variável\n",
        "é composto por letras e números. Este comando retornará verdadeiro ou falso\n",
        "conforme o caso\n",
        "'''\n",
        "cpf3 = '1dois3quatro'\n",
        "cpf.isalnum()"
      ],
      "metadata": {
        "colab": {
          "base_uri": "https://localhost:8080/"
        },
        "id": "yPmgjv_zBvPV",
        "outputId": "b12441b4-2849-431e-dc71-d234d9216558"
      },
      "execution_count": 34,
      "outputs": [
        {
          "output_type": "execute_result",
          "data": {
            "text/plain": [
              "True"
            ]
          },
          "metadata": {},
          "execution_count": 34
        }
      ]
    },
    {
      "cell_type": "markdown",
      "source": [
        "* Método Strip\n"
      ],
      "metadata": {
        "id": "lx8eZTvlCDHz"
      }
    },
    {
      "cell_type": "code",
      "source": [
        "funcionario = \" Douglas\"\n",
        "print(funcionario)\n",
        "print(len(funcionario)) #Antes do \"strip\"\n",
        "funcionario = funcionario.strip()\n",
        "print(funcionario)\n",
        "print(len(funcionario))#Depois do \"strip#\n"
      ],
      "metadata": {
        "colab": {
          "base_uri": "https://localhost:8080/"
        },
        "id": "nuNppUQ9CHlK",
        "outputId": "bfd7231d-b7a9-4703-90ff-c8409b69083f"
      },
      "execution_count": 35,
      "outputs": [
        {
          "output_type": "stream",
          "name": "stdout",
          "text": [
            " Douglas\n",
            "8\n",
            "Douglas\n",
            "7\n"
          ]
        }
      ]
    },
    {
      "cell_type": "markdown",
      "source": [
        "* Substituir um determinado caractere por outro"
      ],
      "metadata": {
        "id": "-e1YvLgMCYdS"
      }
    },
    {
      "cell_type": "code",
      "execution_count": 1,
      "metadata": {
        "colab": {
          "base_uri": "https://localhost:8080/"
        },
        "id": "nXJciz2222V6",
        "outputId": "68e401fb-c1ee-4ffb-d6d9-0e773bed66f2"
      },
      "outputs": [
        {
          "output_type": "stream",
          "name": "stdout",
          "text": [
            " R$10.50\n",
            " R$10,50\n"
          ]
        }
      ],
      "source": [
        "'''\n",
        "Imagine que você deseja substituir um determinado caractere por outro\n",
        "\n",
        "'''\n",
        "preco = ' R$10.50'\n",
        "print(preco)\n",
        "preco = preco.replace('.',',')#ele busca o que está na primeira aspas\n",
        "print(preco)\n",
        "\n"
      ]
    },
    {
      "cell_type": "code",
      "source": [
        "'''\n",
        "imagine que você precisa dividir uma string em duas ou mais substrings\n",
        "'''\n",
        "nome_completo = 'Douglas Ribeiro'\n",
        "print(nome_completo)\n",
        "novo_nome = nome_completo.split()\n",
        "print(novo_nome)\n",
        "print(type(nome_completo))\n",
        "print(type(novo_nome))"
      ],
      "metadata": {
        "colab": {
          "base_uri": "https://localhost:8080/"
        },
        "id": "bz2Y9snt3hcw",
        "outputId": "04b9a996-ddad-4e57-fdb1-0763a6b7cbff"
      },
      "execution_count": 2,
      "outputs": [
        {
          "output_type": "stream",
          "name": "stdout",
          "text": [
            "Douglas Ribeiro\n",
            "['Douglas', 'Ribeiro']\n",
            "<class 'str'>\n",
            "<class 'list'>\n"
          ]
        }
      ]
    },
    {
      "cell_type": "code",
      "source": [
        "# metodo split usado para receber estruturas com mais de uma informação\n",
        "'''\n",
        "Crie um programa que receba do usuário dois ou mais nomes separados por espaços e os armazene em uma\n",
        "variável chamada nomes\n",
        "'''\n",
        "''''\n",
        "alunos = input('Digite o nome dos alunos:')\n",
        "nomes = alunos.split()\n",
        "#nome_aluno2 = nome_alunos.split()\n",
        "print(nomes)\n",
        "'''\n",
        "#correção\n",
        "dados = input('Informe os nomes (separados por espaços)que deseja cadastrar: ')\n",
        "nomes = dados.split()\n",
        "print(nomes)"
      ],
      "metadata": {
        "colab": {
          "base_uri": "https://localhost:8080/"
        },
        "id": "G3YWkBkg3qpo",
        "outputId": "d639ab32-f2e7-4ca0-adb8-a07962e18d70"
      },
      "execution_count": 3,
      "outputs": [
        {
          "output_type": "stream",
          "name": "stdout",
          "text": [
            "Informe os nomes (separados por espaços)que deseja cadastrar: Rafaela Joao Maria\n",
            "['Rafaela', 'Joao', 'Maria']\n"
          ]
        }
      ]
    },
    {
      "cell_type": "code",
      "source": [
        "'''\n",
        "Exemplo adicional:\n",
        "'''\n",
        "email = 'doug@gmail.com'\n",
        "lista = email.split('@')\n",
        "print(lista)"
      ],
      "metadata": {
        "colab": {
          "base_uri": "https://localhost:8080/"
        },
        "id": "wsupfJET36Po",
        "outputId": "388b67c6-db4d-4310-fd74-2b67746dd863"
      },
      "execution_count": 4,
      "outputs": [
        {
          "output_type": "stream",
          "name": "stdout",
          "text": [
            "['doug', 'gmail.com']\n"
          ]
        }
      ]
    },
    {
      "cell_type": "code",
      "source": [
        "'''\n",
        "Imagine que você deseja saber o índice de um determinado caractere dentro\n",
        " de uma string\n",
        "'''\n",
        "email = \"douglasgmail.com\"\n",
        "email.find('@')"
      ],
      "metadata": {
        "colab": {
          "base_uri": "https://localhost:8080/"
        },
        "id": "wkFdJmjd396B",
        "outputId": "f23a156a-18f9-4a8c-cd1d-ca85eb9916c8"
      },
      "execution_count": 5,
      "outputs": [
        {
          "output_type": "execute_result",
          "data": {
            "text/plain": [
              "-1"
            ]
          },
          "metadata": {},
          "execution_count": 5
        }
      ]
    },
    {
      "cell_type": "markdown",
      "source": [
        "*  Estruturas de dados\n",
        "\n",
        "*  Listas"
      ],
      "metadata": {
        "id": "ybEbEEK24pwO"
      }
    },
    {
      "cell_type": "code",
      "source": [
        "# Uma lista é um objeto que pode ser vazio, ou ter um ou mais itens\n",
        "lista = ['dado1', 'dado2','dado3','dado4', 'dado_n']\n",
        "#índices    0         1       2       3       4       ou:\n",
        "#          -5        -4      -3      -2      -1\n",
        "print(f'O quinto elemento da lista é {lista[4]}')\n",
        "print(f'O quinto elemento da lista é {lista[-1]}')"
      ],
      "metadata": {
        "colab": {
          "base_uri": "https://localhost:8080/"
        },
        "id": "vamojtG05AFO",
        "outputId": "405d7c65-05c7-4964-d82b-25c24680b6f3"
      },
      "execution_count": 6,
      "outputs": [
        {
          "output_type": "stream",
          "name": "stdout",
          "text": [
            "O quinto elemento da lista é dado_n\n",
            "O quinto elemento da lista é dado_n\n"
          ]
        }
      ]
    },
    {
      "cell_type": "code",
      "source": [
        "dados = input('Informe os nomes (separados por espaços)que deseja cadastrar: ')\n",
        "nomes = dados.split()\n",
        "print(nomes)"
      ],
      "metadata": {
        "colab": {
          "base_uri": "https://localhost:8080/"
        },
        "id": "8YFGvAj45VFt",
        "outputId": "f9158ac5-2445-49f3-9a6c-e60976eee97d"
      },
      "execution_count": 9,
      "outputs": [
        {
          "output_type": "stream",
          "name": "stdout",
          "text": [
            "Informe os nomes (separados por espaços)que deseja cadastrar: Bia Luiz Jair Jacira  Ana José\n",
            "['Bia', 'Luiz', 'Jair', 'Jacira', 'Ana', 'José']\n"
          ]
        }
      ]
    },
    {
      "cell_type": "code",
      "source": [
        "print(f'O 6º nome da lista é {nomes[5]}')"
      ],
      "metadata": {
        "colab": {
          "base_uri": "https://localhost:8080/"
        },
        "id": "2KArrisW54gE",
        "outputId": "404dcc30-3593-4571-9edf-8e3d6b059dcb"
      },
      "execution_count": 10,
      "outputs": [
        {
          "output_type": "stream",
          "name": "stdout",
          "text": [
            "O 6º nome da lista é José\n"
          ]
        }
      ]
    },
    {
      "cell_type": "code",
      "source": [
        "#função len (Contagem do numero de dados da lista)\n",
        "#atribuição direta abre colchetes\n",
        "produtos =['tv','celular','notebook','desktop','impressora','teclado']\n",
        "precos =[600, 2000, 5000, 3000, 1500, 200]\n",
        "vendas= [300, 500, 100, 700, 500,1000]\n",
        "estoque_ini =[5000]*6\n",
        "print(produtos)\n",
        "print(precos)\n",
        "print(vendas)\n",
        "print(estoque_ini)\n",
        "\n",
        "\n"
      ],
      "metadata": {
        "colab": {
          "base_uri": "https://localhost:8080/"
        },
        "id": "3zVA0ZEe6i7y",
        "outputId": "15a6bd2b-5474-441f-d86d-6c943c43bde5"
      },
      "execution_count": 11,
      "outputs": [
        {
          "output_type": "stream",
          "name": "stdout",
          "text": [
            "['tv', 'celular', 'notebook', 'desktop', 'impressora', 'teclado']\n",
            "[600, 2000, 5000, 3000, 1500, 200]\n",
            "[300, 500, 100, 700, 500, 1000]\n",
            "[5000, 5000, 5000, 5000, 5000, 5000]\n"
          ]
        }
      ]
    },
    {
      "cell_type": "code",
      "source": [
        "#a funçao len pode ser usada em listas\n",
        "#A função len também pode ser usada em listas, para contar\n",
        "#quantos elementos existem na lista\n",
        "produtos =['tv','celular','notebook','desktop','impressora','teclado']\n",
        "descarte = []\n",
        "print(produtos)\n",
        "print(descarte)\n",
        "print(len(produtos))\n",
        "print(len(descarte))"
      ],
      "metadata": {
        "colab": {
          "base_uri": "https://localhost:8080/"
        },
        "id": "jZ5NJRe17AOZ",
        "outputId": "7a8c1c9a-7d00-4746-9a18-643e1c6e96b2"
      },
      "execution_count": 12,
      "outputs": [
        {
          "output_type": "stream",
          "name": "stdout",
          "text": [
            "['tv', 'celular', 'notebook', 'desktop', 'impressora', 'teclado']\n",
            "[]\n",
            "6\n",
            "0\n"
          ]
        }
      ]
    },
    {
      "cell_type": "code",
      "source": [
        "#Inserindo valores em uma lista pelo método append\n",
        "descarte = []\n",
        "print(descarte)\n",
        "descarte.append('bateria')#por padrão append vai inserir o elemento na última posição mantendo os demais que eventualmente já existam\n",
        "print(descarte)\n",
        "descarte.append('mouse')\n",
        "print(descarte)\n",
        "descarte.append('pizza')\n",
        "print(descarte)\n",
        "descarte.append('adaptador')\n",
        "print(descarte)\n",
        "\n"
      ],
      "metadata": {
        "colab": {
          "base_uri": "https://localhost:8080/"
        },
        "id": "VtqIQMhd7MbL",
        "outputId": "c447ba09-4302-4d9b-fe42-e99338bb35e7"
      },
      "execution_count": 13,
      "outputs": [
        {
          "output_type": "stream",
          "name": "stdout",
          "text": [
            "[]\n",
            "['bateria']\n",
            "['bateria', 'mouse']\n",
            "['bateria', 'mouse', 'pizza']\n",
            "['bateria', 'mouse', 'pizza', 'adaptador']\n"
          ]
        }
      ]
    },
    {
      "cell_type": "code",
      "source": [
        "'''\n",
        "Imagine que você deseja inserir um novo elemento na lista(WEBCAM)e esse\n",
        "novo elemento fique armazenado em uma posição específica por exemplo a primeira\n",
        "'''\n",
        "\n",
        "print(descarte)\n"
      ],
      "metadata": {
        "colab": {
          "base_uri": "https://localhost:8080/"
        },
        "id": "inIBvaOb7x3w",
        "outputId": "e07b0fd1-15da-4ede-b47e-3d8a34df58a6"
      },
      "execution_count": 14,
      "outputs": [
        {
          "output_type": "stream",
          "name": "stdout",
          "text": [
            "['bateria', 'mouse', 'pizza', 'adaptador']\n"
          ]
        }
      ]
    },
    {
      "cell_type": "code",
      "source": [
        "'''\n",
        "Imagine que você deseja inserir um novo elemento na lista (webcam) e esse\n",
        "novo elemento fique armazenado em uma posição específica por exemplo a primeira,\n",
        "no entanto, substituindo quem estiver na primeira posição por exemplo\n",
        "'''\n",
        "descarte =['bateria','mouse','pizza','adaptador']\n",
        "print(descarte)\n",
        "descarte[0] = 'webcam'\n",
        "print(descarte)"
      ],
      "metadata": {
        "colab": {
          "base_uri": "https://localhost:8080/"
        },
        "id": "_AajAV6o70gA",
        "outputId": "79175eea-b8fd-4132-a8f0-9148a24abb09"
      },
      "execution_count": 15,
      "outputs": [
        {
          "output_type": "stream",
          "name": "stdout",
          "text": [
            "['bateria', 'mouse', 'pizza', 'adaptador']\n",
            "['webcam', 'mouse', 'pizza', 'adaptador']\n"
          ]
        }
      ]
    },
    {
      "cell_type": "code",
      "source": [
        "#Imagine que você deseja excluir um elemento tendo como referência o seu índice\n",
        "#usar método pop\n",
        "descarte = ['bateria','mouse','pizza','adaptador']\n",
        "print(descarte)\n",
        "descarte.pop(1)\n",
        "#descarte.remove('mouse')\n",
        "print(descarte)"
      ],
      "metadata": {
        "colab": {
          "base_uri": "https://localhost:8080/"
        },
        "id": "sGZZG_ki774p",
        "outputId": "e0be1eb9-aebb-43e6-c20a-da3497ded9d8"
      },
      "execution_count": 16,
      "outputs": [
        {
          "output_type": "stream",
          "name": "stdout",
          "text": [
            "['bateria', 'mouse', 'pizza', 'adaptador']\n",
            "['bateria', 'pizza', 'adaptador']\n"
          ]
        }
      ]
    },
    {
      "cell_type": "markdown",
      "source": [
        "##Exercício\n",
        "* 01- Crie um programa para fazer uma consulta de estoque. O usuário do programa deve inserir o nome do produto e, caso ele não exista na lista, ele deve ser avisado. Caso exista, o programa deve dizer a quantidade de unidades em estoque do produto, seu preço e a sua quantidade vendida no último período '''\n",
        "\n",
        "\n"
      ],
      "metadata": {
        "id": "L6nRn979DlVn"
      }
    },
    {
      "cell_type": "code",
      "source": [
        "produtos = ['monitor', 'celular', 'notebook', 'desktop', 'impressora', 'teclado']\n",
        "precos = [800, 2000, 5000, 3000, 1500, ]\n",
        "vendas = [300, 500, 100, 700, 500, 100]\n",
        "estoque_ini = [5000] * 6\n",
        "produto = input(\"Informe o nome do produto que deseja consultar: \")\n",
        "if produto not in produtos:\n",
        "  print(f'O produto {produto} não existe')\n",
        "else:\n",
        "  i = produtos.index(produto)\n",
        "  print(f'O produto {produto} tem {estoque_ini[i]} unidades')"
      ],
      "metadata": {
        "colab": {
          "base_uri": "https://localhost:8080/"
        },
        "id": "0GxcpNHgEXmm",
        "outputId": "0e2b4ce3-de43-4fa7-8da4-485e33189cb1"
      },
      "execution_count": 37,
      "outputs": [
        {
          "output_type": "stream",
          "name": "stdout",
          "text": [
            "Informe o nome do produto que deseja consultar: mouse\n",
            "O produto mouse não existe\n"
          ]
        }
      ]
    },
    {
      "cell_type": "markdown",
      "source": [
        "* 02-\n",
        "Crie um programa para fazer uma consulta de estoque. O usuário do programa deve inserir o nome do produto e, caso ele não exista na lista, ele deve ser avisado. Caso exista, o programa deve dizer a quantidade de unidades em estoque do produto"
      ],
      "metadata": {
        "id": "2VOIQSCiEYOW"
      }
    },
    {
      "cell_type": "code",
      "source": [
        "produtos = ['monitor', 'celular', 'notebook', 'desktop', 'impressora', 'teclado']\n",
        "precos = [600, 800, 2000, 5000, 3000, 1500]\n",
        "vendas = [300, 500, 100, 700, 500, 100]\n",
        "estoque_ini = [5000] * 6\n",
        "produto = input(\"Informe o nome do produto que deseja consultar: \")\n",
        "if produto in produtos:\n",
        "  i = produtos.index(produto)\n",
        "  print(f'O produto {produto} tem {estoque_ini[i]} unidades')\n",
        "  print(f'O preço do produto {produto} {precos[i]}')\n",
        "  print(f'Foram vendidas {vendas[i]} unidades, do produto {produto}')\n",
        "else:\n",
        "  print(f'O produto {produto} não existe')"
      ],
      "metadata": {
        "colab": {
          "base_uri": "https://localhost:8080/"
        },
        "id": "RNkBIXmXD_Rj",
        "outputId": "3f54ddae-e3ad-4a86-d466-c539c1798b8e"
      },
      "execution_count": 36,
      "outputs": [
        {
          "output_type": "stream",
          "name": "stdout",
          "text": [
            "Informe o nome do produto que deseja consultar: desktop\n",
            "O produto desktop tem 5000 unidades\n",
            "O preço do produto desktop 5000\n",
            "Foram vendidas 700 unidades, do produto desktop\n"
          ]
        }
      ]
    }
  ]
}