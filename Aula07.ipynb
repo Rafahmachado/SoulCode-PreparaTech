{
  "nbformat": 4,
  "nbformat_minor": 0,
  "metadata": {
    "colab": {
      "provenance": [],
      "authorship_tag": "ABX9TyN0p4/90NOcQRz5gxPa23TM",
      "include_colab_link": true
    },
    "kernelspec": {
      "name": "python3",
      "display_name": "Python 3"
    },
    "language_info": {
      "name": "python"
    }
  },
  "cells": [
    {
      "cell_type": "markdown",
      "metadata": {
        "id": "view-in-github",
        "colab_type": "text"
      },
      "source": [
        "<a href=\"https://colab.research.google.com/github/Rafahmachado/aula_06.ipynb/blob/main/Aula07.ipynb\" target=\"_parent\"><img src=\"https://colab.research.google.com/assets/colab-badge.svg\" alt=\"Open In Colab\"/></a>"
      ]
    },
    {
      "cell_type": "markdown",
      "source": [
        "## Aula 7 José Magalhães\n",
        "\n",
        "*  Estruturas de Repetição (ou loops)\n",
        "\n",
        "*   For\n",
        "*  While"
      ],
      "metadata": {
        "id": "hSIkVdPjQIKJ"
      }
    },
    {
      "cell_type": "code",
      "execution_count": 6,
      "metadata": {
        "colab": {
          "base_uri": "https://localhost:8080/"
        },
        "id": "Gi_T7T5lQCLX",
        "outputId": "6d0fc94f-1ae0-40f3-c37a-2c2f9bdffb8f"
      },
      "outputs": [
        {
          "output_type": "stream",
          "name": "stdout",
          "text": [
            "['maçã', 'banana', 'laranja', 'uva', 'coco', 'abacaxi', 'goiaba']\n",
            "maçã\n",
            "banana\n",
            "laranja\n",
            "uva\n",
            "coco\n",
            "abacaxi\n",
            "goiaba\n"
          ]
        }
      ],
      "source": [
        "# Primeira função da repetição é percorrer estrutura\n",
        "# Segunda função criar uma estrututa que precise de múltipla repetição\n",
        "\n",
        "frutas = [\"maçã\",\"banana\",\"laranja\",\"uva\",\"coco\",\"abacaxi\",\"goiaba\"]\n",
        "print(frutas)\n",
        "\n",
        "for fruta in frutas:\n",
        "  print(fruta)\n",
        "\n",
        "\n",
        "\n",
        "\n"
      ]
    },
    {
      "cell_type": "code",
      "source": [
        "palavra = \"Python\"\n",
        "for letra in palavra :\n",
        "  print(letra)\n",
        "\n",
        "\n"
      ],
      "metadata": {
        "colab": {
          "base_uri": "https://localhost:8080/"
        },
        "id": "xw5yMrhfUYTJ",
        "outputId": "658251e1-2409-4014-cdf6-0a6925e1959d"
      },
      "execution_count": 7,
      "outputs": [
        {
          "output_type": "stream",
          "name": "stdout",
          "text": [
            "P\n",
            "y\n",
            "t\n",
            "h\n",
            "o\n",
            "n\n"
          ]
        }
      ]
    },
    {
      "cell_type": "code",
      "source": [
        "notas = [85,90,78,92,88]\n",
        "soma = 0\n",
        "\n",
        "for nota in notas:\n",
        "# 0 = 0 + 85\n",
        "# 85 = 85 +78\n",
        "# 175 = 175 + 78\n",
        "#...\n",
        "#soma = soma + nota\n",
        "  soma+= nota\n",
        "media = soma / len(notas)#fora do for precisa só da soma e ñ percorrre\n",
        "print(media)"
      ],
      "metadata": {
        "colab": {
          "base_uri": "https://localhost:8080/"
        },
        "id": "qO22KGwgWTG2",
        "outputId": "79bd83f7-9664-4891-d166-c325fc66d78f"
      },
      "execution_count": 8,
      "outputs": [
        {
          "output_type": "stream",
          "name": "stdout",
          "text": [
            "86.6\n"
          ]
        }
      ]
    },
    {
      "cell_type": "code",
      "source": [
        "# For repetição/* O range não considera o último elemento.\n",
        "for i in range(8):\n",
        "  print(i)\n",
        "\n"
      ],
      "metadata": {
        "colab": {
          "base_uri": "https://localhost:8080/"
        },
        "id": "lTFNQwD0dQwX",
        "outputId": "5e4753b2-d5ee-4b0c-82c6-0ebb0ed67bee"
      },
      "execution_count": 11,
      "outputs": [
        {
          "output_type": "stream",
          "name": "stdout",
          "text": [
            "0\n",
            "1\n",
            "2\n",
            "3\n",
            "4\n",
            "5\n",
            "6\n",
            "7\n"
          ]
        }
      ]
    },
    {
      "cell_type": "code",
      "source": [
        "# Em intervalos considera- se o primeiro elemento\n",
        "for i in range(2,8):\n",
        "  print(i)"
      ],
      "metadata": {
        "colab": {
          "base_uri": "https://localhost:8080/"
        },
        "id": "8A9wuzDSefp0",
        "outputId": "103335be-def7-4b78-8bb4-bb786b55e67b"
      },
      "execution_count": 12,
      "outputs": [
        {
          "output_type": "stream",
          "name": "stdout",
          "text": [
            "2\n",
            "3\n",
            "4\n",
            "5\n",
            "6\n",
            "7\n"
          ]
        }
      ]
    },
    {
      "cell_type": "code",
      "source": [
        "for i in range(5):#condição enqto o i estiver no intervalo de 5\n",
        "  quadrado = i**2\n",
        "\n",
        "  print(f\"O quadrado de {i} é {quadrado}\")\n"
      ],
      "metadata": {
        "colab": {
          "base_uri": "https://localhost:8080/"
        },
        "id": "subYWPNFe9zq",
        "outputId": "ffb49678-9ac2-44b8-bd70-e2f2a6d4e2e1"
      },
      "execution_count": 16,
      "outputs": [
        {
          "output_type": "stream",
          "name": "stdout",
          "text": [
            "O quadrado de 0 é 0\n",
            "O quadrado de 1 é 1\n",
            "O quadrado de 2 é 4\n",
            "O quadrado de 3 é 9\n",
            "O quadrado de 4 é 16\n"
          ]
        }
      ]
    },
    {
      "cell_type": "code",
      "source": [
        "# Multiplicador = [7,7,7,7]\n",
        "# Multiplicando = [1,2,3,4]\n",
        "# 7 x 1\n",
        "# 7 x 2\n",
        "# 7 x 3\n",
        "# 7 x 4"
      ],
      "metadata": {
        "id": "taNo-qs8gj6Y"
      },
      "execution_count": null,
      "outputs": []
    },
    {
      "cell_type": "code",
      "source": [
        "for multiplicador in range(7,8):\n",
        "  for multiplicando in range(1,11):\n",
        "    resultado = multiplicador * multiplicando\n",
        "    print(f\"{multiplicador} x {multiplicando} = {resultado}\")"
      ],
      "metadata": {
        "colab": {
          "base_uri": "https://localhost:8080/"
        },
        "id": "Iq9C9JKthSru",
        "outputId": "24c2a9fb-30fc-4046-f09f-806eadf5441f"
      },
      "execution_count": 20,
      "outputs": [
        {
          "output_type": "stream",
          "name": "stdout",
          "text": [
            "7 x 1 = 7\n",
            "7 x 2 = 14\n",
            "7 x 3 = 21\n",
            "7 x 4 = 28\n",
            "7 x 5 = 35\n",
            "7 x 6 = 42\n",
            "7 x 7 = 49\n",
            "7 x 8 = 56\n",
            "7 x 9 = 63\n",
            "7 x 10 = 70\n"
          ]
        }
      ]
    },
    {
      "cell_type": "markdown",
      "source": [
        "Q1: Dada a string \"otorrinolaringologista \", crie um loop for para imprimir cada caractere separadamente em linhas diferentes.\n",
        "\n",
        "\n",
        "\n"
      ],
      "metadata": {
        "id": "v-H7oQTxj584"
      }
    },
    {
      "cell_type": "code",
      "source": [
        "# Q1\n",
        "palavra = \"otorrinolaringologista\"\n",
        "for  letra in palavra :\n",
        "      print(letra)"
      ],
      "metadata": {
        "colab": {
          "base_uri": "https://localhost:8080/"
        },
        "id": "1bz-C3JsjXx6",
        "outputId": "164a3599-541d-490f-8c27-899cd39f983b"
      },
      "execution_count": 24,
      "outputs": [
        {
          "output_type": "stream",
          "name": "stdout",
          "text": [
            "o\n",
            "t\n",
            "o\n",
            "r\n",
            "r\n",
            "i\n",
            "n\n",
            "o\n",
            "l\n",
            "a\n",
            "r\n",
            "i\n",
            "n\n",
            "g\n",
            "o\n",
            "l\n",
            "o\n",
            "g\n",
            "i\n",
            "s\n",
            "t\n",
            "a\n"
          ]
        }
      ]
    },
    {
      "cell_type": "markdown",
      "source": [
        "Q2: Dada a lista de números [2, 4, 6, 8, 10], crie um loop for para imprimir cada número multiplicado por 3."
      ],
      "metadata": {
        "id": "yCzmZt8Nwe2L"
      }
    },
    {
      "cell_type": "code",
      "source": [
        "numeros = [2,4,6,8,10]\n",
        "for numero in numeros:\n",
        "  resultado = numero * 3\n",
        "  print(resultado)"
      ],
      "metadata": {
        "colab": {
          "base_uri": "https://localhost:8080/"
        },
        "id": "fZ8KEGIFwMvn",
        "outputId": "454768a1-295e-45c4-ef89-e553ee69485f"
      },
      "execution_count": 43,
      "outputs": [
        {
          "output_type": "stream",
          "name": "stdout",
          "text": [
            "6\n",
            "12\n",
            "18\n",
            "24\n",
            "30\n"
          ]
        }
      ]
    },
    {
      "cell_type": "markdown",
      "source": [
        "Q3: Dada a lista de frutas [\"maçã\", \"banana\", \"uva\", \"melancia\", \"abacaxi\"], crie um loop for para imprimir apenas as frutas que contêm mais de 5 letras."
      ],
      "metadata": {
        "id": "NZExY5o2wsUU"
      }
    },
    {
      "cell_type": "code",
      "source": [
        "frutas = [\"maçã\",\"banana\",\"laranja\",\"uva\",\"coco\",\"abacaxi\",\"goiaba\"]\n",
        "\n",
        "for fruta in frutas:\n",
        "   if len(fruta) > 5:\n",
        "    print(fruta)\n",
        "\n",
        "\n",
        "\n"
      ],
      "metadata": {
        "colab": {
          "base_uri": "https://localhost:8080/"
        },
        "id": "UO274_E-smHX",
        "outputId": "c0cb11f6-2245-4689-b24a-9cc1bfea2825"
      },
      "execution_count": 45,
      "outputs": [
        {
          "output_type": "stream",
          "name": "stdout",
          "text": [
            "banana\n",
            "laranja\n",
            "abacaxi\n",
            "goiaba\n"
          ]
        }
      ]
    },
    {
      "cell_type": "markdown",
      "source": [
        "While/laço de repetição\n",
        "*Criar contador"
      ],
      "metadata": {
        "id": "WqIKAeCRxD01"
      }
    },
    {
      "cell_type": "code",
      "source": [
        "# O while necessita do contador\n",
        "# O while precisa ser incrementado ou decrementado\n",
        "contagem = 5 #contador\n",
        "\n",
        "while contagem > 0: #Condição\n",
        "  print(contagem)\n",
        "  contagem -=1\n",
        "\n",
        "  #contagem = contagem - 1\n"
      ],
      "metadata": {
        "colab": {
          "base_uri": "https://localhost:8080/"
        },
        "id": "gCd8nK4UvuLg",
        "outputId": "7695fdaf-c5b2-45a0-c1d5-67ec3330a6e8"
      },
      "execution_count": 48,
      "outputs": [
        {
          "output_type": "stream",
          "name": "stdout",
          "text": [
            "5\n",
            "4\n",
            "3\n",
            "2\n",
            "1\n"
          ]
        }
      ]
    },
    {
      "cell_type": "code",
      "source": [
        "numero_atual = 2\n",
        "\n",
        "while numero_atual <= 10:\n",
        "  print(numero_atual)\n",
        "  numero_atual +=2"
      ],
      "metadata": {
        "colab": {
          "base_uri": "https://localhost:8080/"
        },
        "id": "vzVUd4e7yliW",
        "outputId": "3617a02d-1f76-489f-b3d3-c2c99a20e18d"
      },
      "execution_count": 1,
      "outputs": [
        {
          "output_type": "stream",
          "name": "stdout",
          "text": [
            "2\n",
            "4\n",
            "6\n",
            "8\n",
            "10\n"
          ]
        }
      ]
    },
    {
      "cell_type": "code",
      "source": [
        "limite = 10\n",
        "soma = 0\n",
        "numero_atual = 1\n",
        "while numero_atual <= limite: #condição\n",
        "   soma+= numero_atual\n",
        "# 0 = 0 + 1\n",
        "# 1 = 1 + 2\n",
        "# 3 = 3 + 3\n",
        "   numero_atual +=1\n",
        "   print(numero_atual)\n",
        "print(soma)"
      ],
      "metadata": {
        "colab": {
          "base_uri": "https://localhost:8080/"
        },
        "id": "CDz9096Qz2Hn",
        "outputId": "8b532f6b-8e6c-4b02-c1d9-0ab4c1208dcb"
      },
      "execution_count": 2,
      "outputs": [
        {
          "output_type": "stream",
          "name": "stdout",
          "text": [
            "2\n",
            "3\n",
            "4\n",
            "5\n",
            "6\n",
            "7\n",
            "8\n",
            "9\n",
            "10\n",
            "11\n",
            "55\n"
          ]
        }
      ]
    },
    {
      "cell_type": "code",
      "source": [],
      "metadata": {
        "id": "Y3U2tKzDG50A"
      },
      "execution_count": null,
      "outputs": []
    },
    {
      "cell_type": "code",
      "source": [
        "while True:\n",
        "\n",
        "  nota = float(input(\"Digite sua nota: \"))\n",
        "\n",
        "  if nota >= 90:\n",
        "    print(\"A\")\n",
        "  elif 80 <= nota < 90:\n",
        "    print(\"B\")\n",
        "  elif 70 <= nota < 80:\n",
        "    print(\"C\")\n",
        "  elif 60 <= nota < 70:\n",
        "    print(\"D\")\n",
        "  else:\n",
        "    print(\"F\")"
      ],
      "metadata": {
        "id": "Zl13Iq2GGrki"
      },
      "execution_count": null,
      "outputs": []
    },
    {
      "cell_type": "code",
      "source": [
        "numero_secreto = 42\n",
        "tentativas = 0\n",
        "palpite = 0\n",
        "\n",
        "while palpite != numero_secreto:\n",
        "#eqto minha condição for diferente de palpite\n",
        "  palpite = int(input(\"Adivinhe o número: \"))\n",
        "  tentativas += 1\n",
        "print(f\"Parabéns! Você acertou em {tentativas} tentativas. \")"
      ],
      "metadata": {
        "colab": {
          "base_uri": "https://localhost:8080/"
        },
        "id": "liSodHpJG74Y",
        "outputId": "896d16b3-ee50-4ff0-cdd2-cfa60a7b21d7"
      },
      "execution_count": 10,
      "outputs": [
        {
          "output_type": "stream",
          "name": "stdout",
          "text": [
            "Adivinhe o número: 65\n",
            "Adivinhe o número: 52\n",
            "Adivinhe o número: 41\n",
            "Adivinhe o número: 88\n",
            "Adivinhe o número: 42\n",
            "Parabéns! Você acertou em 5 tentativas. \n"
          ]
        }
      ]
    },
    {
      "cell_type": "code",
      "source": [
        "senha_correta = \"senha123\"\n",
        "tentativas = 3\n",
        "\n",
        "while tentativas > 0:\n",
        "  senha = input(\"Digite sua senha: \")\n",
        "  if senha == senha_correta:\n",
        "    print(\"Acesso permitido!\")\n",
        "    break\n",
        "  else:\n",
        "    print(f\"Senha incorreta. Tentativas restantes: {tentativas}\")\n",
        "    tentativas -=1\n",
        "else:\n",
        "  print(\"Tentativas esgotadas! Conta bloqueada!\")\n",
        "\n"
      ],
      "metadata": {
        "colab": {
          "base_uri": "https://localhost:8080/"
        },
        "id": "QlGrP95hJavd",
        "outputId": "c6ea6908-39d9-4822-d64f-34768c56f70d"
      },
      "execution_count": 8,
      "outputs": [
        {
          "output_type": "stream",
          "name": "stdout",
          "text": [
            "Digite sua senha: dsada\n",
            "Senha incorreta. Tentativas restantes: 3\n",
            "Digite sua senha: gggggg\n",
            "Senha incorreta. Tentativas restantes: 2\n",
            "Digite sua senha: 123\n",
            "Senha incorreta. Tentativas restantes: 1\n",
            "Tentativas esgotadas! Conta bloqueada!\n"
          ]
        }
      ]
    },
    {
      "cell_type": "markdown",
      "source": [
        "Peça ao usuário para inserir um número e, em seguida, use um loop while para contar de volta até 1.\n",
        "\n",
        "Utilize um loop while para imprimir os múltiplos de 3 de 3 a 30.\n",
        "\n",
        "Peça ao usuário para inserir as notas de um aluno. Continue solicitando notas até que o usuário insira um valor negativo. Calcule a média das notas inseridas e imprima o resultado."
      ],
      "metadata": {
        "id": "m6yzKCwiKVrK"
      }
    },
    {
      "cell_type": "code",
      "source": [
        "#Peça ao usuário para inserir um número e, em seguida, use\n",
        "# um loop while para contar de volta até 1.\n",
        "numero = int(input(\"Digite um número: \"))\n",
        "\n",
        "while numero >=1:\n",
        "  print(numero)\n",
        "  numero -=1\n"
      ],
      "metadata": {
        "colab": {
          "base_uri": "https://localhost:8080/"
        },
        "id": "R9ne2zBxJvmL",
        "outputId": "583de438-d871-4223-af46-1ab61cbe7f7a"
      },
      "execution_count": 20,
      "outputs": [
        {
          "output_type": "stream",
          "name": "stdout",
          "text": [
            "Digite um número: 5\n",
            "5\n",
            "4\n",
            "3\n",
            "2\n",
            "1\n"
          ]
        }
      ]
    },
    {
      "cell_type": "code",
      "source": [],
      "metadata": {
        "id": "5G64M1t8UoZV"
      },
      "execution_count": null,
      "outputs": []
    },
    {
      "cell_type": "code",
      "source": [
        "#Utilize um loop while para imprimir os múltiplos de 3 de 3 a 30.\n",
        "numero = 3\n",
        "\n",
        "while numero <=30:\n",
        "   print(numero)\n",
        "   numero +=3"
      ],
      "metadata": {
        "colab": {
          "base_uri": "https://localhost:8080/"
        },
        "id": "Rf5CIn_NM1Ok",
        "outputId": "c0942a0f-ff41-49d5-cab9-3cdc7b66fd3a"
      },
      "execution_count": 24,
      "outputs": [
        {
          "output_type": "stream",
          "name": "stdout",
          "text": [
            "3\n",
            "6\n",
            "9\n",
            "12\n",
            "15\n",
            "18\n",
            "21\n",
            "24\n",
            "27\n",
            "30\n"
          ]
        }
      ]
    },
    {
      "cell_type": "code",
      "source": [
        "soma_notas = 0\n",
        "quantidade_notas = 0\n",
        "nota = 0\n",
        "\n",
        "while nota >=0:\n",
        "  nota = float(input(\"Digite a nota do aluno. (Insira um valor )\"))\n",
        "  if nota >=0:\n",
        "    soma_notas += nota\n",
        "    quantidade_notas += 1\n",
        "if quantidade_notas > 0:\n",
        "    media = soma_notas / quantidade_notas\n",
        "    print(f\"A média das notas é :{media}\")\n",
        "else:\n",
        "  print(\"Nenhuma nota foi inserida\")"
      ],
      "metadata": {
        "colab": {
          "base_uri": "https://localhost:8080/"
        },
        "id": "yU06xZQ5VlI0",
        "outputId": "d11da7b6-3543-459e-ce51-6f37ff957602"
      },
      "execution_count": 27,
      "outputs": [
        {
          "output_type": "stream",
          "name": "stdout",
          "text": [
            "Digite a nota do aluno. (Insira um valor )4\n",
            "Digite a nota do aluno. (Insira um valor )5\n",
            "Digite a nota do aluno. (Insira um valor )8\n",
            "Digite a nota do aluno. (Insira um valor )97\n",
            "Digite a nota do aluno. (Insira um valor )5\n",
            "Digite a nota do aluno. (Insira um valor )7\n",
            "Digite a nota do aluno. (Insira um valor )-7\n",
            "A média das notas é :21.0\n"
          ]
        }
      ]
    },
    {
      "cell_type": "code",
      "source": [
        "notas = []\n",
        "nota = 0\n",
        "\n",
        "while nota >= 0:\n",
        "  nota = float(input(\"Digite a nota do aluno: (Se desejar sair, digite um núemro negativo.)\"))\n",
        "  if nota >=0:\n",
        "    notas.append(nota)\n",
        "\n",
        "if len(notas) >0:\n",
        "  media = sum(notas) / len(notas)\n",
        "  print(f\"A média das notas é: {media}\")\n",
        "else:\n",
        "  print(\"Nenhuma nota foi inserida.\")\n",
        "\n"
      ],
      "metadata": {
        "colab": {
          "base_uri": "https://localhost:8080/"
        },
        "id": "_cvR_3DcXruW",
        "outputId": "9c79d617-807d-4d7e-bb44-52b3df83e40a"
      },
      "execution_count": 28,
      "outputs": [
        {
          "output_type": "stream",
          "name": "stdout",
          "text": [
            "Digite a nota do aluno: (Se desejar sair, digite um núemro negativo.)8\n",
            "Digite a nota do aluno: (Se desejar sair, digite um núemro negativo.)6\n",
            "Digite a nota do aluno: (Se desejar sair, digite um núemro negativo.)10\n",
            "Digite a nota do aluno: (Se desejar sair, digite um núemro negativo.)-8\n",
            "A média das notas é: 8.0\n"
          ]
        }
      ]
    },
    {
      "cell_type": "code",
      "source": [
        "import random\n",
        "\n",
        "numero_secreto = random.randint(1,20)\n",
        "tentativas = 0\n",
        "limite_tentativas = 5\n",
        "\n",
        "while tentativas < limite_tentativas:\n",
        "  palpite = int(input(\"Adivinhe o número\"))\n",
        "  tentativas =+1\n",
        "\n",
        "  if palpite == numero_secreto:\n",
        "    print(f\"Parabéns! Você acertou em {tentaivas} tentativas.\")\n",
        "    break\n",
        "  elif palpite < numero_secreto:\n",
        "    print(\"Tente um número maior.\")\n",
        "  else:\n",
        "    print(\"Tente um número menor.\")\n",
        "\n",
        "if tentativas == limite_tentativas:\n",
        "  print(f\"Limite de tentativas atingido. O número era {numero_secreto}\")\n",
        "\n",
        "\n"
      ],
      "metadata": {
        "colab": {
          "base_uri": "https://localhost:8080/"
        },
        "id": "ZCwIQ9m6YBV2",
        "outputId": "425030e2-ab5e-44d7-ec05-02c00c5505d0"
      },
      "execution_count": null,
      "outputs": [
        {
          "output_type": "stream",
          "name": "stdout",
          "text": [
            "Adivinhe o número2\n",
            "Tente um número maior.\n",
            "Adivinhe o número8\n",
            "Tente um número maior.\n",
            "Adivinhe o número11\n",
            "Tente um número maior.\n"
          ]
        }
      ]
    },
    {
      "cell_type": "markdown",
      "source": [
        "Crie um programa em Python com as seguintes especificações: Use While + if, elif, else ou For + if, else, elif. Crie um contexto real de uso dessas estruturas.\n",
        "\n",
        "*Plus (Opcional): Use inputs Use listas *"
      ],
      "metadata": {
        "id": "RvNT3oqkbTb-"
      }
    },
    {
      "cell_type": "code",
      "source": [
        "# Lista para armazenar os números\n",
        "numeros = []\n",
        "\n",
        "# Loop infinito\n",
        "while True:\n",
        "    # Solicita ao usuário para inserir um número\n",
        "    num = input(\"Insira um número ou 's' para sair: \")\n",
        "\n",
        "    # Verifica se o usuário quer sair\n",
        "    if num.lower() == 's':\n",
        "        break\n",
        "\n",
        "    # Converte a entrada do usuário para float e adiciona à lista\n",
        "    numeros.append(float(num))\n",
        "\n",
        "# Inicializa as somas\n",
        "soma_positivos = 0\n",
        "soma_negativos = 0\n",
        "\n",
        "# Loop para somar os números\n",
        "for num in numeros:\n",
        "    if num > 0:\n",
        "        soma_positivos += num\n",
        "    elif num < 0:\n",
        "        soma_negativos += num\n",
        "\n",
        "# Imprime as somas\n",
        "print(\"Soma dos números positivos:\", soma_positivos)\n",
        "print(\"Soma dos números negativos:\", soma_negativos)\n",
        "print(\"Soma total dos números:\", soma_positivos + soma_negativos)"
      ],
      "metadata": {
        "colab": {
          "base_uri": "https://localhost:8080/"
        },
        "id": "4wdPKvRhmyWx",
        "outputId": "6c2601c6-5834-4e3c-ad50-37e218c2dc84"
      },
      "execution_count": 43,
      "outputs": [
        {
          "output_type": "stream",
          "name": "stdout",
          "text": [
            "Insira um número ou 's' para sair: 2\n",
            "Insira um número ou 's' para sair: 4\n",
            "Insira um número ou 's' para sair: s\n",
            "Soma dos números positivos: 6.0\n",
            "Soma dos números negativos: 0\n",
            "Soma total dos números: 6.0\n"
          ]
        }
      ]
    }
  ]
}