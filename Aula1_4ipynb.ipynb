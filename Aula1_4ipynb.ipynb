{
  "nbformat": 4,
  "nbformat_minor": 0,
  "metadata": {
    "colab": {
      "provenance": [],
      "authorship_tag": "ABX9TyMczuzFDpoXGJHCukMdguV3",
      "include_colab_link": true
    },
    "kernelspec": {
      "name": "python3",
      "display_name": "Python 3"
    },
    "language_info": {
      "name": "python"
    }
  },
  "cells": [
    {
      "cell_type": "markdown",
      "metadata": {
        "id": "view-in-github",
        "colab_type": "text"
      },
      "source": [
        "<a href=\"https://colab.research.google.com/github/Rafahmachado/SoulCode-PreparaTech/blob/main/Aula1_4ipynb.ipynb\" target=\"_parent\"><img src=\"https://colab.research.google.com/assets/colab-badge.svg\" alt=\"Open In Colab\"/></a>"
      ]
    },
    {
      "cell_type": "markdown",
      "source": [
        "Aula01 Douglas Ribeiro (18/01)\n"
      ],
      "metadata": {
        "id": "i7x-jaxDZ5M-"
      }
    },
    {
      "cell_type": "code",
      "source": [
        "#Introdução\n",
        "'''\n",
        "Este recurso de três aspas serve para comentários longos\n",
        "já # é mais utilizado para comentários curtos\n",
        "'''\n",
        "print('Olá mundo')\n",
        "\n"
      ],
      "metadata": {
        "colab": {
          "base_uri": "https://localhost:8080/"
        },
        "id": "CCjYdXYuZ99t",
        "outputId": "5f484fa7-eb82-48b6-9d89-70169a448195"
      },
      "execution_count": null,
      "outputs": [
        {
          "output_type": "stream",
          "name": "stdout",
          "text": [
            "Olá mundo\n"
          ]
        }
      ]
    },
    {
      "cell_type": "markdown",
      "source": [
        "Variáveis"
      ],
      "metadata": {
        "id": "Nt1CUou2-FSC"
      }
    },
    {
      "cell_type": "code",
      "source": [
        "#criando variaveis\n",
        "nome = \"Douglas\" # criando a variavel nome e atribuindo a ela  o texto Douglas\n",
        "idade = 47 # criando a variavel idade e atribuindo a ela o valor 47\n",
        "altura =1.85\n",
        "print(nome)# mostrando o conteudo armazenado na variavel nome\n",
        "print(nome,idade, altura) # mostrando na mesma linha o conteúdo de nome e idade\n",
        "print(f\"O aluno {nome} tem {idade} anos de idade, e {altura} metros de altura\") # mostrando o conteúdo de nome e idade combinado com outros textos livres\n",
        "\n"
      ],
      "metadata": {
        "colab": {
          "base_uri": "https://localhost:8080/"
        },
        "id": "JRKyS7jkwNrV",
        "outputId": "898708e4-f0ba-49c3-e0c8-0c590a36db0e"
      },
      "execution_count": null,
      "outputs": [
        {
          "output_type": "stream",
          "name": "stdout",
          "text": [
            "Douglas\n",
            "Douglas 47 1.85\n",
            "O aluno Douglas tem 47 anos de idade, e 1.85 metros de altura\n"
          ]
        }
      ]
    },
    {
      "cell_type": "markdown",
      "source": [
        "Aula02 José Magalhães(19/01)\n",
        "\n"
      ],
      "metadata": {
        "id": "2LAMw4plm1Vq"
      }
    },
    {
      "cell_type": "markdown",
      "source": [
        "tipos de dados explicação\n"
      ],
      "metadata": {
        "id": "kEnrMF3mpAvt"
      }
    },
    {
      "cell_type": "code",
      "source": [
        "#criando variaveis\n",
        "nome = \"Douglas\" # criando a variavel nome e atribuindo a ela  o texto Douglas\n",
        "idade = 47 # criando a variavel idade e atribuindo a ela o valor 47\n",
        "altura =1.85\n",
        "type(altura)\n",
        "type(nome) #string\n"
      ],
      "metadata": {
        "colab": {
          "base_uri": "https://localhost:8080/"
        },
        "id": "l5Vvm2NLnGII",
        "outputId": "807f7425-7ce4-49d1-813d-8344952c2f53"
      },
      "execution_count": null,
      "outputs": [
        {
          "output_type": "execute_result",
          "data": {
            "text/plain": [
              "float"
            ]
          },
          "metadata": {},
          "execution_count": 1
        }
      ]
    },
    {
      "cell_type": "markdown",
      "source": [
        "Input entrada de dados"
      ],
      "metadata": {
        "id": "sujfbZyWsaGH"
      }
    },
    {
      "cell_type": "code",
      "source": [
        "nome = input(\"Digite seu nome :\") # input entrada de dados\n",
        "#Quando eu uso um input sem dizer o tipo de dado, automaticamente ele é string.\n",
        "print(nome)\n",
        "print(f'Seu nome é {nome}.')\n",
        "\n"
      ],
      "metadata": {
        "id": "0nXK8oFmrmw4",
        "colab": {
          "base_uri": "https://localhost:8080/"
        },
        "outputId": "07e64072-923d-4e32-820c-3e21a355bb9c"
      },
      "execution_count": null,
      "outputs": [
        {
          "output_type": "stream",
          "name": "stdout",
          "text": [
            "Digite seu nome :Rafaela\n",
            "Rafaela\n",
            "Seu nome é Rafaela.\n"
          ]
        }
      ]
    },
    {
      "cell_type": "code",
      "source": [
        "#Cast para inteiro\n",
        "#Toda vez que forçamos algo fora do padrão fora o comportamento fazemos um cast\n",
        "idade = int(input(\"Digite sua idade: \"))#input irá receber números\n",
        "print(idade)\n"
      ],
      "metadata": {
        "colab": {
          "base_uri": "https://localhost:8080/"
        },
        "id": "yP40hiSG16nc",
        "outputId": "385c5652-b4f8-4930-e9d9-925c05e31ef6"
      },
      "execution_count": null,
      "outputs": [
        {
          "output_type": "stream",
          "name": "stdout",
          "text": [
            "Digite sua idade: 35\n",
            "35\n"
          ]
        },
        {
          "output_type": "execute_result",
          "data": {
            "text/plain": [
              "int"
            ]
          },
          "metadata": {},
          "execution_count": 9
        }
      ]
    },
    {
      "cell_type": "code",
      "source": [
        "altura = float(input(\"Digite sua altura:\"))\n",
        "print(altura)\n",
        "\n"
      ],
      "metadata": {
        "colab": {
          "base_uri": "https://localhost:8080/"
        },
        "id": "d8S9PIpF6mO7",
        "outputId": "6801d376-c25a-4d72-8b9a-7716734153ba"
      },
      "execution_count": null,
      "outputs": [
        {
          "output_type": "stream",
          "name": "stdout",
          "text": [
            "Digite sua altura:1.65\n",
            "1.65\n"
          ]
        }
      ]
    },
    {
      "cell_type": "markdown",
      "source": [
        "Operações Matemáticas"
      ],
      "metadata": {
        "id": "QwDQuEq3_klA"
      }
    },
    {
      "cell_type": "code",
      "source": [
        "# soma +\n",
        "# subtração -\n",
        "# multipicação *\n",
        "# divisão /\n",
        "# divisaõ por inteiro //\n",
        "# resto de divisão %\n",
        "# potenciação **\n",
        "\n",
        "3 + 3\n",
        "#Armazenando soma dentro de variável\n",
        "soma = 3 + 3\n",
        "minhaDivisao = 7/2\n",
        "print(\"Soma:\" ,soma)\n",
        "print(\"Divisao:\" ,minhaDivisao)\n",
        "subtracao = 8-4\n",
        "print(\"Subtração: \",subtracao)\n",
        "multiplicacao = 8 * 9\n",
        "print(\"Multiplicação: \", multiplicacao)\n",
        "divisaoInteira = 7//2\n",
        "print(\"Divisao Inteira: \", divisaoInteira)\n",
        "#Muito utilizado para calcular numeros pares e ímpares\n",
        "restoDivisao = 8 % 2 #o que resta da divisão ,para saber impar par\n",
        "print(\"Resto da divisão\" , restoDivisao)\n",
        "potencia = 3**3\n",
        "print(\"Potência:\", potencia)\n",
        "raiz = 9**(1/2)#rAIZ QUADRADA\n",
        "print(\"Raiz Quadrada\" , raiz)\n"
      ],
      "metadata": {
        "colab": {
          "base_uri": "https://localhost:8080/"
        },
        "id": "QSNhHm1HDM9A",
        "outputId": "34f63376-fa7c-4806-f0ef-66ace387e994"
      },
      "execution_count": null,
      "outputs": [
        {
          "output_type": "stream",
          "name": "stdout",
          "text": [
            "Soma: 6\n",
            "Divisao: 3.5\n",
            "Subtração:  4\n",
            "Multiplicação:  72\n",
            "Divisao Inteira:  3\n",
            "Resto da divisão 0\n",
            "Potência: 27\n",
            "Raiz Quadrada 3.0\n"
          ]
        }
      ]
    },
    {
      "cell_type": "markdown",
      "source": [
        "Operações matemáticas com variáveis"
      ],
      "metadata": {
        "id": "jrW5lcsPeykA"
      }
    },
    {
      "cell_type": "code",
      "source": [
        "num1 = 10\n",
        "num2 = 15\n",
        "num3 = 25\n",
        "resultado = num1 + num2 + num3\n",
        "resulatdo2 = num1 + (num2 * num3)\n",
        "print(\"Resultado:\", resultado)\n",
        "print(\"Resultado 2: \", resultado2)"
      ],
      "metadata": {
        "colab": {
          "base_uri": "https://localhost:8080/"
        },
        "id": "2Q_XJcGsEH9A",
        "outputId": "a24de441-80db-49eb-b482-b1f9255134bc"
      },
      "execution_count": null,
      "outputs": [
        {
          "output_type": "stream",
          "name": "stdout",
          "text": [
            "Resultado: 50\n",
            "Resultado 2:  385\n"
          ]
        }
      ]
    },
    {
      "cell_type": "code",
      "source": [],
      "metadata": {
        "id": "ss3CPJ6nkVlt"
      },
      "execution_count": null,
      "outputs": []
    },
    {
      "cell_type": "code",
      "source": [
        "num1 = 10\n",
        "num2 = 15\n",
        "num3 = 25\n",
        "resultado = num1 + num2 + num3\n",
        "resultado2 = num1 + (num2 * num3)\n",
        "print(\"Resultado: \", resultado)\n",
        "print(\"Resultado 2: \", resultado)"
      ],
      "metadata": {
        "colab": {
          "base_uri": "https://localhost:8080/"
        },
        "id": "4chEKPs4fEeJ",
        "outputId": "dde202bb-08ee-4b4c-8c80-bf323d3e867f"
      },
      "execution_count": null,
      "outputs": [
        {
          "output_type": "stream",
          "name": "stdout",
          "text": [
            "Resultado:  50\n",
            "Resultado 2:  385\n"
          ]
        }
      ]
    },
    {
      "cell_type": "code",
      "source": [
        "n1 = int(input(\"Digite um número: \"))\n",
        "n2 = int(input(\"Digite outro número: \"))\n",
        "novo_resultado = n1 + n2 #A operação matemática que vai dizer o tipo de dado do resultado final\n",
        "print(novo_resultado)"
      ],
      "metadata": {
        "colab": {
          "base_uri": "https://localhost:8080/"
        },
        "id": "DzLVjHdcjIAw",
        "outputId": "0560ca85-0987-470a-a8ad-c8dd897ec078"
      },
      "execution_count": null,
      "outputs": [
        {
          "output_type": "stream",
          "name": "stdout",
          "text": [
            "Digite um número: 10\n",
            "Digite outro número: 10\n",
            "20\n"
          ]
        }
      ]
    },
    {
      "cell_type": "markdown",
      "source": [
        "Q1: Declare duas variáveis e realize as quatro operações básicas (soma, subtração, divisão e multiplicação). Ao final, exiba todos os resultados em um print"
      ],
      "metadata": {
        "id": "BfDgXZ8aq_nH"
      }
    },
    {
      "cell_type": "code",
      "source": [
        "num1 = 10\n",
        "num2 = 5\n",
        "resultado = num1 * num2 + num1\n",
        "#print(resultado)\n",
        "resultado2 = num2 / num1\n",
        "#print(resultado2)\n",
        "resultado3 = num1 - num2\n",
        "#print(resultado3)\n",
        "print(\"Resultado:\" , resultado , resultado2 , resultado3)\n",
        "\n",
        "\n"
      ],
      "metadata": {
        "colab": {
          "base_uri": "https://localhost:8080/"
        },
        "id": "y-WKCENjrP2h",
        "outputId": "d520ae21-3f23-452d-dd91-1053346970fd"
      },
      "execution_count": null,
      "outputs": [
        {
          "output_type": "stream",
          "name": "stdout",
          "text": [
            "Resultado: 60 0.5 5\n"
          ]
        }
      ]
    },
    {
      "cell_type": "markdown",
      "source": [],
      "metadata": {
        "id": "leh_PjwFrZkN"
      }
    },
    {
      "cell_type": "markdown",
      "source": [
        "**Q2: Crie uma variável do tipo float chamada comprimento e outra do tipo float chamada largura. Peça para o usuário inserir esses dados, e realize dois cálculos: area e perímetro, ao final, use print para mostrar os resultados.**"
      ],
      "metadata": {
        "id": "8c-cs7egrAlC"
      }
    },
    {
      "cell_type": "code",
      "source": [
        "comprimento = float\n",
        "largura = float\n",
        "comprimento =float(input(\"Digite o comprimento: \"))\n",
        "largura =float(input(\"Digite a largura: \"))\n",
        "print(comprimento)\n",
        "print(largura)\n"
      ],
      "metadata": {
        "colab": {
          "base_uri": "https://localhost:8080/"
        },
        "id": "GaKxXNRgumy3",
        "outputId": "bb516873-1e3c-43bf-c905-9b79805146ea"
      },
      "execution_count": null,
      "outputs": [
        {
          "output_type": "stream",
          "name": "stdout",
          "text": [
            "Digite o comprimento: 1.2\n",
            "Digite a largura: 1.4\n",
            "1.2\n",
            "1.4\n"
          ]
        }
      ]
    },
    {
      "cell_type": "markdown",
      "source": [
        "correção dos exercícios\n",
        "Q1\n"
      ],
      "metadata": {
        "id": "qWLi1FpQ0AIs"
      }
    },
    {
      "cell_type": "code",
      "source": [
        "num1 = 10\n",
        "num = 5\n",
        "soma = num1 + num2\n",
        "subtração = num1 -num2\n",
        "divisao = num1 / num2\n",
        "multiplicacao = num1 * num2\n",
        "\n",
        "print(\"Soma: \",soma)\n",
        "print(\"Subtraçao\",subtracao)\n",
        "print(\"Divisão\" ,divisao)\n",
        "print(\"Multiplicação\",multiplicacao)\n"
      ],
      "metadata": {
        "colab": {
          "base_uri": "https://localhost:8080/"
        },
        "id": "a4gZG18k0LkD",
        "outputId": "401eb84b-027d-4358-b017-9ab27cfdc397"
      },
      "execution_count": null,
      "outputs": [
        {
          "output_type": "stream",
          "name": "stdout",
          "text": [
            "Soma:  15\n",
            "Subtraçao 4\n",
            "Divisão 2.0\n",
            "Multiplicação 50\n"
          ]
        }
      ]
    },
    {
      "cell_type": "markdown",
      "source": [
        "Q.2"
      ],
      "metadata": {
        "id": "T9aYoVXG0JVc"
      }
    },
    {
      "cell_type": "code",
      "source": [
        "comprimento = float(input(\"Digite o comprimento: \"))\n",
        "largura = float(input(\"Digite a largura: \"))\n",
        "\n",
        "area = comprimento * largura\n",
        "perimetro = 2 * comprimento + largura\n",
        "\n",
        "print(\"Área:\", area)\n",
        "print(\"Perimetro\", perimetro)"
      ],
      "metadata": {
        "colab": {
          "base_uri": "https://localhost:8080/"
        },
        "id": "igKadD4h0Kbn",
        "outputId": "9770849a-aae4-484e-90d8-00ae70b7f5cf"
      },
      "execution_count": null,
      "outputs": [
        {
          "output_type": "stream",
          "name": "stdout",
          "text": [
            "Digite o comprimento: 35.2\n",
            "Digite a largura: 22.5\n",
            "Área: 792.0000000000001\n",
            "Perimetro 792.0000000000001\n"
          ]
        }
      ]
    },
    {
      "cell_type": "markdown",
      "source": [
        "*Escreva um programa em Python que solicite ao usuário o raio da base e a altura de um cilindro. Calcule e imprima o volume do cilindro usando a fórmula: Volume = π * raio^2 * altura. PI = 3,14**"
      ],
      "metadata": {
        "id": "baGpbzVn-bo_"
      }
    },
    {
      "cell_type": "code",
      "source": [
        "raio = float(input('digite a base'))\n",
        "altura = float(input('digite a altura'))\n",
        "pi = 3.14\n",
        "volume =  pi*raio**2 *altura\n",
        "print(\" O volume do cilindro é\",volume_cilindro)"
      ],
      "metadata": {
        "id": "WWakM_-e_W5G"
      },
      "execution_count": null,
      "outputs": []
    },
    {
      "cell_type": "markdown",
      "source": [
        "correção\n"
      ],
      "metadata": {
        "id": "_NeU3JqwEBPj"
      }
    },
    {
      "cell_type": "code",
      "source": [],
      "metadata": {
        "id": "2MRP3nwDETUi"
      },
      "execution_count": null,
      "outputs": []
    },
    {
      "cell_type": "code",
      "source": [
        "raio = float(input(\"Digite o raio da base do cilindro\"))\n",
        "altura = float(input(\"Digite a altura do cilindro\"))\n",
        "PI = 3.14#CONSATANTE NÃO MUDA DE VALOR\n",
        "volume_do_cilindro = PI * raio**2 *altura\n",
        "print(volume_do_cilindro)"
      ],
      "metadata": {
        "colab": {
          "base_uri": "https://localhost:8080/"
        },
        "id": "-WyiwQCPEDkb",
        "outputId": "3e1c15c3-f649-4c03-b51a-47668cbc9332"
      },
      "execution_count": null,
      "outputs": [
        {
          "output_type": "stream",
          "name": "stdout",
          "text": [
            "Digite o raio da base do cilindro10.2\n",
            "Digite a altura do cilindro15.4\n",
            "5030.95824\n"
          ]
        }
      ]
    },
    {
      "cell_type": "markdown",
      "source": [
        "Aula 3 Professora Fran (22/01)\n",
        "\n",
        "\n",
        "##Operadores de comparação"
      ],
      "metadata": {
        "id": "EA3bauPhCikq"
      }
    },
    {
      "cell_type": "code",
      "source": [
        "# Estou verificando se duas variaveis são iguais\n",
        "# Estou usando o operador ==\n",
        "a = 3\n",
        "b = 4\n",
        "\n",
        "teste1 = a == b\n",
        "print(teste1)"
      ],
      "metadata": {
        "colab": {
          "base_uri": "https://localhost:8080/"
        },
        "id": "we6QQ0_UC3Ce",
        "outputId": "ec865e03-eac9-4337-e1a6-86523f85d290"
      },
      "execution_count": null,
      "outputs": [
        {
          "output_type": "stream",
          "name": "stdout",
          "text": [
            "False\n"
          ]
        }
      ]
    },
    {
      "cell_type": "code",
      "source": [
        "# O Python é sensivel com letras maiusculas e minusculas\n",
        "# As comparações de texto devem ser exatamente iguais\n",
        "a = 'Fran'\n",
        "b = 'fran'\n",
        "teste2 = a == b\n",
        "print(teste2)"
      ],
      "metadata": {
        "colab": {
          "base_uri": "https://localhost:8080/"
        },
        "id": "zjEnX2GQDAnh",
        "outputId": "bc0d152d-6ad6-44df-d1c4-5e25003f638d"
      },
      "execution_count": null,
      "outputs": [
        {
          "output_type": "stream",
          "name": "stdout",
          "text": [
            "False\n"
          ]
        }
      ]
    },
    {
      "cell_type": "code",
      "source": [
        "a = 9\n",
        "b = 9.0\n",
        "teste3 = a == b\n",
        "print(teste3)"
      ],
      "metadata": {
        "colab": {
          "base_uri": "https://localhost:8080/"
        },
        "id": "KzpHEsyMDIER",
        "outputId": "1afbb2c0-f2a8-4a2a-c1c5-4ba735726b2c"
      },
      "execution_count": null,
      "outputs": [
        {
          "output_type": "stream",
          "name": "stdout",
          "text": [
            "True\n"
          ]
        }
      ]
    },
    {
      "cell_type": "code",
      "source": [
        "# Estou comparando se duas variáveis são diferentes\n",
        "a = 4\n",
        "b = 2\n",
        "teste4 = a != b\n",
        "print(teste4)"
      ],
      "metadata": {
        "colab": {
          "base_uri": "https://localhost:8080/"
        },
        "id": "KBxIdJBNDSXg",
        "outputId": "876ee653-606d-4687-b8a0-9c2caba3388c"
      },
      "execution_count": null,
      "outputs": [
        {
          "output_type": "stream",
          "name": "stdout",
          "text": [
            "True\n"
          ]
        }
      ]
    },
    {
      "cell_type": "code",
      "source": [
        "# Mais um exemplo de comparação de duas variáveis diferentes\n",
        "# O Python é sensivel com letras maiusculas e minusculas\n",
        "c = 'alunos'\n",
        "d = 'ALUNOS'\n",
        "teste5 = c != d\n",
        "print(teste5)"
      ],
      "metadata": {
        "colab": {
          "base_uri": "https://localhost:8080/"
        },
        "id": "UkBRITmPDYJY",
        "outputId": "d5494302-e8e1-4f07-b0d5-09bbae34963f"
      },
      "execution_count": null,
      "outputs": [
        {
          "output_type": "stream",
          "name": "stdout",
          "text": [
            "True\n"
          ]
        }
      ]
    },
    {
      "cell_type": "code",
      "source": [
        "# Vamos colocar as letras todas em maiusculo\n",
        "c = 'ALUNOS'\n",
        "d = 'ALUNOS'\n",
        "teste6 = c != d\n",
        "print(teste6)"
      ],
      "metadata": {
        "colab": {
          "base_uri": "https://localhost:8080/"
        },
        "id": "o8-sxfdEDkLo",
        "outputId": "df1b8715-0c82-4a75-b1b8-897d2807dfa7"
      },
      "execution_count": null,
      "outputs": [
        {
          "output_type": "stream",
          "name": "stdout",
          "text": [
            "False\n"
          ]
        }
      ]
    },
    {
      "cell_type": "code",
      "source": [
        "# Vamos fazer mais um exemplo de comparação com espaço\n",
        "# Espaços são contados dentro do Python\n",
        "f = 'ALUNOS '\n",
        "g = 'ALUNOS'\n",
        "teste7 = f != g\n",
        "print(teste7)"
      ],
      "metadata": {
        "colab": {
          "base_uri": "https://localhost:8080/"
        },
        "id": "eWWY1frbDp_X",
        "outputId": "760299cf-980d-4a5d-a489-3895199ba3ec"
      },
      "execution_count": null,
      "outputs": [
        {
          "output_type": "stream",
          "name": "stdout",
          "text": [
            "True\n"
          ]
        }
      ]
    },
    {
      "cell_type": "code",
      "source": [
        "'''\n",
        "vamos\n",
        "fazer\n",
        "um cometário\n",
        "longo\n",
        "'''"
      ],
      "metadata": {
        "id": "nXcBZjmuD27a"
      },
      "execution_count": null,
      "outputs": []
    },
    {
      "cell_type": "code",
      "source": [
        "print(\"I'm Fran\")"
      ],
      "metadata": {
        "colab": {
          "base_uri": "https://localhost:8080/"
        },
        "id": "TSPl45AeD82x",
        "outputId": "d69c2816-af6e-41de-ca78-49cea35ea8eb"
      },
      "execution_count": null,
      "outputs": [
        {
          "output_type": "stream",
          "name": "stdout",
          "text": [
            "I'm Fran\n"
          ]
        }
      ]
    },
    {
      "cell_type": "code",
      "source": [
        "# Vamos usar o sinal > (sinal de maior que) para comparações\n",
        "h = 3\n",
        "v = 2\n",
        "teste8 = h > v\n",
        "print(teste8)"
      ],
      "metadata": {
        "colab": {
          "base_uri": "https://localhost:8080/"
        },
        "id": "BKmifmQYEIz-",
        "outputId": "3a6d61f6-240a-438d-e91e-e5bc8fd4eb21"
      },
      "execution_count": null,
      "outputs": [
        {
          "output_type": "stream",
          "name": "stdout",
          "text": [
            "True\n"
          ]
        }
      ]
    },
    {
      "cell_type": "code",
      "source": [
        "# Outra forma de visualizar nossas comparações\n",
        "print(3 > 2)"
      ],
      "metadata": {
        "colab": {
          "base_uri": "https://localhost:8080/"
        },
        "id": "h3VCzVM-EOeu",
        "outputId": "dbd2e223-287b-4cbd-9abb-0f211b744e51"
      },
      "execution_count": null,
      "outputs": [
        {
          "output_type": "stream",
          "name": "stdout",
          "text": [
            "True\n"
          ]
        }
      ]
    },
    {
      "cell_type": "code",
      "source": [
        "# testando com duas strings\n",
        "# Vamos verificar!\n",
        "a = 'Franciane'\n",
        "b = 'FRAN'\n",
        "teste9 = a > b\n",
        "print(teste9)"
      ],
      "metadata": {
        "colab": {
          "base_uri": "https://localhost:8080/"
        },
        "id": "ay1UEmsiEYae",
        "outputId": "b8ee5b6d-d455-43d3-81d6-7c748101f252"
      },
      "execution_count": null,
      "outputs": [
        {
          "output_type": "stream",
          "name": "stdout",
          "text": [
            "True\n"
          ]
        }
      ]
    },
    {
      "cell_type": "code",
      "source": [
        "#Testando com duas strings\n",
        "a = \"natacha\"\n",
        "b = \"natacha\"\n",
        "teste9 = a > b\n",
        "print(teste9)"
      ],
      "metadata": {
        "colab": {
          "base_uri": "https://localhost:8080/"
        },
        "id": "jac2WrCHEhou",
        "outputId": "8cc052e6-b021-41b6-a060-4db2637bb6af"
      },
      "execution_count": null,
      "outputs": [
        {
          "output_type": "stream",
          "name": "stdout",
          "text": [
            "False\n"
          ]
        }
      ]
    },
    {
      "cell_type": "code",
      "source": [
        "# Vamos usar >= (sinal de maior ou igual a) para nossas comparações\n",
        "a = 'Franciane'\n",
        "b = 'FRAN'\n",
        "teste10 = a >= b\n",
        "print(teste10)"
      ],
      "metadata": {
        "colab": {
          "base_uri": "https://localhost:8080/"
        },
        "id": "e4wdeuhlEkk1",
        "outputId": "45d78a6a-38f3-43fd-b9cb-037515cd8a77"
      },
      "execution_count": null,
      "outputs": [
        {
          "output_type": "stream",
          "name": "stdout",
          "text": [
            "True\n"
          ]
        }
      ]
    },
    {
      "cell_type": "code",
      "source": [
        "# Outra forma de escrever testes\n",
        "teste11 = 3 >= 3\n",
        "print(teste11)"
      ],
      "metadata": {
        "colab": {
          "base_uri": "https://localhost:8080/"
        },
        "id": "Ch_-rTkrEtLG",
        "outputId": "70bc9043-248f-4ef4-edd8-cc60eb607e4d"
      },
      "execution_count": null,
      "outputs": [
        {
          "output_type": "stream",
          "name": "stdout",
          "text": [
            "True\n"
          ]
        }
      ]
    },
    {
      "cell_type": "code",
      "source": [
        "# Mais um teste\n",
        "teste12 = 5 >= 7\n",
        "print(teste12)"
      ],
      "metadata": {
        "colab": {
          "base_uri": "https://localhost:8080/"
        },
        "id": "9nbBNzu_E5_e",
        "outputId": "23f3f6c2-9774-4b30-e9c8-0fbefafef838"
      },
      "execution_count": null,
      "outputs": [
        {
          "output_type": "stream",
          "name": "stdout",
          "text": [
            "False\n"
          ]
        }
      ]
    },
    {
      "cell_type": "code",
      "source": [
        "# Vamos usar < (menor que) para nossas comparações\n",
        "teste13 = 2 < 2\n",
        "print(teste13)"
      ],
      "metadata": {
        "colab": {
          "base_uri": "https://localhost:8080/"
        },
        "id": "A4ZVB72eE0G9",
        "outputId": "65280864-2d3d-41b1-d553-a0f881677da4"
      },
      "execution_count": null,
      "outputs": [
        {
          "output_type": "stream",
          "name": "stdout",
          "text": [
            "False\n"
          ]
        }
      ]
    },
    {
      "cell_type": "code",
      "source": [
        "# Vamos fazer um novo teste\n",
        "teste14 = 1 < 2\n",
        "print(teste14)"
      ],
      "metadata": {
        "colab": {
          "base_uri": "https://localhost:8080/"
        },
        "id": "HMd0ctnjFLT8",
        "outputId": "73b0863a-b205-485d-a65f-8eb61ef9c9ea"
      },
      "execution_count": null,
      "outputs": [
        {
          "output_type": "stream",
          "name": "stdout",
          "text": [
            "True\n"
          ]
        }
      ]
    },
    {
      "cell_type": "code",
      "source": [
        "# Vamos usar <= (sinal de menor ou igual) para nossas comparações\n",
        "teste15 = 2 <= 2\n",
        "print(teste15)\n"
      ],
      "metadata": {
        "colab": {
          "base_uri": "https://localhost:8080/"
        },
        "id": "7RdiFDsNFTP9",
        "outputId": "c944c864-0d88-4bd8-d118-8ad28e36b622"
      },
      "execution_count": null,
      "outputs": [
        {
          "output_type": "stream",
          "name": "stdout",
          "text": [
            "True\n"
          ]
        }
      ]
    },
    {
      "cell_type": "code",
      "source": [
        "teste15"
      ],
      "metadata": {
        "colab": {
          "base_uri": "https://localhost:8080/"
        },
        "id": "fKiR-1tKFgdt",
        "outputId": "7d62aae3-c62a-46d3-de94-d43cd124a7aa"
      },
      "execution_count": null,
      "outputs": [
        {
          "output_type": "execute_result",
          "data": {
            "text/plain": [
              "True"
            ]
          },
          "metadata": {},
          "execution_count": 33
        }
      ]
    },
    {
      "cell_type": "code",
      "source": [
        "teste15 # forma direta\n",
        "print(teste15) # forma que estamos acostumados\n",
        "print('O resultado do nosso teste é: ', teste15) # outra forma\n",
        "print(f'O resultado do teste 15 é {teste15}') # outra forma de aparecer"
      ],
      "metadata": {
        "colab": {
          "base_uri": "https://localhost:8080/"
        },
        "id": "Z3pruSxZFpqU",
        "outputId": "6a9162f9-aecb-4dfc-f529-59bbb7b453e3"
      },
      "execution_count": null,
      "outputs": [
        {
          "output_type": "stream",
          "name": "stdout",
          "text": [
            "True\n",
            "O resultado do nosso teste é:  True\n",
            "O resultado do teste 15 é True\n"
          ]
        }
      ]
    },
    {
      "cell_type": "markdown",
      "source": [
        "\n",
        "\n",
        "##Operadores de Atribuição\n"
      ],
      "metadata": {
        "id": "d-RR4f7ZL5AX"
      }
    },
    {
      "cell_type": "code",
      "source": [],
      "metadata": {
        "id": "bYu-64JmL8ge"
      },
      "execution_count": null,
      "outputs": []
    },
    {
      "cell_type": "code",
      "source": [
        "# Atribuição direta (=)\n",
        "nome = 'Fran'\n",
        "peso = 51\n",
        "altura = 1.65"
      ],
      "metadata": {
        "id": "gxVgG6UyX226"
      },
      "execution_count": null,
      "outputs": []
    },
    {
      "cell_type": "code",
      "source": [],
      "metadata": {
        "id": "hGfP6hJuMFDW"
      },
      "execution_count": null,
      "outputs": []
    },
    {
      "cell_type": "code",
      "source": [
        "# Atribuição de soma (+=)\n",
        "# Exemplo: crie uma variável que receba o numero 3 e depois some 1\n",
        "# para essa variável\n",
        "t = 3       # entrada do dado\n",
        "t = t + 1   # fazendo uma atribuição a variação\n",
        "print('O resultado de t + 1 é: ', t)"
      ],
      "metadata": {
        "colab": {
          "base_uri": "https://localhost:8080/"
        },
        "id": "V_SFyr9eZcQq",
        "outputId": "4b93919c-5894-4839-eafa-43dafae38613"
      },
      "execution_count": null,
      "outputs": [
        {
          "output_type": "stream",
          "name": "stdout",
          "text": [
            "O resultado de t + 1 é:  4\n"
          ]
        }
      ]
    },
    {
      "cell_type": "code",
      "source": [],
      "metadata": {
        "id": "affWz5gzMIK-"
      },
      "execution_count": null,
      "outputs": []
    },
    {
      "cell_type": "code",
      "source": [
        "# Usando o operador de atribuição de soma (+=)\n",
        "# Escrevendo de forma chic e bonita\n",
        "t = 3\n",
        "t += 1  # Lembrete t = t + 1\n",
        "print('O resultado de t + 1 é: ', t)"
      ],
      "metadata": {
        "colab": {
          "base_uri": "https://localhost:8080/"
        },
        "id": "f_pjKsxDafD3",
        "outputId": "d70efb16-9e35-402e-fba4-a80f697eea18"
      },
      "execution_count": null,
      "outputs": [
        {
          "output_type": "stream",
          "name": "stdout",
          "text": [
            "O resultado de t + 1 é:  4\n"
          ]
        }
      ]
    },
    {
      "cell_type": "code",
      "source": [],
      "metadata": {
        "id": "kM1vZ09EMURt"
      },
      "execution_count": null,
      "outputs": []
    },
    {
      "cell_type": "code",
      "source": [
        "# Modo por extenso\n",
        "numero1 = 5\n",
        "numero1 = numero1 + 5\n",
        "print('O resultado da soma da variável numero1 é: ', numero1)"
      ],
      "metadata": {
        "colab": {
          "base_uri": "https://localhost:8080/"
        },
        "id": "YgP6aoMZch13",
        "outputId": "d4d4cd7b-50ac-4837-e62c-9a26e97ace5e"
      },
      "execution_count": null,
      "outputs": [
        {
          "output_type": "stream",
          "name": "stdout",
          "text": [
            "O resultado da soma da variável numero1 é:  10\n"
          ]
        }
      ]
    },
    {
      "cell_type": "code",
      "source": [],
      "metadata": {
        "id": "9cMOwc1QMnes"
      },
      "execution_count": null,
      "outputs": []
    },
    {
      "cell_type": "code",
      "source": [
        "# Atribuição de soma (+=)\n",
        "numero1 = 5\n",
        "numero1 += 5\n",
        "print('O resultado da soma da variável numero1 é: ', numero1)"
      ],
      "metadata": {
        "colab": {
          "base_uri": "https://localhost:8080/"
        },
        "id": "qxGV_CORd-1C",
        "outputId": "c385b3bb-d1ff-41c7-e364-510d9567432f"
      },
      "execution_count": null,
      "outputs": [
        {
          "output_type": "stream",
          "name": "stdout",
          "text": [
            "O resultado da soma da variável numero1 é:  10\n"
          ]
        }
      ]
    },
    {
      "cell_type": "code",
      "source": [],
      "metadata": {
        "id": "ujfgBUm6MzXF"
      },
      "execution_count": null,
      "outputs": []
    },
    {
      "cell_type": "code",
      "source": [
        "# Atribuição de subtração (-=)\n",
        "# Exemplo: Crie uma variável z que receba o numero 5 e depois\n",
        "# diminua 2 para essa variável\n",
        "z = 5\n",
        "z = z - 2\n",
        "print(f'O resultado da subtração é {z}')\n",
        "print('O resultado da subtração é:', z)\n",
        "print(z)"
      ],
      "metadata": {
        "colab": {
          "base_uri": "https://localhost:8080/"
        },
        "id": "Bl6lJK0FgdEV",
        "outputId": "6f4ddf43-c500-4e29-fc52-f600c3a84f40"
      },
      "execution_count": null,
      "outputs": [
        {
          "output_type": "stream",
          "name": "stdout",
          "text": [
            "O resultado da subtração é 3\n",
            "O resultado da subtração é: 3\n",
            "3\n"
          ]
        }
      ]
    },
    {
      "cell_type": "code",
      "source": [],
      "metadata": {
        "id": "xtr5xSzpM5mW"
      },
      "execution_count": null,
      "outputs": []
    },
    {
      "cell_type": "code",
      "source": [
        "# Forma abreviada do nosso exemplo\n",
        "z = 5\n",
        "z -= 2\n",
        "print(f'O resultado da subtração é {z}')\n",
        "print('O resultado da subtração é:', z)\n",
        "print(z)"
      ],
      "metadata": {
        "colab": {
          "base_uri": "https://localhost:8080/"
        },
        "id": "m1rCmxRJh8sH",
        "outputId": "4208f8e1-608e-4eed-b945-108260d98122"
      },
      "execution_count": null,
      "outputs": [
        {
          "output_type": "stream",
          "name": "stdout",
          "text": [
            "O resultado da subtração é 3\n",
            "O resultado da subtração é: 3\n",
            "3\n"
          ]
        }
      ]
    },
    {
      "cell_type": "markdown",
      "source": [
        "Aula 4 José Magalhães(23/01)\n",
        "\n",
        "Comando de controle de fluxo\n",
        "\n",
        "\n",
        "IF, ELSE ,ELIF"
      ],
      "metadata": {
        "id": "jeg1C3bj44aZ"
      }
    },
    {
      "cell_type": "code",
      "source": [
        "#IF,ELSE, ELIF Servem para verificar condições\n",
        "idade = 18\n",
        "if idade >= 18: # Condição => True,False\n",
        "  print(\"Você é maior de idade\")\n"
      ],
      "metadata": {
        "colab": {
          "base_uri": "https://localhost:8080/"
        },
        "id": "1qi61pdI5I3I",
        "outputId": "c0a2405b-a0de-44cf-a594-c5c9eeb98c90"
      },
      "execution_count": null,
      "outputs": [
        {
          "output_type": "stream",
          "name": "stdout",
          "text": [
            "Você é maior de idade\n"
          ]
        }
      ]
    },
    {
      "cell_type": "code",
      "source": [
        "saldo = -100\n",
        "if saldo > 0:#se\n",
        "  print(\"Seu saldo é positivo\")\n",
        "else: #se não\n",
        "  print(\"Seu saldo é negativo\")"
      ],
      "metadata": {
        "colab": {
          "base_uri": "https://localhost:8080/"
        },
        "id": "XIAwRFWB5UbK",
        "outputId": "d21562af-e096-41f6-f8d2-831ccffc5414"
      },
      "execution_count": null,
      "outputs": [
        {
          "output_type": "stream",
          "name": "stdout",
          "text": [
            "Seu saldo é negativo\n"
          ]
        }
      ]
    },
    {
      "cell_type": "code",
      "source": [
        "#elif é o mesmo que\n",
        "#elif é o mesmo que else if\n",
        "#If faz a primeira vericação\n",
        "#Elif faz as outras verificações, se houverem\n",
        "#Else faz a última verificação\n",
        "nota = float(input(\"Digite sua nota\"))\n",
        "\n",
        "if nota>= 90:\n",
        "  print(\"A\")\n",
        "elif 80 <= nota < 90:\n",
        "  print(\"B\")\n",
        "elif 70 <= nota < 80:\n",
        "  print(\"C\")\n",
        "elif 60 <= nota < 70:\n",
        "  print(\"D\")\n",
        "else:\n",
        "  print(\"F\")\n"
      ],
      "metadata": {
        "colab": {
          "base_uri": "https://localhost:8080/"
        },
        "id": "inBqQ3pO5cHY",
        "outputId": "edcb7b38-34fe-4d2b-b1f5-37ca34126040"
      },
      "execution_count": null,
      "outputs": [
        {
          "output_type": "stream",
          "name": "stdout",
          "text": [
            "Digite sua nota100\n",
            "A\n"
          ]
        }
      ]
    },
    {
      "cell_type": "code",
      "source": [
        "#Variáveis de credenciais\n",
        "usuario = input(\"Digite seu usuário: \")\n",
        "senha = input(\"Digite sua senha: \")\n",
        "\n",
        "#Verificação de autenticidade dos usuários\n",
        "if usuario == \"admin\" and senha ==\"admin123\":\n",
        "  print(\"Login bem-sucedido. Bem-vindo, Administrador.\")\n",
        "elif usuario == \"convidado\" and senha == \"convidado123\":\n",
        "  print(\"Login bem-sucedido. Bem-vindo, convidado.\")\n",
        "else:\n",
        "  print(\"Credenciais inválidas! Tente novamente.\")"
      ],
      "metadata": {
        "colab": {
          "base_uri": "https://localhost:8080/"
        },
        "id": "wnYwS13S5mSw",
        "outputId": "a8cb2711-5345-42ec-d4f4-e4edeaf152f5"
      },
      "execution_count": null,
      "outputs": [
        {
          "output_type": "stream",
          "name": "stdout",
          "text": [
            "Digite seu usuário: admin\n",
            "Digite sua senha: admin123\n",
            "Login bem-sucedido. Bem-vindo, Administrador.\n"
          ]
        }
      ]
    },
    {
      "cell_type": "markdown",
      "source": [
        "Q1 Crie um programa em Python que solicita ao usuário inserir um número.Oprograma deve imprimir se o númeroé positivo,negativo ou zero"
      ],
      "metadata": {
        "id": "rmJwKV5x51iF"
      }
    },
    {
      "cell_type": "code",
      "source": [
        "saldo =int(input(\"Digite seu saldo:\"))\n",
        "if saldo  > 0:\n",
        "  print(\"Seu saldo é positivo:\")\n",
        "elif saldo < 0:\n",
        "  print(\"Seu saldo é negativo:\")\n",
        "else:\n",
        "   print(\"Seu saldo é zero:\")\n"
      ],
      "metadata": {
        "colab": {
          "base_uri": "https://localhost:8080/"
        },
        "id": "BS2mEX1b5ziQ",
        "outputId": "5d1d8c30-c421-41ab-f55e-55130c3df14b"
      },
      "execution_count": null,
      "outputs": [
        {
          "output_type": "stream",
          "name": "stdout",
          "text": [
            "Digite seu saldo:2\n",
            "Seu saldo é positivo:\n"
          ]
        }
      ]
    },
    {
      "cell_type": "markdown",
      "source": [
        "Q2:Escreva um programa em Python que solicite ao usuário inserir um número inteiro. O programa deve verificar se o número é par e imprimir uma mensagem indicando se é par ou ímpar.\n",
        "\n"
      ],
      "metadata": {
        "id": "svac9sfj6j_L"
      }
    },
    {
      "cell_type": "code",
      "source": [
        "numero = int(input(\"Digite um número\")) #divisao\n",
        "if numero % 2 == 0:\n",
        "  print(\"O número é par\")\n",
        "else:\n",
        "    print(\"O número é impar!\")"
      ],
      "metadata": {
        "colab": {
          "base_uri": "https://localhost:8080/"
        },
        "id": "MbMbn_NY6Qr_",
        "outputId": "96f99451-9761-4ddc-9a64-d04348505f2f"
      },
      "execution_count": null,
      "outputs": [
        {
          "output_type": "stream",
          "name": "stdout",
          "text": [
            "Digite um número10\n",
            "O número é par\n"
          ]
        }
      ]
    },
    {
      "cell_type": "code",
      "source": [
        "#IF aninhado\n",
        "#fechar os if com else\n",
        "nota = float(input(\"Digite sua nota:\"))\n",
        "frequencia = int(input(\"Digite sua frequência\"))\n",
        "if frequencia >= 75 :\n",
        "  if nota >=60:\n",
        "    print(\"Aprovado!\")\n",
        "  else:\n",
        "    print(\"Reprovado por nota!\")\n",
        "else:\n",
        "    print(\"Reprovado por frequência!\")"
      ],
      "metadata": {
        "colab": {
          "base_uri": "https://localhost:8080/"
        },
        "id": "qiW5lSYe62Oe",
        "outputId": "16d86d20-7261-410d-ca6d-2775a66667c7"
      },
      "execution_count": null,
      "outputs": [
        {
          "output_type": "stream",
          "name": "stdout",
          "text": [
            "Digite sua nota:75\n",
            "Digite sua frequência60\n",
            "Reprovado por frequência!\n"
          ]
        }
      ]
    },
    {
      "cell_type": "code",
      "source": [
        "saldo = 500\n",
        "limite = 1000\n",
        "\n",
        "if saldo > 0:\n",
        "  if saldo >= limite:\n",
        "   print(\"Saldo sufuciente para compra.\")\n",
        "  else:\n",
        "   print(\"Saldo insuficiente !\")\n",
        "else:\n",
        "  print(\"Conta sem saldo!\")"
      ],
      "metadata": {
        "colab": {
          "base_uri": "https://localhost:8080/"
        },
        "id": "-m08sjXv7dec",
        "outputId": "e1dabb13-8ec4-4f5d-a59d-7f059ecc5460"
      },
      "execution_count": null,
      "outputs": [
        {
          "output_type": "stream",
          "name": "stdout",
          "text": [
            "Saldo insuficiente !\n"
          ]
        }
      ]
    },
    {
      "cell_type": "markdown",
      "source": [
        "Q3Desenvolva um script que peça ao usuário para inserir uma palavra. O programa deve verificar se a palavra é \"Python\" e imprimir uma mensagem correspondente.\n",
        "\n"
      ],
      "metadata": {
        "id": "m82T8WSR7ld5"
      }
    },
    {
      "cell_type": "code",
      "source": [
        "palavra = input(\"Digite uma palavra: \")\n",
        "\n",
        "if palavra == \"Python\":\n",
        "  print(\"Você digitou a palavra 'Python'\")\n",
        "else:\n",
        "  print(\"Você não digitou a palavra 'Python'\")"
      ],
      "metadata": {
        "colab": {
          "base_uri": "https://localhost:8080/"
        },
        "id": "yXlllHo77xrE",
        "outputId": "26573ebd-0758-467c-d603-3cddce285749"
      },
      "execution_count": null,
      "outputs": [
        {
          "output_type": "stream",
          "name": "stdout",
          "text": [
            "Digite uma palavra: java\n",
            "Você não digitou a palavra 'Python'\n"
          ]
        }
      ]
    },
    {
      "cell_type": "markdown",
      "source": [
        "Q4: Elabore um programa que peça ao usuário para inserir um número inteiro. O programa deve verificar se o número é ímpar e imprimir uma mensagem correspondente."
      ],
      "metadata": {
        "id": "aKDIy_Ny7978"
      }
    },
    {
      "cell_type": "code",
      "source": [
        "numero = int(input(\"Digite um número inteiro:\"))\n",
        "\n",
        "if numero % 2 != 0:\n",
        "  print(\"O número é impar!\")\n",
        "else:\n",
        "  print(\"O númeroé par\")"
      ],
      "metadata": {
        "colab": {
          "base_uri": "https://localhost:8080/"
        },
        "id": "zQjp9bPd74aI",
        "outputId": "23f33788-31cf-4841-9a45-1640add08541"
      },
      "execution_count": null,
      "outputs": [
        {
          "output_type": "stream",
          "name": "stdout",
          "text": [
            "Digite um número inteiro:5\n",
            "O número é impar!\n"
          ]
        }
      ]
    },
    {
      "cell_type": "markdown",
      "source": [
        "Q5: Desenvolva um programa que analise se um ano é bissexto. Se for bissexto, verifique se é um número ímpar."
      ],
      "metadata": {
        "id": "7dpenvAw8Ua8"
      }
    },
    {
      "cell_type": "code",
      "source": [
        "ano = int(input(\"Digite um ano :\"))\n",
        "\n",
        "if ano % 4 ==0:\n",
        "  print(\"O ano é bissexto\")\n",
        "  if ano % 2 != 0:\n",
        "    print(\"O ano é um número ímpar\")\n",
        "  else:\n",
        "      print(\"O ano é um número par!\")\n",
        "else:\n",
        "  print(\"O ano não é bissexto\")"
      ],
      "metadata": {
        "colab": {
          "base_uri": "https://localhost:8080/"
        },
        "id": "M3-yOnRr8Xp7",
        "outputId": "f2317809-a971-4e3b-b4ff-d4e0307a4156"
      },
      "execution_count": null,
      "outputs": [
        {
          "output_type": "stream",
          "name": "stdout",
          "text": [
            "Digite um ano1982\n",
            "O ano não é bissexto\n"
          ]
        }
      ]
    },
    {
      "cell_type": "markdown",
      "source": [
        "Q6:Crie um programa em python para verificar se um triângulo é equilátero, isósceles e escaleno. Peça para o usuário digitar o valor dos três lados.\n",
        "\n",
        "Um triângulo isósceles é um triângulo que tem dois lados iguais.\n",
        "Um triângulo escaleno é caracterizado por ter três lados de comprimentos diferentes."
      ],
      "metadata": {
        "id": "TTYLGHTn8nYu"
      }
    },
    {
      "cell_type": "code",
      "source": [
        "triangulo = float(input(\"Digite os lados do triangulo? \"))\n",
        "if triangulo == 2:\n",
        "  print(\"O triângulo tem 2 lados iguais \")\n",
        "  if triangulo !=3:\n",
        "    print(\" O triângulo é isósceles !\")\n",
        "  else:\n",
        "   print(\"O triangulo tem 3 lados diferentes de comprimento \")\n",
        "else:\n",
        "   print(\"O triangulo é do tipo escaleno\")"
      ],
      "metadata": {
        "id": "6zfGq_OQ8tOy"
      },
      "execution_count": null,
      "outputs": []
    },
    {
      "cell_type": "code",
      "source": [
        "#Correção exercício Q6\n",
        "lado1 = float(input(\"Digite o lado 1: \"))\n",
        "lado2 = float(input(\"Digite o lado 2: \"))\n",
        "lado3 = float(input(\"Digite o lado 3: \"))\n",
        "\n",
        "if lado1 == lado2 == lado3:\n",
        "  print(\"Triângulo equilátero.\")\n",
        "elif lado1 == lado2 or lado1 == lado3 or lado2 == lado3:\n",
        "  print(\"Triângulo isósceles.\")\n",
        "else:\n",
        "  print(\"Triângulo escaleno.\")"
      ],
      "metadata": {
        "colab": {
          "base_uri": "https://localhost:8080/"
        },
        "id": "NhLBhz3g81aD",
        "outputId": "50e616c4-ad92-4b3d-cd8c-177cbddbdd1d"
      },
      "execution_count": null,
      "outputs": [
        {
          "output_type": "stream",
          "name": "stdout",
          "text": [
            "Digite o lado 1: 2\n",
            "Digite o lado 2: 5\n",
            "Digite o lado 3: 10\n",
            "Triângulo escaleno.\n"
          ]
        }
      ]
    },
    {
      "cell_type": "markdown",
      "source": [
        "Q7:Crie um programa que verifica se um número é múltiplo de 3. Se for, avalie se é também divisível por 6."
      ],
      "metadata": {
        "id": "SC_EGR2o9BK4"
      }
    },
    {
      "cell_type": "code",
      "source": [
        "numero = int(input(\"Digite um número:\"))\n",
        "if  numero % 3 == 0:\n",
        "  print(\"O número é múltiplo de 3\")\n",
        "  if numero % 6 ==0:\n",
        "    print(\"E é divisivel por 6.\")\n",
        "  else:\n",
        "      print(\"Mas não é divisível por 6\")\n",
        "else:\n",
        "  print(\"O número não é múltiplo de 3\")"
      ],
      "metadata": {
        "colab": {
          "base_uri": "https://localhost:8080/"
        },
        "id": "0Aeu3bUP9AOT",
        "outputId": "fa85c674-caa0-446e-ed89-4ff5ef24ef3e"
      },
      "execution_count": null,
      "outputs": [
        {
          "output_type": "stream",
          "name": "stdout",
          "text": [
            "Digite um número:3\n",
            "O número é múltiplo de 3\n",
            "Mas não é divisível por 6\n"
          ]
        }
      ]
    }
  ]
}