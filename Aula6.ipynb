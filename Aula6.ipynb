{
  "nbformat": 4,
  "nbformat_minor": 0,
  "metadata": {
    "colab": {
      "provenance": [],
      "authorship_tag": "ABX9TyNGq1wuNXr0T8Jo742C1xV2",
      "include_colab_link": true
    },
    "kernelspec": {
      "name": "python3",
      "display_name": "Python 3"
    },
    "language_info": {
      "name": "python"
    }
  },
  "cells": [
    {
      "cell_type": "markdown",
      "metadata": {
        "id": "view-in-github",
        "colab_type": "text"
      },
      "source": [
        "<a href=\"https://colab.research.google.com/github/Rafahmachado/SoulCode-PreparaTech/blob/main/Aula6.ipynb\" target=\"_parent\"><img src=\"https://colab.research.google.com/assets/colab-badge.svg\" alt=\"Open In Colab\"/></a>"
      ]
    },
    {
      "cell_type": "markdown",
      "source": [
        "Aula 6 Prof Franciane Rodrigues\n",
        "## Estrutura de Dados\n",
        "### Revisão da aula 05\n",
        " *  Tupla\n",
        "\n",
        " * Dicionários\n",
        "\n",
        "* São imutáveis : uma vez criadas,não podemos  alterar .\n",
        "\n",
        "* São ordenáveis: eals mantem uma ordem especófica, acesso pelo índice.\n",
        "\n",
        "* Heterogeneidade : podem conter elementos de diferentes tipos\n",
        "\n",
        "*  Sintaxe: para criar uma tupla utilize parênteses\n",
        "\n"
      ],
      "metadata": {
        "id": "xg78dTUYGj1J"
      }
    },
    {
      "cell_type": "code",
      "execution_count": null,
      "metadata": {
        "id": "xFuc0hDNGiNX"
      },
      "outputs": [],
      "source": [
        "# Criando uma tupla\n",
        "nomes = ('Rafaela','Beatriz')\n",
        "pesos = (51,90)\n",
        "altura = (1.65,1.81)"
      ]
    },
    {
      "cell_type": "code",
      "source": [
        "# Acesando elementos das nossas tuplas\n",
        "print(f'{nomes[0]} tem {pesos[0]} kg e {altura[0]} m')\n",
        "print(f'{nomes[1]} tem {pesos[1]}kg e {altura[1]} metros')"
      ],
      "metadata": {
        "colab": {
          "base_uri": "https://localhost:8080/"
        },
        "id": "sLsmosV3qvY_",
        "outputId": "40558abe-049c-4a18-d8c8-034d3f8ee230"
      },
      "execution_count": null,
      "outputs": [
        {
          "output_type": "stream",
          "name": "stdout",
          "text": [
            "Rafaela tem 51 kg e 1.65 m\n",
            "Beatriz tem 90kg e 1.81 metros\n"
          ]
        }
      ]
    },
    {
      "cell_type": "code",
      "source": [
        "# Ttansformando listas em Tuplas\n",
        "produtos = ['tecado', 'mouse', 'monitor','placa,-mae']\n",
        "print(type(produtos))"
      ],
      "metadata": {
        "colab": {
          "base_uri": "https://localhost:8080/"
        },
        "id": "u79z1xLjrvC7",
        "outputId": "f05c74b9-80a2-431d-ae49-2921dcb630db"
      },
      "execution_count": null,
      "outputs": [
        {
          "output_type": "stream",
          "name": "stdout",
          "text": [
            "<class 'list'>\n"
          ]
        }
      ]
    },
    {
      "cell_type": "code",
      "source": [
        "# convertendo lista em tupla\n",
        "produtos = tuple(produtos)\n",
        "print(type(produtos))"
      ],
      "metadata": {
        "colab": {
          "base_uri": "https://localhost:8080/"
        },
        "id": "_IyWSO9vt16v",
        "outputId": "da792d07-a22d-4e2c-beeb-7bb724d8f6cc"
      },
      "execution_count": null,
      "outputs": [
        {
          "output_type": "stream",
          "name": "stdout",
          "text": [
            "<class 'tuple'>\n"
          ]
        }
      ]
    },
    {
      "cell_type": "code",
      "source": [
        "# convertendo nossa tupla em lista\n",
        "produtos = list(produtos)\n",
        "print(type(produtos))"
      ],
      "metadata": {
        "colab": {
          "base_uri": "https://localhost:8080/"
        },
        "id": "9xgZbyAAuHWG",
        "outputId": "94dc0d82-7c75-4260-f1cc-91850e88f416"
      },
      "execution_count": null,
      "outputs": [
        {
          "output_type": "stream",
          "name": "stdout",
          "text": [
            "<class 'list'>\n"
          ]
        }
      ]
    },
    {
      "cell_type": "markdown",
      "source": [
        "## **Dicionários**\n",
        "\n",
        "\n",
        "*  Estrutura Chave-Valor: Cada elemento no dicionário consiste e uma chave associada a um valor.\n",
        "* Mutabilidade: diferentemente das Tuplas os dicionários são MUTÁVEIS.\n",
        "Isso significa que você pode,remover ou modificar elementos em um dicionário após sua criação.\n",
        "\n",
        "* Chaves unicas: As chaves em um dicionário são únicas, garantindo que não existam chaves duplicadas."
      ],
      "metadata": {
        "id": "TIkOYvwyAVda"
      }
    },
    {
      "cell_type": "code",
      "source": [
        "# Crie e armazene em um dicionário as informações :\n",
        "#nome, idade , altura e peso\n",
        "funcionario = {'nome':'Franciane',\n",
        "               'idade':33,\n",
        "               'altura':1.65,\n",
        "               'peso':51}\n",
        "\n",
        "print(funcionario)"
      ],
      "metadata": {
        "id": "y0oDQrDc-zm8",
        "colab": {
          "base_uri": "https://localhost:8080/"
        },
        "outputId": "b12d7ec6-4fc7-4109-9240-6aa933981ba9"
      },
      "execution_count": null,
      "outputs": [
        {
          "output_type": "stream",
          "name": "stdout",
          "text": [
            "{'nome': 'Franciane', 'idade': 33, 'altura': 1.65, 'peso': 51}\n"
          ]
        }
      ]
    },
    {
      "cell_type": "code",
      "source": [
        "# acessando valor da chave\n",
        "print(funcionario['nome'])\n",
        "print(funcionario['idade'])\n",
        "print(funcionario['altura'])\n",
        "print(funcionario['peso'])"
      ],
      "metadata": {
        "id": "XJT2sBn9D6rp",
        "colab": {
          "base_uri": "https://localhost:8080/"
        },
        "outputId": "cefb1469-ba50-4e0e-ea41-4d3a3ac9f222"
      },
      "execution_count": null,
      "outputs": [
        {
          "output_type": "stream",
          "name": "stdout",
          "text": [
            "Franciane\n",
            "33\n",
            "1.65\n",
            "51\n"
          ]
        }
      ]
    },
    {
      "cell_type": "code",
      "source": [
        " # Outra forma de acessar valor no meu dicionário\n",
        "print(funcionario.get('nome'))\n",
        "print(funcionario.get('idade'))\n",
        "print(funcionario.get('altura'))\n",
        "print(funcionario.get('peso'))"
      ],
      "metadata": {
        "colab": {
          "base_uri": "https://localhost:8080/"
        },
        "id": "fFQXI6M4HEUh",
        "outputId": "cf588215-68b2-476f-b947-93c5a01cad4a"
      },
      "execution_count": null,
      "outputs": [
        {
          "output_type": "stream",
          "name": "stdout",
          "text": [
            "Franciane\n",
            "33\n",
            "1.65\n",
            "51\n"
          ]
        }
      ]
    },
    {
      "cell_type": "code",
      "source": [
        "# Vamos fazer uma lista dentro de um dicionário\n",
        "dicionario_lista = {'nome':'Franciane',\n",
        "                    'idade': 33,\n",
        "                    'animais':['Bel', 'Kika', 'Bia', 'Bela'],\n",
        "                    'idades':[13, 7, 9, 4]}\n",
        "\n",
        "print(dicionario_lista)"
      ],
      "metadata": {
        "colab": {
          "base_uri": "https://localhost:8080/"
        },
        "id": "lg1dLCIXLC64",
        "outputId": "f21dbf48-e019-4354-9e48-c0a0abd6408b"
      },
      "execution_count": null,
      "outputs": [
        {
          "output_type": "stream",
          "name": "stdout",
          "text": [
            "{'nome': 'Franciane', 'idade': 33, 'animais': ['Bel', 'Kika', 'Bia', 'Bela'], 'idades': [13, 7, 9, 4]}\n"
          ]
        }
      ]
    },
    {
      "cell_type": "code",
      "source": [
        "# Métodos importantes\n",
        "# Utilize os métodos keys() e values()\n",
        "# Serve para obter todas as chaves ou valores do dicionário\n",
        "chaves = dicionario_lista.keys()\n",
        "print(chaves)\n",
        "\n",
        "valores = dicionario_lista.values()\n",
        "print(valores)"
      ],
      "metadata": {
        "id": "Nknm4KyHLL63",
        "colab": {
          "base_uri": "https://localhost:8080/"
        },
        "outputId": "ec51f325-b2ac-46ac-adc0-6fc9eb771ed3"
      },
      "execution_count": null,
      "outputs": [
        {
          "output_type": "stream",
          "name": "stdout",
          "text": [
            "dict_keys(['nome', 'idade', 'animais', 'idades'])\n",
            "dict_values(['Franciane', 33, ['Bel', 'Kika', 'Bia', 'Bela'], [13, 7, 9, 4]])\n"
          ]
        }
      ]
    },
    {
      "cell_type": "code",
      "source": [],
      "metadata": {
        "id": "nnK8tJo5MAq3"
      },
      "execution_count": null,
      "outputs": []
    },
    {
      "cell_type": "markdown",
      "source": [
        "## Operadores Lógicos\n",
        "** O que significa ?\n",
        "* (and)Retorna verdadeiro (True)soemnte se TODAS  as condições de uma comparação forem satisfeitas.\n",
        "*Combinações:\n",
        "\n",
        "V and V = V\n",
        "V and F = F\n",
        "F and V = F\n",
        "F and F = F\n"
      ],
      "metadata": {
        "id": "6pN8h9ZLMvMx"
      }
    },
    {
      "cell_type": "code",
      "source": [
        "teste1 = 3 > 2 and 2 == 3 # V and F\n",
        "print(teste1) # Saída: False\n"
      ],
      "metadata": {
        "colab": {
          "base_uri": "https://localhost:8080/"
        },
        "id": "H0o4SvB9MIoi",
        "outputId": "a8b2798c-36f6-478e-e92f-08be407fcaa3"
      },
      "execution_count": null,
      "outputs": [
        {
          "output_type": "stream",
          "name": "stdout",
          "text": [
            "False\n"
          ]
        }
      ]
    },
    {
      "cell_type": "code",
      "source": [
        "teste2 = 3 > 2 and 3 == 3  # V and V\n",
        "print(teste2)# Saída True"
      ],
      "metadata": {
        "colab": {
          "base_uri": "https://localhost:8080/"
        },
        "id": "ZkJdV5CEPTZf",
        "outputId": "f4b220df-623e-4440-df1b-b2f1cb2d7f98"
      },
      "execution_count": null,
      "outputs": [
        {
          "output_type": "stream",
          "name": "stdout",
          "text": [
            "True\n"
          ]
        }
      ]
    },
    {
      "cell_type": "code",
      "source": [
        "teste3 = 3 > 2 and 3 != 3  # V and V\n",
        "print(teste2)# Saída False"
      ],
      "metadata": {
        "colab": {
          "base_uri": "https://localhost:8080/"
        },
        "id": "8Ejy8mjAROxk",
        "outputId": "7412ab60-d823-423c-e06d-2416da0b8ff1"
      },
      "execution_count": null,
      "outputs": [
        {
          "output_type": "stream",
          "name": "stdout",
          "text": [
            "False\n"
          ]
        }
      ]
    },
    {
      "cell_type": "code",
      "source": [
        "teste4 = 3 > 2 and 3 != 3  # V and V\n",
        "print(teste2)# Saída False"
      ],
      "metadata": {
        "id": "j5ELag16RVQr"
      },
      "execution_count": null,
      "outputs": []
    },
    {
      "cell_type": "code",
      "source": [
        "#Desafio: Compare se 3 é maior ou igual a 2, se 3 é diferente de 2 e 3 é menor do 4\n",
        "teste5 = 3 >= 2 and 3 != 2 and 3 < 4 # V and V and V\n",
        "\n",
        "print(teste5)\n",
        "print(f'3 >= 2 and 3 != 2 and 3 < 4 é: {teste5}')"
      ],
      "metadata": {
        "id": "e7Lg15tbSg4p"
      },
      "execution_count": null,
      "outputs": []
    },
    {
      "cell_type": "code",
      "source": [
        "idade = 19\n",
        "preco = 40\n",
        "carteira = 60\n",
        "\n",
        "ex1 = idade >= 18 and carteira >=preco # V and V\n",
        "print(ex1)"
      ],
      "metadata": {
        "colab": {
          "base_uri": "https://localhost:8080/"
        },
        "id": "jeLUjrxKSrQn",
        "outputId": "cd914b78-8e8a-4ec2-cec8-a21400e21cc4"
      },
      "execution_count": null,
      "outputs": [
        {
          "output_type": "stream",
          "name": "stdout",
          "text": [
            "True\n"
          ]
        }
      ]
    },
    {
      "cell_type": "code",
      "source": [
        "# Exercício sabendo que a idade do individuo é de 17 anos e ele possui 60 reais na carteira\n",
        "# verifique se esse jovem pode comprar uma bebida alcoolica no valor de 40 reasi\n",
        "idade = 17\n",
        "preco = 40\n",
        "carteira = 60\n",
        "\n",
        "ex2 = idade >= 18 and carteira >=preco # F and V\n",
        "print(ex2)"
      ],
      "metadata": {
        "colab": {
          "base_uri": "https://localhost:8080/"
        },
        "id": "xNQTvLPCTVNG",
        "outputId": "1fed55a7-e1da-4ca8-afd9-b066d320e648"
      },
      "execution_count": null,
      "outputs": [
        {
          "output_type": "stream",
          "name": "stdout",
          "text": [
            "False\n"
          ]
        }
      ]
    },
    {
      "cell_type": "code",
      "source": [
        "# Exercício sabendo que a idade do individuo é de 20 anos e ele possui 39,90 reais na carteira\n",
        "# verifique se esse jovem pode comprar uma bebida alcoolica no valor de 40 reasi\n",
        "idade = 20\n",
        "preco = 40\n",
        "carteira = 39.90\n",
        "\n",
        "ex3 = idade >= 18 and carteira >=preco # V and F\n",
        "print(ex3)"
      ],
      "metadata": {
        "colab": {
          "base_uri": "https://localhost:8080/"
        },
        "id": "2BMO_gkCVD7T",
        "outputId": "58440f4b-ca1f-4015-b147-19454fab5c9c"
      },
      "execution_count": null,
      "outputs": [
        {
          "output_type": "stream",
          "name": "stdout",
          "text": [
            "False\n"
          ]
        }
      ]
    },
    {
      "cell_type": "code",
      "source": [
        "jovem = 20\n",
        "maioridade = 18\n",
        "carteira = 39.90\n",
        "bebida = 40\n",
        "\n",
        "ex3 = jovem <= maioridade and carteira > bebida\n",
        "print(ex3)\n",
        "\n",
        "if jovem <= maioridade:\n",
        "  print('Não é permitido a compra')\n",
        "else:\n",
        "  print('Pode comprar')\n",
        "  if carteira >= bebida:\n",
        "    print('Tem dinheiro suficiente para comprar')\n",
        "  else:\n",
        "    print('não tem dinheiro para comprar')"
      ],
      "metadata": {
        "colab": {
          "base_uri": "https://localhost:8080/"
        },
        "id": "ozN0MVaBV-1p",
        "outputId": "73f589f3-ecfe-4161-b49f-b85825662828"
      },
      "execution_count": null,
      "outputs": [
        {
          "output_type": "stream",
          "name": "stdout",
          "text": [
            "False\n",
            "Pode comprar\n",
            "não tem dinheiro para comprar\n"
          ]
        }
      ]
    },
    {
      "cell_type": "markdown",
      "source": [
        " O que sidnifica?\n",
        "\n",
        " * (or) Retorna verdadeiro se PELO MENOS UM dos elementos for verdadeiro\n",
        "\n",
        " Combinações\n",
        " * V or V = v\n",
        " * V or F = v\n",
        " * F or F = F"
      ],
      "metadata": {
        "id": "BE1ETzmJZieG"
      }
    },
    {
      "cell_type": "code",
      "source": [
        "teste6 = 12 > 10 or 12 == 12\n",
        "print(teste6)"
      ],
      "metadata": {
        "colab": {
          "base_uri": "https://localhost:8080/"
        },
        "id": "ibZPZhEVZemr",
        "outputId": "9ea49dc6-a384-4487-cee2-a4774371fd81"
      },
      "execution_count": null,
      "outputs": [
        {
          "output_type": "stream",
          "name": "stdout",
          "text": [
            "True\n"
          ]
        }
      ]
    },
    {
      "cell_type": "code",
      "source": [
        "# Comapare se 12 é maior que 10 ou se 12 é diferente de 10 e aplique\n",
        "# no teste 7\n",
        "teste7 = 12 >= 10 or 12 != 10\n",
        "print(teste7)"
      ],
      "metadata": {
        "colab": {
          "base_uri": "https://localhost:8080/"
        },
        "id": "FJ45ChhOcbk8",
        "outputId": "c4be6aed-b31e-428d-f2df-13dddc7d5deb"
      },
      "execution_count": null,
      "outputs": [
        {
          "output_type": "stream",
          "name": "stdout",
          "text": [
            "True\n"
          ]
        }
      ]
    },
    {
      "cell_type": "code",
      "source": [
        "#compare se 12 é menor que 10 ou se 12 é diferente de 10\n",
        "teste8 = 12 < 10 or 12 != 10\n",
        "print(teste8)"
      ],
      "metadata": {
        "colab": {
          "base_uri": "https://localhost:8080/"
        },
        "id": "WYd2A8zwdHiC",
        "outputId": "4ec12f18-fa5b-4c98-85fc-49682871b809"
      },
      "execution_count": null,
      "outputs": [
        {
          "output_type": "stream",
          "name": "stdout",
          "text": [
            "True\n"
          ]
        }
      ]
    },
    {
      "cell_type": "code",
      "source": [
        "# Compare se 9 maior que 10 ou se 5 ou igual a 10\n",
        "#aplique no teste9\n",
        "teste9 = 9 > 10 or 5 >= 10\n",
        "print(teste9)\n",
        "\n"
      ],
      "metadata": {
        "colab": {
          "base_uri": "https://localhost:8080/"
        },
        "id": "AkjwyNw-di_i",
        "outputId": "64673bf6-f4c9-42b6-a745-0c7d10f4f230"
      },
      "execution_count": null,
      "outputs": [
        {
          "output_type": "stream",
          "name": "stdout",
          "text": [
            "False\n"
          ]
        }
      ]
    },
    {
      "cell_type": "code",
      "source": [
        "# sabendo que o preço de um determinado produto seja 40 reais e que\n",
        "# no meu cartão tenho disponível no crédito o valor de 19 reais e\n",
        "# tenho no meu bolso 60 reais\n",
        "# faça a comparação do produto em meu cartão e meu dinheiro\n",
        "#sabendo que eu posso comparar com qualquer um dos dois métodos\n",
        "\n",
        "preco = 40\n",
        "credito = 19\n",
        "carteira = 60\n",
        "ex6 = credito >= preco or carteira >= preco # F or F\n",
        "\n",
        "print(ex6)\n"
      ],
      "metadata": {
        "colab": {
          "base_uri": "https://localhost:8080/"
        },
        "id": "Mpfqbodkeap_",
        "outputId": "b825e013-e906-4b44-f37d-bbe0a3637493"
      },
      "execution_count": null,
      "outputs": [
        {
          "output_type": "stream",
          "name": "stdout",
          "text": [
            "True\n"
          ]
        }
      ]
    },
    {
      "cell_type": "code",
      "source": [
        "# sabendo que o preço de um determinado produto seja 40 reais e que\n",
        "# no meu cartão tenho disponível no crédito o valor de 65 reais e\n",
        "# tenho no meu bolso 60 reais\n",
        "# faça a comparação do produto em meu cartão e meu dinheiro\n",
        "#sabendo que eu posso comparar com qualquer um dos dois métodos\n",
        "preco = 40\n",
        "credito = 65\n",
        "carteira = 60\n",
        "ex7 = credito >= preco or carteira >= preco # V or V\n",
        "\n",
        "print(ex7)"
      ],
      "metadata": {
        "colab": {
          "base_uri": "https://localhost:8080/"
        },
        "id": "LdfXI8bngYbM",
        "outputId": "6d00e25e-82ca-4ef8-e8cf-d20de34a7cd4"
      },
      "execution_count": null,
      "outputs": [
        {
          "output_type": "stream",
          "name": "stdout",
          "text": [
            "True\n"
          ]
        }
      ]
    },
    {
      "cell_type": "code",
      "source": [
        "# sabendo que o preço de um determinado produto seja 41 reais e que\n",
        "# no meu cartão tenho disponível no crédito o valor de 60 reais e\n",
        "# tenho no meu bolso 19 reais\n",
        "# faça a comparação do produto em meu cartão e meu dinheiro\n",
        "#sabendo que eu posso comparar com qualquer um dos dois métodos\n",
        "preco = 41\n",
        "credito = 60\n",
        "carteira = 19\n",
        "ex7 = credito >= preco or carteira >= preco # V or V\n",
        "\n",
        "print(ex8)"
      ],
      "metadata": {
        "colab": {
          "base_uri": "https://localhost:8080/"
        },
        "id": "Mc4FZl-ghTM6",
        "outputId": "9513caae-2dc4-480a-c389-3d75f45b6a0c"
      },
      "execution_count": null,
      "outputs": [
        {
          "output_type": "stream",
          "name": "stdout",
          "text": [
            "True\n"
          ]
        }
      ]
    },
    {
      "cell_type": "code",
      "source": [
        "# sabendo que o preço de um determinado produto seja 41 reais e que\n",
        "# no meu cartão tenho disponível no crédito o valor de 20 reais e\n",
        "# tenho no meu bolso 15 reais\n",
        "# faça a comparação do produto em meu cartão e meu dinheiro\n",
        "#sabendo que eu posso comparar com qualquer um dos dois métodos\n",
        "preco = 41\n",
        "credito = 20\n",
        "carteira = 15\n",
        "ex9 = credito >= preco or carteira >= preco # F or F\n",
        "\n",
        "print(ex9)"
      ],
      "metadata": {
        "colab": {
          "base_uri": "https://localhost:8080/"
        },
        "id": "43bleDWqiwdI",
        "outputId": "2bddbeb7-7506-48f3-eff3-21d0f7d79c17"
      },
      "execution_count": null,
      "outputs": [
        {
          "output_type": "stream",
          "name": "stdout",
          "text": [
            "False\n"
          ]
        }
      ]
    },
    {
      "cell_type": "markdown",
      "source": [
        "## **O que vimos até agora?**\n",
        "\n",
        "*  Como utilizar comentários nos códigos ( # ou '''  ''')\n",
        "*  Criar variáveis (=)\n",
        "*  Tipos de variáveis (str, int, float)\n",
        "*  Entrada de Dados (input())\n",
        "*  Operadores matemáticos (+ , - , * , //, %, **)\n",
        "*  Operadores de Comparação ( ==, !=, >, <, <=, >=)\n",
        "*  Operadores de Atribuição (=, +=, -=)\n",
        "*  Estrutura Condicional (if, elif, else)\n",
        "*  Strings e Métodos de Strings\n",
        "*  Operadores de Associação (in, not in)\n",
        "*  Estrutura de Dados (Listas,Tupla, Dicionários)"
      ],
      "metadata": {
        "id": "k8Ckq2wFjlB2"
      }
    },
    {
      "cell_type": "code",
      "source": [],
      "metadata": {
        "id": "CdnWBXvpjpqK"
      },
      "execution_count": null,
      "outputs": []
    }
  ]
}