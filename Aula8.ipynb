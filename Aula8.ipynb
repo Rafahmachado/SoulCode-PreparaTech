{
  "nbformat": 4,
  "nbformat_minor": 0,
  "metadata": {
    "colab": {
      "provenance": [],
      "authorship_tag": "ABX9TyPl+OmXOwXhHWLH+eVVhNFR",
      "include_colab_link": true
    },
    "kernelspec": {
      "name": "python3",
      "display_name": "Python 3"
    },
    "language_info": {
      "name": "python"
    }
  },
  "cells": [
    {
      "cell_type": "markdown",
      "metadata": {
        "id": "view-in-github",
        "colab_type": "text"
      },
      "source": [
        "<a href=\"https://colab.research.google.com/github/Rafahmachado/SoulCode-PreparaTech/blob/main/Aula8.ipynb\" target=\"_parent\"><img src=\"https://colab.research.google.com/assets/colab-badge.svg\" alt=\"Open In Colab\"/></a>"
      ]
    },
    {
      "cell_type": "code",
      "execution_count": null,
      "metadata": {
        "colab": {
          "base_uri": "https://localhost:8080/"
        },
        "id": "_HxgmtySaPX7",
        "outputId": "3ee9ff6e-2a08-497a-ce54-19e91a78e36f"
      },
      "outputs": [
        {
          "name": "stdout",
          "output_type": "stream",
          "text": [
            "Informe a nota 1 de 0 a 10: 10\n"
          ]
        }
      ],
      "source": [
        "'''\n",
        "Crie um programa que receba do usuário cinca valores de notas (0 18)\n",
        "calcule a media informe o usuário a média aritmética dos valores\n",
        "'''\n",
        "\n",
        "n1 = float(input('Informe a nota 1 de 0 a 10: '))"
      ]
    },
    {
      "cell_type": "code",
      "source": [
        "n1 = float(input('Informe a nota 1 de 0 a 10: '))\n",
        "n2 = float(input('Informe a nota 1 de 0 a 10: '))\n",
        "n3 = float(input('Informe a nota 1 de 0 a 10: '))\n",
        "n4 = float(input('Informe a nota 1 de 0 a 10: '))\n",
        "n5 = float(input('Informe a nota 1 de 0 a 10: '))\n",
        "media = (n1+n2+n3+n4+n5)/5\n",
        "print(f' A média das cinco notas é {media: .1f}')"
      ],
      "metadata": {
        "colab": {
          "base_uri": "https://localhost:8080/"
        },
        "id": "Hn_lWjzLb2Zv",
        "outputId": "efa0a200-2751-4361-f24f-fa02f34825ce"
      },
      "execution_count": null,
      "outputs": [
        {
          "output_type": "stream",
          "name": "stdout",
          "text": [
            "Informe a nota 1 de 0 a 10: 1\n",
            "Informe a nota 1 de 0 a 10: 2\n",
            "Informe a nota 1 de 0 a 10: 8\n",
            "Informe a nota 1 de 0 a 10: 9\n",
            "Informe a nota 1 de 0 a 10: 10\n",
            " A média das cinco notas é  6.0\n"
          ]
        }
      ]
    },
    {
      "cell_type": "code",
      "source": [
        "'''\n",
        "Crie um programa que receba do usuário n valores de notas (0 - 10)\n",
        "calcule a média e informe o usuário a média aritmética dos valores informados\n",
        "Método de resolução com while\n",
        "'''\n",
        "notas = [] #recebe listas\n",
        "c = 0      # variavel contadora while\n",
        "n = int(input('informe a quantidade de notas a inserir no sistema')) #antes do while precisa do input(numero) entrada do usuário\n",
        "while c < n :  #instrução while ,condição para acontecer,ENQTO A COND FOR VRRDADEIRA\n",
        "  notas.append(float(input(f'Informe a {c+1}= nota de 0 a 10: '))) #append insere na lista\n",
        "  c +=1    #c + recebe c +1\n",
        "media = sum(notas)/len(notas) #comando para contagem\n",
        "print(f'A média das {n} notas é {media: .1f}')"
      ],
      "metadata": {
        "colab": {
          "base_uri": "https://localhost:8080/"
        },
        "id": "rflYSHktdr70",
        "outputId": "1d8e69ad-f734-469a-9c98-501ef57d1da3"
      },
      "execution_count": null,
      "outputs": [
        {
          "output_type": "stream",
          "name": "stdout",
          "text": [
            "informe a quantidade de notas a inserir no sistema5\n",
            "Informe a 1= nota de 0 a 101\n",
            "Informe a 2= nota de 0 a 102\n",
            "Informe a 3= nota de 0 a 108\n",
            "Informe a 4= nota de 0 a 109\n",
            "Informe a 5= nota de 0 a 1010\n",
            " A média das cinco notas é  6.0\n"
          ]
        }
      ]
    },
    {
      "cell_type": "code",
      "source": [
        "# utilizando for com range\n",
        "'''\n",
        "Crie um programa que receba do usuário n valores de notas (0 - 10)\n",
        "calcule a média e informe o usuário a média aritmética dos valores informados\n",
        "Método de resolução sem while(split)cortar\n",
        "'''\n",
        "#notas = [2,3,4,5,10] #recebe listas  #input unico string de todas as notas\n",
        "dados  = input('Informe as notas de 0 a 10 separadas por espaços:')\n",
        "#como converter string em float\n",
        "notas = dados.split()\n",
        "for i in range(len(notas)):\n",
        "  notas[i] = float(notas[i])\n",
        "\n",
        "\n"
      ],
      "metadata": {
        "colab": {
          "base_uri": "https://localhost:8080/"
        },
        "id": "It-0uy5DiMpD",
        "outputId": "063648d7-7944-4509-f9eb-2f6029f7a3df"
      },
      "execution_count": null,
      "outputs": [
        {
          "name": "stdout",
          "output_type": "stream",
          "text": [
            "Informe as notas de 0 a 10 separadas por espaços:1 2 8 9 10\n"
          ]
        }
      ]
    },
    {
      "cell_type": "code",
      "source": [
        "print(notas)\n",
        "len(notas)\n",
        "#transformar em float é preciso percorrer a lista e\n"
      ],
      "metadata": {
        "colab": {
          "base_uri": "https://localhost:8080/"
        },
        "id": "NIhoV2t5kuGF",
        "outputId": "2b7201c4-a058-40ac-e7f9-cfb0bb3d9c48"
      },
      "execution_count": null,
      "outputs": [
        {
          "output_type": "stream",
          "name": "stdout",
          "text": [
            "[1.0, 2.0, 8.0, 9.0, 10.0]\n"
          ]
        },
        {
          "output_type": "execute_result",
          "data": {
            "text/plain": [
              "5"
            ]
          },
          "metadata": {},
          "execution_count": 12
        }
      ]
    },
    {
      "cell_type": "code",
      "source": [
        "dados = input('Informe as notas de 0 a 10 separadas por espaços:')\n",
        "#como converter string em float\n",
        "notas = dados.split()\n",
        "for i, v in enumerate(notas):#tempo de execução\n",
        "#for notas in notas\n",
        "  notas[i] = float(notas[i])\n",
        "\n"
      ],
      "metadata": {
        "colab": {
          "base_uri": "https://localhost:8080/"
        },
        "id": "WklhM1U-u_zA",
        "outputId": "260694a7-5b54-496c-9ee1-2c5767761111"
      },
      "execution_count": null,
      "outputs": [
        {
          "name": "stdout",
          "output_type": "stream",
          "text": [
            "Informe as notas de 0 a 10 separadas por espaços:1 2 3 4 5 10\n"
          ]
        }
      ]
    },
    {
      "cell_type": "code",
      "source": [
        "print(notas)\n",
        "len(notas)"
      ],
      "metadata": {
        "colab": {
          "base_uri": "https://localhost:8080/"
        },
        "id": "qmRE7n09vhmY",
        "outputId": "9a30ba08-159a-472a-f2e1-a93dc49c7358"
      },
      "execution_count": null,
      "outputs": [
        {
          "output_type": "stream",
          "name": "stdout",
          "text": [
            "[1.0, 2.0, 3.0, 4.0, 5.0, 10.0]\n"
          ]
        },
        {
          "output_type": "execute_result",
          "data": {
            "text/plain": [
              "6"
            ]
          },
          "metadata": {},
          "execution_count": 14
        }
      ]
    },
    {
      "cell_type": "code",
      "source": [
        "# Utilizando for com Enumerate\n",
        "'''\n",
        "Crie um programa que receba do usuário n valores de notas (0 - 10)\n",
        "calcule a média e informe o usuário a média aritmética dos valores informados\n",
        "Método de resolução sem while\n",
        "'''\n",
        "dados = input('Informe a notas de 0 a 10 separadas por espaços: ')\n",
        "notas = dados.split()\n",
        "for i, v in enumerate(notas):\n",
        "  v = float(v)"
      ],
      "metadata": {
        "id": "w63wD5un2mlo"
      },
      "execution_count": null,
      "outputs": []
    },
    {
      "cell_type": "code",
      "source": [
        "# Utilizando for nota i notas\n",
        "'''\n",
        "Crie um programa que receba do usuário n valores de notas (0 - 10)\n",
        "calcule a média e informe o usuário a média aritmética dos valores informados\n",
        "Método de resolução sem while\n",
        "'''\n",
        "dados = input('Informe a notas de 0 a 10 separadas por espaços: ')\n",
        "notas = dados.split()\n",
        "for nota in notas:\n",
        "  nota = float(nota)"
      ],
      "metadata": {
        "id": "X9ty32sG2mbB",
        "colab": {
          "base_uri": "https://localhost:8080/"
        },
        "outputId": "ef22ed8e-c927-4e84-bcc8-92b43ce12e13"
      },
      "execution_count": null,
      "outputs": [
        {
          "name": "stdout",
          "output_type": "stream",
          "text": [
            "Informe a notas de 0 a 10 separadas por espaços: 2 4 6 10\n"
          ]
        }
      ]
    },
    {
      "cell_type": "code",
      "source": [
        "notas = [5,6,7,8,9]\n",
        "notas = dados.split()\n",
        "for i, v in enumerate(notas):#tempo de execução\n",
        "#for notas in notas\n",
        "  notas[i] = float(notas[i])/\n"
      ],
      "metadata": {
        "id": "Y9v2RXOi-Anp"
      },
      "execution_count": null,
      "outputs": []
    },
    {
      "cell_type": "code",
      "source": [
        "'''\n",
        "Crie um programa que receba do usuário n valores de notas (0 - 10)\n",
        "calcule a média e informe o usuário a média aritmética dos valores informados\n",
        "Método de resolução com while\n",
        "'''\n",
        "notas = [] #recebe listas\n",
        "c = 0      # variavel contadora while\n",
        "n = int(input('informe a quantidade de notas a inserir no sistema')) #antes do while precisa do input(numero) entrada do usuário\n",
        "while c < n :  #instrução while ,condição para acontecer,ENQTO A COND FOR VRRDADEIRA\n",
        "  notas.append(float(input(f'Informe a {c+1}= nota de 0 a 10: '))) #append insere na lista\n",
        "  c +=1    #c + recebe c +1\n",
        "media = sum(notas)/len(notas) #comando para contagem\n",
        "print(f'A média das {n} notas é {media: .1f}')"
      ],
      "metadata": {
        "id": "7H4PU6hNUKBa"
      },
      "execution_count": null,
      "outputs": []
    },
    {
      "cell_type": "code",
      "source": [
        "dados  = input('Informe as notas de 0 a 10 separadas por espaços:')\n",
        "#como converter string em float\n",
        "notas = dados.split()\n",
        "for i in range(len(notas)):\n",
        "  notas[i] = float(notas[i])\n",
        "media = sum(notas)/len(notas) #comando para contagem\n",
        "print(f'A média das {n} notas é {media: .1f}')\n",
        "quadrado = []\n",
        "for i in range(len(notas)):\n",
        "  quadrado.append((notas[i]-media)**2)\n",
        "desvio = (sum(quadrado)/(len(notas)-1))**0.5\n",
        "print(f'O Desvio Padrão das  {len(notas)} notas e {desvio:2f}')"
      ],
      "metadata": {
        "colab": {
          "base_uri": "https://localhost:8080/"
        },
        "id": "bWw7BsZUUnsZ",
        "outputId": "69149af5-de9e-4570-9191-9632dbf809f9"
      },
      "execution_count": null,
      "outputs": [
        {
          "output_type": "stream",
          "name": "stdout",
          "text": [
            "Informe as notas de 0 a 10 separadas por espaços:4 6 8 10\n",
            "A média das 5 notas é  5.5\n",
            "O Desvio Padrão das  4 notas e 3.415650\n"
          ]
        }
      ]
    },
    {
      "cell_type": "code",
      "source": [
        "# usando while true\n",
        "'''\n",
        "Exemplo 02\n",
        "Elabore um programa que receba um número inteiro do usário e verifique se o número\n",
        "se o número informado é par ou ímpar, se for par imprima uma mensagem informando  que\n",
        "que o número não é par e peça para o  usuário digitar outro número,\n",
        "até que o número digitado pelo usuário seja par.\n",
        "'''\n",
        "while True:#enquanto verdadeiro só para quando a ação pedidafor atendida\n",
        "  num = int(input('Digite um número inteiro e par:'))\n",
        "  if num %2 == 0:\n",
        "    print(f'O número {num} é um número par!!')\n",
        "    break\n",
        "  else:\n",
        "    print(f'O número {num} é um número ímpar! por favor digite um número inteiro e par')\n",
        "\n",
        "\n",
        "\n"
      ],
      "metadata": {
        "colab": {
          "base_uri": "https://localhost:8080/"
        },
        "id": "P1jlIT-Baoh1",
        "outputId": "8b916818-a0fc-45ad-84c5-feebcdbacf43"
      },
      "execution_count": null,
      "outputs": [
        {
          "output_type": "stream",
          "name": "stdout",
          "text": [
            "Digite um número inteiro e par:7\n",
            "O número 7 é um número ímpar! por favor digite um número inteiro e par\n",
            "Digite um número inteiro e par:8\n",
            "O número 8 é um número par!!\n"
          ]
        }
      ]
    },
    {
      "cell_type": "code",
      "source": [
        "while True:\n",
        "  try:\n",
        "    n = float(input('Informe um número!'))\n",
        "    print(f'Parabéns {n} é um número válido')\n",
        "    break\n",
        "  except:\n",
        "     print(f'Ops, parece que você não digitou um número valido!!tente novamente ')\n"
      ],
      "metadata": {
        "colab": {
          "base_uri": "https://localhost:8080/"
        },
        "id": "VrsIRJb-mBoo",
        "outputId": "b4a31d65-dd12-419c-9f0a-497943e97b64"
      },
      "execution_count": null,
      "outputs": [
        {
          "output_type": "stream",
          "name": "stdout",
          "text": [
            "Informe um número!f\n",
            "Ops, parece que você não digitou um número valido!!tente novamente \n",
            "Informe um número!8\n",
            "Parabéns 8.0 é um número válido\n"
          ]
        }
      ]
    },
    {
      "cell_type": "markdown",
      "source": [
        "## Funções"
      ],
      "metadata": {
        "id": "pBYY3Kd18EOA"
      }
    },
    {
      "cell_type": "code",
      "source": [
        "# Criando funções definidas pelo usuário\n",
        "#Função para calcular o índice de massa corporal\n",
        "def imc(peso, altura):\n",
        "    imc = peso/altura**2\n",
        "    return imc"
      ],
      "metadata": {
        "id": "mK4y79A8nmgr"
      },
      "execution_count": null,
      "outputs": []
    },
    {
      "cell_type": "code",
      "source": [
        "douglas = imc(altura=1.85,peso=80)\n",
        "print(f'O iMC de Douglas é {douglas:.2f}')"
      ],
      "metadata": {
        "colab": {
          "base_uri": "https://localhost:8080/"
        },
        "id": "EWC3KCzxxQwG",
        "outputId": "9a9f4e87-d3c8-46e2-bcaf-f4f397691957"
      },
      "execution_count": null,
      "outputs": [
        {
          "output_type": "stream",
          "name": "stdout",
          "text": [
            "O iMC de Douglas é 23.37\n"
          ]
        }
      ]
    },
    {
      "cell_type": "code",
      "source": [
        "peso = float(input('Informe o seu peso em Kg:'))\n",
        "altura = float(input('Informe a sua altura em metros'))"
      ],
      "metadata": {
        "colab": {
          "base_uri": "https://localhost:8080/"
        },
        "id": "Q2jxwzseyzye",
        "outputId": "1064b981-fa32-4432-8bfe-0166a6d45d72"
      },
      "execution_count": null,
      "outputs": [
        {
          "name": "stdout",
          "output_type": "stream",
          "text": [
            "Informe o seu peso em Kg:80\n",
            "Informe a sua altura em metros1.85\n"
          ]
        }
      ]
    },
    {
      "cell_type": "code",
      "source": [
        "imc(peso, altura)"
      ],
      "metadata": {
        "colab": {
          "base_uri": "https://localhost:8080/"
        },
        "id": "2UHFOz-8zPPT",
        "outputId": "53982370-495f-47fd-e884-fc3630b7d102"
      },
      "execution_count": null,
      "outputs": [
        {
          "output_type": "execute_result",
          "data": {
            "text/plain": [
              "23.37472607742878"
            ]
          },
          "metadata": {},
          "execution_count": 44
        }
      ]
    },
    {
      "cell_type": "code",
      "source": [
        "def imc():\n",
        "  peso = float(input('Informe seu peso em KG: '))\n",
        "  altura = float(input('Informe sua altura em metros:'))\n",
        "  imc = peso/altura**2\n",
        "  return imc\n"
      ],
      "metadata": {
        "id": "byc4s4VR0D7Y"
      },
      "execution_count": null,
      "outputs": []
    },
    {
      "cell_type": "code",
      "source": [
        "imc()"
      ],
      "metadata": {
        "colab": {
          "base_uri": "https://localhost:8080/"
        },
        "id": "tme0cpFo8QhP",
        "outputId": "5d811e61-b766-44c6-d68d-8ebf2990a43e"
      },
      "execution_count": null,
      "outputs": [
        {
          "name": "stdout",
          "output_type": "stream",
          "text": [
            "Informe seu peso em KG: 80\n",
            "Informe sua altura em metros:1.85\n"
          ]
        },
        {
          "output_type": "execute_result",
          "data": {
            "text/plain": [
              "23.37472607742878"
            ]
          },
          "metadata": {},
          "execution_count": 46
        }
      ]
    }
  ]
}