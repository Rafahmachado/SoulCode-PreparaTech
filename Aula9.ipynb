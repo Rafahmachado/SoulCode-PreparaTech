{
  "nbformat": 4,
  "nbformat_minor": 0,
  "metadata": {
    "colab": {
      "provenance": [],
      "authorship_tag": "ABX9TyNvlmy5i5mZU/zivs3W3on+",
      "include_colab_link": true
    },
    "kernelspec": {
      "name": "python3",
      "display_name": "Python 3"
    },
    "language_info": {
      "name": "python"
    }
  },
  "cells": [
    {
      "cell_type": "markdown",
      "metadata": {
        "id": "view-in-github",
        "colab_type": "text"
      },
      "source": [
        "<a href=\"https://colab.research.google.com/github/Rafahmachado/SoulCode-PreparaTech/blob/main/Aula9.ipynb\" target=\"_parent\"><img src=\"https://colab.research.google.com/assets/colab-badge.svg\" alt=\"Open In Colab\"/></a>"
      ]
    },
    {
      "cell_type": "markdown",
      "source": [
        "\n",
        "*Importando e utilizando módulo calc\n",
        "* Um módulo é um arquivo que contém uma coleção de funções relacionadas. O objeto de módulo contém as funções e variáveis definidas no módulo.\n"
      ],
      "metadata": {
        "id": "n7nJ4z9dpIVF"
      }
    },
    {
      "cell_type": "code",
      "execution_count": 1,
      "metadata": {
        "id": "UsKxG5KmpBTb"
      },
      "outputs": [],
      "source": [
        "'''\n",
        "fazer upload\n",
        "'''\n",
        "import calc\n",
        "\n"
      ]
    },
    {
      "cell_type": "code",
      "source": [
        "calc.imc()\n"
      ],
      "metadata": {
        "colab": {
          "base_uri": "https://localhost:8080/"
        },
        "id": "llO7-YS1p93j",
        "outputId": "4b2c6f37-c7ef-4246-8667-aef0f3d7c17e"
      },
      "execution_count": 2,
      "outputs": [
        {
          "name": "stdout",
          "output_type": "stream",
          "text": [
            "Informe seu peso em Kg: 80\n",
            "Informe a sua altura em metros: 1.85\n"
          ]
        },
        {
          "output_type": "execute_result",
          "data": {
            "text/plain": [
              "23.37472607742878"
            ]
          },
          "metadata": {},
          "execution_count": 2
        }
      ]
    },
    {
      "cell_type": "code",
      "source": [
        "calc.imc2(80,1.85)\n"
      ],
      "metadata": {
        "colab": {
          "base_uri": "https://localhost:8080/"
        },
        "id": "bSurH1eGqJfJ",
        "outputId": "f1868bc6-ba07-4644-e962-a31a005ae5f8"
      },
      "execution_count": 3,
      "outputs": [
        {
          "output_type": "execute_result",
          "data": {
            "text/plain": [
              "23.37472607742878"
            ]
          },
          "metadata": {},
          "execution_count": 3
        }
      ]
    },
    {
      "cell_type": "code",
      "source": [
        "calc.pmt()\n",
        "print(f'O valor das parcelas é R${calc.pmt()}')"
      ],
      "metadata": {
        "colab": {
          "base_uri": "https://localhost:8080/"
        },
        "id": "OJylIxkyqV8C",
        "outputId": "58b76676-255d-4a4e-f58b-7ddacf782e1c"
      },
      "execution_count": 4,
      "outputs": [
        {
          "name": "stdout",
          "output_type": "stream",
          "text": [
            "Informe o valor do financiamento em R$ 1000\n",
            "Informe a taxa de juros em % 5\n",
            "Informe o número de parcelas no mesmo período da taxa 4\n"
          ]
        },
        {
          "output_type": "execute_result",
          "data": {
            "text/plain": [
              "282.0118326034625"
            ]
          },
          "metadata": {},
          "execution_count": 4
        }
      ]
    },
    {
      "cell_type": "markdown",
      "source": [
        "# Módulo Numpy\n"
      ],
      "metadata": {
        "id": "rcdjlzJHyHOV"
      }
    },
    {
      "cell_type": "code",
      "source": [
        "import numpy as np # importando a biblioteca numpy\n",
        "\n",
        "\n"
      ],
      "metadata": {
        "id": "d-JmZWHfwlaf"
      },
      "execution_count": 5,
      "outputs": []
    },
    {
      "cell_type": "code",
      "source": [
        "notas = [5,6,7,8,9]# criando uma lista de notas"
      ],
      "metadata": {
        "id": "4pvUa9s323k9"
      },
      "execution_count": 10,
      "outputs": []
    },
    {
      "cell_type": "code",
      "source": [
        "media = np.mean(notas)#calculando a media da lista de notas\n",
        "print(media)\n",
        "desvio = np.std(notas)# caculando o desvio padrão da lista de notas\n",
        "print(desvio)"
      ],
      "metadata": {
        "colab": {
          "base_uri": "https://localhost:8080/"
        },
        "id": "v6O907qJ3RSF",
        "outputId": "4c32a1c2-23ca-43fc-e38e-a24a1fd96eb5"
      },
      "execution_count": 14,
      "outputs": [
        {
          "output_type": "stream",
          "name": "stdout",
          "text": [
            "7.0\n",
            "1.4142135623730951\n"
          ]
        }
      ]
    },
    {
      "cell_type": "code",
      "source": [
        "'''\n",
        "Elabore um programa que receba do usuário uma string com n notas\n",
        "e a a transforme em uma lista com as notas separada e tipadas como float,\n",
        "e após isso clacule a média e o desvio padrão,usando a biblioteca\n",
        "numpy,e no final apresente os valores de media e desvio padrão\n",
        "\n",
        "'''\n",
        "dados = input('Informe as notas separadas por espaços')\n",
        "notas = dados.split()\n",
        "for i in range(len(notas)):\n",
        "  notas[i]= float(notas[i])\n",
        "import numpy as np\n",
        "media = np.mean(notas)\n",
        "print(f'A média das notas informadas é: {media:.2f}')\n",
        "desvio = np.std(notas,ddof=1)\n",
        "print(f'O desvio padrão das notas informadas é : {desvio:.2f}')\n",
        "\n",
        "\n"
      ],
      "metadata": {
        "colab": {
          "base_uri": "https://localhost:8080/"
        },
        "id": "cehb_elI5JR7",
        "outputId": "f7e87a4e-b9ca-4890-ecf5-cb5b90bba0bc"
      },
      "execution_count": 19,
      "outputs": [
        {
          "output_type": "stream",
          "name": "stdout",
          "text": [
            "Informe as notas separadas por espaços5 6 7 8 9\n",
            "A média das notas informadas é: 7.00\n",
            "O desvio padrão das notas informadas é : 1.58\n"
          ]
        }
      ]
    }
  ]
}