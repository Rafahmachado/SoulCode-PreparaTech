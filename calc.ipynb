{
  "nbformat": 4,
  "nbformat_minor": 0,
  "metadata": {
    "colab": {
      "provenance": [],
      "authorship_tag": "ABX9TyNPvrqzi15ZhPrSKlxQLJZx",
      "include_colab_link": true
    },
    "kernelspec": {
      "name": "python3",
      "display_name": "Python 3"
    },
    "language_info": {
      "name": "python"
    }
  },
  "cells": [
    {
      "cell_type": "markdown",
      "metadata": {
        "id": "view-in-github",
        "colab_type": "text"
      },
      "source": [
        "<a href=\"https://colab.research.google.com/github/Rafahmachado/SoulCode-PreparaTech/blob/main/calc.ipynb\" target=\"_parent\"><img src=\"https://colab.research.google.com/assets/colab-badge.svg\" alt=\"Open In Colab\"/></a>"
      ]
    },
    {
      "cell_type": "code",
      "execution_count": null,
      "metadata": {
        "id": "LG8pX9thXCdk"
      },
      "outputs": [],
      "source": [
        "#def funcao():\n",
        "    #print(\"Bloco de código\")\n"
      ]
    },
    {
      "cell_type": "markdown",
      "source": [
        "Funções"
      ],
      "metadata": {
        "id": "k-eCyy2bdTIC"
      }
    },
    {
      "cell_type": "code",
      "source": [
        "'''\n",
        "Em Python, funções são blocos de códigos que poder ser escritos uma vez e\n",
        "reutilizados sempre que houver necessidade\n",
        "'''\n",
        "# Exemplo vamos criar uma função que calcule o imc de uma pessoa\n",
        "def imc ():\n",
        "  peso = float(input('Informe seu peso em Kg: '))\n",
        "  altura = float(input('Informe a sua altura em metros: '))\n",
        "  imc = peso/altura**2\n",
        "  return imc\n",
        "  # Exemplo vamos criar uma função que calcule o imc de uma pessoa de forma alternativa\n",
        "'''\n",
        "Agora vamos criar a função com os argumentos peso e altutra como obrigatórios\n",
        "'''\n",
        "def imc2(peso,altura):\n",
        "  imc2 = peso/altura**2\n",
        "  return imc2\n",
        "  # vamos criar uma função para calcular o valor das parcelas iguais de um financiamento\n",
        "\n",
        "def pmt():\n",
        "  pv = float(input('Informe o valor do financiamento em R$ '))\n",
        "  i = (float(input('Informe a taxa de juros em % ')))/100\n",
        "  n = int(input('Informe o número de parcelas no mesmo período da taxa '))\n",
        "  pmt = pv * (((1+i)**n * i) / ((1+i)**n - 1))\n",
        "  return pmt"
      ],
      "metadata": {
        "id": "drU8UJ6Ej_XV"
      },
      "execution_count": 19,
      "outputs": []
    },
    {
      "cell_type": "code",
      "source": [
        "imc2 (80,1.85)"
      ],
      "metadata": {
        "colab": {
          "base_uri": "https://localhost:8080/"
        },
        "id": "eqB9EccMhv-Q",
        "outputId": "6c45da42-b43f-4bbf-9c53-81bb520f94d9"
      },
      "execution_count": 14,
      "outputs": [
        {
          "output_type": "execute_result",
          "data": {
            "text/plain": [
              "23.37472607742878"
            ]
          },
          "metadata": {},
          "execution_count": 14
        }
      ]
    },
    {
      "cell_type": "code",
      "source": [
        "#transformando em módulo salva o arquivo em .py\n",
        "\n"
      ],
      "metadata": {
        "id": "DcrhcnDHirrP"
      },
      "execution_count": null,
      "outputs": []
    }
  ]
}